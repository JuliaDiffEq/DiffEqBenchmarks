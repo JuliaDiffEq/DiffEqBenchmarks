{
 "cells": [
  {
   "cell_type": "code",
   "execution_count": 1,
   "metadata": {},
   "outputs": [
    {
     "name": "stdout",
     "output_type": "stream",
     "text": [
      "[Turing]: AD chunk size is set as 40\n"
     ]
    }
   ],
   "source": [
    "using DiffEqBayes, ContinuousTransformations"
   ]
  },
  {
   "cell_type": "code",
   "execution_count": 2,
   "metadata": {
    "collapsed": true
   },
   "outputs": [],
   "source": [
    "using DifferentialEquations"
   ]
  },
  {
   "cell_type": "code",
   "execution_count": 14,
   "metadata": {
    "scrolled": false
   },
   "outputs": [
    {
     "data": {
      "text/plain": [
       "(::LotkaVolterraTest1) (generic function with 9 methods)"
      ]
     },
     "execution_count": 14,
     "metadata": {},
     "output_type": "execute_result"
    }
   ],
   "source": [
    "f1 = @ode_def_nohes LotkaVolterraTest1 begin\n",
    "  dx = a*x - x*y\n",
    "  dy = -3*y + x*y\n",
    "end a \n"
   ]
  },
  {
   "cell_type": "code",
   "execution_count": 15,
   "metadata": {},
   "outputs": [
    {
     "data": {
      "text/plain": [
       "DiffEqBase.ODEProblem with uType Array{Float64,1} and tType Float64. In-place: true\n",
       "timespan: (0.0, 10.0)\n",
       "u0: [1.0, 1.0]"
      ]
     },
     "execution_count": 15,
     "metadata": {},
     "output_type": "execute_result"
    }
   ],
   "source": [
    "p = [1.5]\n",
    "u0 = [1.0,1.0]\n",
    "tspan = (0.0,10.0)\n",
    "prob1 = ODEProblem(f1,u0,tspan,p)"
   ]
  },
  {
   "cell_type": "code",
   "execution_count": 16,
   "metadata": {},
   "outputs": [
    {
     "data": {
      "text/plain": [
       "retcode: Success\n",
       "Interpolation: specialized 4th order \"free\" interpolation\n",
       "t: 34-element Array{Float64,1}:\n",
       "  0.0      \n",
       "  0.0776085\n",
       "  0.232645 \n",
       "  0.429118 \n",
       "  0.679082 \n",
       "  0.944406 \n",
       "  1.26746  \n",
       "  1.61929  \n",
       "  1.98697  \n",
       "  2.26409  \n",
       "  2.51254  \n",
       "  2.74682  \n",
       "  3.038    \n",
       "  ⋮        \n",
       "  6.45576  \n",
       "  6.7805   \n",
       "  7.17104  \n",
       "  7.58486  \n",
       "  7.97806  \n",
       "  8.48316  \n",
       "  8.71924  \n",
       "  8.9492   \n",
       "  9.20018  \n",
       "  9.43802  \n",
       "  9.7118   \n",
       " 10.0      \n",
       "u: 34-element Array{Array{Float64,1},1}:\n",
       " [1.0, 1.0]         \n",
       " [1.04549, 0.857668]\n",
       " [1.17587, 0.63946] \n",
       " [1.41968, 0.456996]\n",
       " [1.87672, 0.324733]\n",
       " [2.58825, 0.263362]\n",
       " [3.86071, 0.279446]\n",
       " [5.75081, 0.522006]\n",
       " [6.81498, 1.91778] \n",
       " [4.39301, 4.19467] \n",
       " [2.10088, 4.31696] \n",
       " [1.24228, 3.10738] \n",
       " [0.958273, 1.76616]\n",
       " ⋮                  \n",
       " [0.952206, 1.43835]\n",
       " [1.10046, 0.752663]\n",
       " [1.59911, 0.390319]\n",
       " [2.61424, 0.26417] \n",
       " [4.24104, 0.305121]\n",
       " [6.79111, 1.1345]  \n",
       " [6.26541, 2.74165] \n",
       " [3.78084, 4.43114] \n",
       " [1.81645, 4.06409] \n",
       " [1.14652, 2.79124] \n",
       " [0.9558, 1.6236]   \n",
       " [1.03376, 0.906371]"
      ]
     },
     "execution_count": 16,
     "metadata": {},
     "output_type": "execute_result"
    }
   ],
   "source": [
    "σ = 0.01                         # noise, fixed for now\n",
    "t = collect(linspace(1,10,10))   # observation times\n",
    "sol = solve(prob1,Tsit5())"
   ]
  },
  {
   "cell_type": "code",
   "execution_count": 17,
   "metadata": {},
   "outputs": [
    {
     "data": {
      "text/plain": [
       "2×10 Array{Float64,2}:\n",
       " 2.77738   6.7805   0.955546  1.88195  …  4.36867   3.25085  1.03465 \n",
       " 0.261841  2.01177  1.89433   0.32465     0.318091  4.54783  0.908612"
      ]
     },
     "execution_count": 17,
     "metadata": {},
     "output_type": "execute_result"
    }
   ],
   "source": [
    "randomized = VectorOfArray([(sol(t[i]) + σ * randn(2)) for i in 1:length(t)])\n",
    "data = convert(Array,randomized)"
   ]
  },
  {
   "cell_type": "code",
   "execution_count": 18,
   "metadata": {},
   "outputs": [
    {
     "name": "stderr",
     "output_type": "stream",
     "text": [
      "\u001b[1m\u001b[33mWARNING: \u001b[39m\u001b[22m\u001b[33mInterrupted. Larger maxiters is needed.\u001b[39m\n",
      "\u001b[1m\u001b[33mWARNING: \u001b[39m\u001b[22m\u001b[33mInterrupted. Larger maxiters is needed.\u001b[39m\n",
      "\u001b[1m\u001b[33mWARNING: \u001b[39m\u001b[22m\u001b[33mInterrupted. Larger maxiters is needed.\u001b[39m\n",
      "\u001b[1m\u001b[33mWARNING: \u001b[39m\u001b[22m\u001b[33mInterrupted. Larger maxiters is needed.\u001b[39m\n",
      "\u001b[1m\u001b[33mWARNING: \u001b[39m\u001b[22m\u001b[33mInterrupted. Larger maxiters is needed.\u001b[39m\n",
      "\u001b[1m\u001b[33mWARNING: \u001b[39m\u001b[22m\u001b[33mInterrupted. Larger maxiters is needed.\u001b[39m\n",
      "\u001b[1m\u001b[33mWARNING: \u001b[39m\u001b[22m\u001b[33mInterrupted. Larger maxiters is needed.\u001b[39m\n",
      "\u001b[1m\u001b[33mWARNING: \u001b[39m\u001b[22m\u001b[33mInterrupted. Larger maxiters is needed.\u001b[39m\n",
      "\u001b[1m\u001b[33mWARNING: \u001b[39m\u001b[22m\u001b[33mInterrupted. Larger maxiters is needed.\u001b[39m\n"
     ]
    },
    {
     "data": {
      "text/plain": [
       "([1.50031, 1.50045, 1.50014, 1.50016, 1.50021, 1.50041, 1.50031, 1.50023, 1.50045, 1.50029  …  1.50038, 1.50034, 1.50045, 1.50047, 1.50042, 1.50052, 1.50032, 1.50051, 1.50061, 1.50068],)"
      ]
     },
     "execution_count": 18,
     "metadata": {},
     "output_type": "execute_result"
    }
   ],
   "source": [
    "bayesian_result = dynamichmc_inference(prob1, data, [Normal(1.5, 0.05)], t, [bridge(ℝ, ℝ⁺, )], [1.5])"
   ]
  },
  {
   "cell_type": "code",
   "execution_count": 19,
   "metadata": {},
   "outputs": [
    {
     "data": {
      "text/plain": [
       "(::LotkaVolterraTest4) (generic function with 9 methods)"
      ]
     },
     "execution_count": 19,
     "metadata": {},
     "output_type": "execute_result"
    }
   ],
   "source": [
    "f1 = @ode_def_nohes LotkaVolterraTest4 begin\n",
    "  dx = a*x - b*x*y\n",
    "  dy = -c*y + d*x*y\n",
    "end a b c d"
   ]
  },
  {
   "cell_type": "code",
   "execution_count": 20,
   "metadata": {},
   "outputs": [
    {
     "data": {
      "text/plain": [
       "retcode: Success\n",
       "Interpolation: specialized 4th order \"free\" interpolation\n",
       "t: 34-element Array{Float64,1}:\n",
       "  0.0      \n",
       "  0.0776085\n",
       "  0.232645 \n",
       "  0.429118 \n",
       "  0.679082 \n",
       "  0.944406 \n",
       "  1.26746  \n",
       "  1.61929  \n",
       "  1.98697  \n",
       "  2.26409  \n",
       "  2.51254  \n",
       "  2.74682  \n",
       "  3.038    \n",
       "  ⋮        \n",
       "  6.45576  \n",
       "  6.7805   \n",
       "  7.17104  \n",
       "  7.58486  \n",
       "  7.97806  \n",
       "  8.48316  \n",
       "  8.71924  \n",
       "  8.9492   \n",
       "  9.20018  \n",
       "  9.43802  \n",
       "  9.7118   \n",
       " 10.0      \n",
       "u: 34-element Array{Array{Float64,1},1}:\n",
       " [1.0, 1.0]         \n",
       " [1.04549, 0.857668]\n",
       " [1.17587, 0.63946] \n",
       " [1.41968, 0.456996]\n",
       " [1.87672, 0.324733]\n",
       " [2.58825, 0.263362]\n",
       " [3.86071, 0.279446]\n",
       " [5.75081, 0.522006]\n",
       " [6.81498, 1.91778] \n",
       " [4.39301, 4.19467] \n",
       " [2.10088, 4.31696] \n",
       " [1.24228, 3.10738] \n",
       " [0.958273, 1.76616]\n",
       " ⋮                  \n",
       " [0.952206, 1.43835]\n",
       " [1.10046, 0.752663]\n",
       " [1.59911, 0.390319]\n",
       " [2.61424, 0.26417] \n",
       " [4.24104, 0.305121]\n",
       " [6.79111, 1.1345]  \n",
       " [6.26541, 2.74165] \n",
       " [3.78084, 4.43114] \n",
       " [1.81645, 4.06409] \n",
       " [1.14652, 2.79124] \n",
       " [0.9558, 1.6236]   \n",
       " [1.03376, 0.906371]"
      ]
     },
     "execution_count": 20,
     "metadata": {},
     "output_type": "execute_result"
    }
   ],
   "source": [
    "u0 = [1.0,1.0]\n",
    "tspan = (0.0,10.0)\n",
    "p = [1.5,1.0,3.0,1.0]\n",
    "prob1 = ODEProblem(f1,u0,tspan,p)\n",
    "sol = solve(prob1,Tsit5())"
   ]
  },
  {
   "cell_type": "code",
   "execution_count": 21,
   "metadata": {},
   "outputs": [
    {
     "data": {
      "text/plain": [
       "2×10 Array{Float64,2}:\n",
       " 2.77604   6.77841  0.974737  1.87269   …  4.3736    3.24429  1.02587\n",
       " 0.256758  2.02121  1.88843   0.320446     0.332179  4.54545  0.92232"
      ]
     },
     "execution_count": 21,
     "metadata": {},
     "output_type": "execute_result"
    }
   ],
   "source": [
    "t = collect(linspace(1,10,10))\n",
    "randomized = VectorOfArray([(sol(t[i]) + .01randn(2)) for i in 1:length(t)])\n",
    "data = convert(Array,randomized)"
   ]
  },
  {
   "cell_type": "code",
   "execution_count": 22,
   "metadata": {},
   "outputs": [
    {
     "data": {
      "text/plain": [
       "4-element Array{Distributions.Truncated{Distributions.Normal{Float64},Distributions.Continuous},1}:\n",
       " Truncated(Distributions.Normal{Float64}(μ=1.5, σ=0.01), range=(0.0, 2.0))\n",
       " Truncated(Distributions.Normal{Float64}(μ=1.0, σ=0.01), range=(0.0, 1.5))\n",
       " Truncated(Distributions.Normal{Float64}(μ=3.0, σ=0.01), range=(0.0, 4.0))\n",
       " Truncated(Distributions.Normal{Float64}(μ=1.0, σ=0.01), range=(0.0, 2.0))"
      ]
     },
     "execution_count": 22,
     "metadata": {},
     "output_type": "execute_result"
    }
   ],
   "source": [
    "priors = [Truncated(Normal(1.5,0.01),0,2),Truncated(Normal(1.0,0.01),0,1.5),Truncated(Normal(3.0,0.01),0,4),Truncated(Normal(1.0,0.01),0,2)]"
   ]
  },
  {
   "cell_type": "code",
   "execution_count": 23,
   "metadata": {},
   "outputs": [
    {
     "data": {
      "text/plain": [
       "([1.50148, 1.50194, 1.50199, 1.50211, 1.50013, 1.50097, 1.50015, 1.50133, 1.49929, 1.50391  …  1.50562, 1.49604, 1.49554, 1.50135, 1.49805, 1.50005, 1.50263, 1.50319, 1.50356, 1.50431], [1.00042, 0.999501, 1.00133, 1.00215, 1.00185, 1.00168, 1.00095, 0.998637, 0.999105, 1.00036  …  1.0025, 0.997064, 0.996815, 1.00041, 0.99787, 0.999227, 1.00138, 1.00104, 1.00187, 1.00097], [2.99743, 2.9927, 2.99551, 2.99494, 3.00184, 2.99609, 2.99822, 2.9969, 3.0018, 2.98724  …  2.98229, 3.01303, 3.01443, 2.99494, 3.0058, 2.99984, 2.99396, 2.9909, 2.99015, 2.98875], [0.998174, 0.998388, 0.997283, 0.997211, 1.00011, 0.998958, 1.00048, 0.998434, 1.00133, 0.99639  …  0.994601, 1.00388, 1.00439, 0.999092, 1.00217, 0.999915, 0.997423, 0.996227, 0.995678, 0.994759])"
      ]
     },
     "execution_count": 23,
     "metadata": {},
     "output_type": "execute_result"
    }
   ],
   "source": [
    "bayesian_result = dynamichmc_inference(prob1, data, priors, t, [bridge(ℝ, ℝ⁺, ),bridge(ℝ, ℝ⁺, ),bridge(ℝ, ℝ, ),bridge(ℝ, ℝ⁺, )], [1.5,1.0,3.0,1.0])"
   ]
  },
  {
   "cell_type": "code",
   "execution_count": 24,
   "metadata": {},
   "outputs": [
    {
     "data": {
      "text/plain": [
       "(::LorenzExample) (generic function with 2 methods)"
      ]
     },
     "execution_count": 24,
     "metadata": {},
     "output_type": "execute_result"
    }
   ],
   "source": [
    "g1 = @ode_def_bare LorenzExample begin\n",
    "  dx = σ*(y-x)\n",
    "  dy = x*(ρ-z) - y\n",
    "  dz = x*y - β*z\n",
    "end σ ρ β "
   ]
  },
  {
   "cell_type": "code",
   "execution_count": 26,
   "metadata": {},
   "outputs": [
    {
     "data": {
      "text/plain": [
       "retcode: Success\n",
       "Interpolation: specialized 4th order \"free\" interpolation\n",
       "t: 20012-element Array{Float64,1}:\n",
       "  0.0        \n",
       "  0.000544175\n",
       "  0.000888278\n",
       "  0.00139295 \n",
       "  0.00186461 \n",
       "  0.00240418 \n",
       "  0.00295167 \n",
       "  0.00353285 \n",
       "  0.00412886 \n",
       "  0.00474486 \n",
       "  0.00537425 \n",
       "  0.00601712 \n",
       "  0.0066707  \n",
       "  ⋮          \n",
       " 29.9911     \n",
       " 29.9919     \n",
       " 29.9927     \n",
       " 29.9936     \n",
       " 29.9944     \n",
       " 29.9952     \n",
       " 29.9961     \n",
       " 29.9969     \n",
       " 29.9977     \n",
       " 29.9985     \n",
       " 29.9994     \n",
       " 30.0        \n",
       "u: 20012-element Array{Array{Float64,1},1}:\n",
       " [1.0, 0.0, 0.0]                   \n",
       " [0.994614, 0.0151916, 4.12066e-6] \n",
       " [0.991266, 0.0247516, 1.09379e-5] \n",
       " [0.986436, 0.0387087, 2.67483e-5] \n",
       " [0.982007, 0.0516854, 4.76837e-5] \n",
       " [0.977041, 0.066452, 7.8813e-5]   \n",
       " [0.97211, 0.0813512, 0.000118102] \n",
       " [0.966993, 0.0970767, 0.000168152]\n",
       " [0.961872, 0.113108, 0.000228247] \n",
       " [0.95671, 0.129579, 0.000299521]  \n",
       " [0.951573, 0.146307, 0.00038179]  \n",
       " [0.946468, 0.16329, 0.0004755]    \n",
       " [0.941422, 0.180451, 0.000580617] \n",
       " ⋮                                 \n",
       " [13.2147, 6.54706, 39.1498]       \n",
       " [13.1592, 6.42015, 39.1344]       \n",
       " [13.1032, 6.29406, 39.1174]       \n",
       " [13.0466, 6.1688, 39.0987]        \n",
       " [12.9894, 6.04439, 39.0785]       \n",
       " [12.9317, 5.92084, 39.0567]       \n",
       " [12.8735, 5.79817, 39.0333]       \n",
       " [12.8148, 5.6764, 39.0084]        \n",
       " [12.7555, 5.55553, 38.982]        \n",
       " [12.6957, 5.43558, 38.9541]       \n",
       " [12.6354, 5.31657, 38.9248]       \n",
       " [12.5885, 5.22515, 38.9011]       "
      ]
     },
     "execution_count": 26,
     "metadata": {},
     "output_type": "execute_result"
    }
   ],
   "source": [
    "r0 = [1.0; 0.0; 0.0]                \n",
    "tspan = (0.0, 30.0)\n",
    "p = [10.0,28.0,2.66]\n",
    "prob = ODEProblem(g1,r0,tspan,p)\n",
    "sol = solve(prob,Tsit5(),abstol=1e-12,reltol=1e-12)"
   ]
  },
  {
   "cell_type": "code",
   "execution_count": 27,
   "metadata": {},
   "outputs": [
    {
     "data": {
      "text/plain": [
       "3×30 Array{Float64,2}:\n",
       " -9.6397   -8.92413  -7.92899   -9.36641  …   2.35017   -6.28012  12.4816\n",
       " -9.72946  -8.62867  -6.82407  -10.9335       2.89584  -10.4864    4.8366\n",
       " 28.4289   25.4087   28.5238    27.1681      16.6217    12.3398   39.9208"
      ]
     },
     "execution_count": 27,
     "metadata": {},
     "output_type": "execute_result"
    }
   ],
   "source": [
    "t = collect(linspace(1,30,30))\n",
    "sig = 0.49\n",
    "data = convert(Array, VectorOfArray([(sol(t[i]) + sig*randn(3)) for i in 1:length(t)]))"
   ]
  },
  {
   "cell_type": "code",
   "execution_count": 12,
   "metadata": {},
   "outputs": [
    {
     "data": {
      "text/plain": [
       "3-element Array{Distributions.Truncated{Distributions.Normal{Float64},Distributions.Continuous},1}:\n",
       " Truncated(Distributions.Normal{Float64}(μ=10.0, σ=0.1), range=(1.0, 15.0))\n",
       " Truncated(Distributions.Normal{Float64}(μ=28.0, σ=0.1), range=(1.0, 45.0))\n",
       " Truncated(Distributions.Normal{Float64}(μ=2.66, σ=0.1), range=(1.0, 4.0)) "
      ]
     },
     "execution_count": 12,
     "metadata": {},
     "output_type": "execute_result"
    }
   ],
   "source": [
    "priors = [Truncated(Normal(10,0.1),1,15),Truncated(Normal(28,0.1),1,45),Truncated(Normal(2.66,0.1),1,4)]"
   ]
  },
  {
   "cell_type": "code",
   "execution_count": 13,
   "metadata": {},
   "outputs": [
    {
     "data": {
      "text/plain": [
       "([7.50219, 7.50219, 7.50219, 7.50219, 7.50219, 7.50219, 7.50219, 7.50219, 7.50219, 7.50219  …  7.50219, 7.50219, 7.50219, 7.50219, 7.50219, 7.50219, 7.50219, 7.50219, 7.50219, 7.50219], [21.4991, 21.4991, 21.4991, 21.4991, 21.4991, 21.4991, 21.4991, 21.4991, 21.4991, 21.4991  …  21.4991, 21.4991, 21.4991, 21.4991, 21.4991, 21.4991, 21.4991, 21.4991, 21.4991, 21.4991], [2.25267, 2.25267, 2.25267, 2.25267, 2.25267, 2.25267, 2.25267, 2.25267, 2.25267, 2.25267  …  2.25267, 2.25267, 2.25267, 2.25267, 2.25267, 2.25267, 2.25267, 2.25267, 2.25267, 2.25267])"
      ]
     },
     "execution_count": 13,
     "metadata": {},
     "output_type": "execute_result"
    }
   ],
   "source": [
    "bayesian_result = dynamichmc_inference(prob, data, priors, t, [bridge(ℝ, ℝ⁺, ),bridge(ℝ, ℝ⁺, ),bridge(ℝ, ℝ⁺, )], [10.0,28.0,3.0])"
   ]
  },
  {
   "cell_type": "code",
   "execution_count": null,
   "metadata": {
    "collapsed": true
   },
   "outputs": [],
   "source": []
  }
 ],
 "metadata": {
  "kernelspec": {
   "display_name": "Julia 0.6.0",
   "language": "julia",
   "name": "julia-0.6"
  },
  "language_info": {
   "file_extension": ".jl",
   "mimetype": "application/julia",
   "name": "julia",
   "version": "0.6.0"
  }
 },
 "nbformat": 4,
 "nbformat_minor": 2
}
