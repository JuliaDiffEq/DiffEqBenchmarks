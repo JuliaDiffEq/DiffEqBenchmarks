{
  "cells": [
    {
      "cell_type": "markdown",
      "source": [
        "# Wheldon, Kirk, and Finlay\n\nWe study algorithms for solving constant delay differential equations with a test problem from W.H. Enright and H. Hayashi, \"The evaluation of numerical software for delay differential equations\", 1997. It is a model of chronic granulocytic leukemia that was published by T. Wheldon, J. Kirk and H. Finlay in \"Cyclical granulopoiesis in chronic granulocytic leukemia: A simulation study\", 1974, and is given by\n```math\n\\begin{align}\ny_1'(t) &= \\frac{1.1}{1 + \\sqrt{10}y_1(t-20)^{5/4}} - \\frac{10y_1(t)}{1 + 40y_2(t)} \\\\\ny_2'(t) &= \\frac{100y_1(t)}{1 + 40y_2(t)} - 2.43y_2(t)\n\\end{align}\n```"
      ],
      "metadata": {}
    },
    {
      "outputs": [],
      "cell_type": "code",
      "source": [
        "using DelayDiffEq, DiffEqDevTools, DiffEqProblemLibrary, Plots\nusing DiffEqProblemLibrary.DDEProblemLibrary: importddeproblems; importddeproblems()\nimport DiffEqProblemLibrary.DDEProblemLibrary: prob_dde_wheldon\ngr()\n\nsol = solve(prob_dde_wheldon, MethodOfSteps(Vern9(), max_fixedpoint_iters=1000); reltol=1e-14, abstol=1e-14)\ntest_sol = TestSolution(sol)\nplot(sol)"
      ],
      "metadata": {},
      "execution_count": null
    },
    {
      "cell_type": "markdown",
      "source": [
        "## Low order RK methods\n\n### High tolerances\n\nFirst we compare final errors of solutions with low order RK methods at high tolerances."
      ],
      "metadata": {}
    },
    {
      "outputs": [],
      "cell_type": "code",
      "source": [
        "abstols = 1.0 ./ 10.0 .^ (4:7)\nreltols = 1.0 ./ 10.0 .^ (1:4)\n\nsetups = [Dict(:alg=>MethodOfSteps(BS3())),\n          Dict(:alg=>MethodOfSteps(Tsit5())),\n          Dict(:alg=>MethodOfSteps(RK4())),\n          Dict(:alg=>MethodOfSteps(DP5())),\n          Dict(:alg=>MethodOfSteps(OwrenZen3())),\n          Dict(:alg=>MethodOfSteps(OwrenZen4())),\n          Dict(:alg=>MethodOfSteps(OwrenZen5()))]\nnames = [\"BS3\", \"Tsit5\", \"RK4\", \"DP5\", \"OwrenZen3\", \"OwrenZen4\", \"OwrenZen5\"]\nwp = WorkPrecisionSet(prob_dde_wheldon,abstols,reltols,setups;names=names,\n                      appxsol=test_sol,maxiters=Int(1e5),error_estimate=:final)\nplot(wp)"
      ],
      "metadata": {},
      "execution_count": null
    },
    {
      "cell_type": "markdown",
      "source": [
        "Next we test interpolation errors:"
      ],
      "metadata": {}
    },
    {
      "outputs": [],
      "cell_type": "code",
      "source": [
        "abstols = 1.0 ./ 10.0 .^ (4:7)\nreltols = 1.0 ./ 10.0 .^ (1:4)\n\nsetups = [Dict(:alg=>MethodOfSteps(BS3())),\n          Dict(:alg=>MethodOfSteps(Tsit5())),\n          Dict(:alg=>MethodOfSteps(RK4())),\n          Dict(:alg=>MethodOfSteps(DP5())),\n          Dict(:alg=>MethodOfSteps(OwrenZen3())),\n          Dict(:alg=>MethodOfSteps(OwrenZen4())),\n          Dict(:alg=>MethodOfSteps(OwrenZen5()))]\nnames = [\"BS3\", \"Tsit5\", \"RK4\", \"DP5\", \"OwrenZen3\", \"OwrenZen4\", \"OwrenZen5\"]\nwp = WorkPrecisionSet(prob_dde_wheldon,abstols,reltols,setups;names=names,\n                      appxsol=test_sol,maxiters=Int(1e5),error_estimate=:L2)\nplot(wp)"
      ],
      "metadata": {},
      "execution_count": null
    },
    {
      "cell_type": "markdown",
      "source": [
        "Both interpolation tests and tests of final error show similar results. `BS3` does quite well but only `OwrenZen4`, `OwrenZen5`, and `RK4` achieve interpolation errors of about 1e-5.\n\n### Low tolerances\n\nWe repeat our tests at low tolerances."
      ],
      "metadata": {}
    },
    {
      "outputs": [],
      "cell_type": "code",
      "source": [
        "abstols = 1.0 ./ 10.0 .^ (8:11)\nreltols = 1.0 ./ 10.0 .^ (5:8)\n\nsetups = [Dict(:alg=>MethodOfSteps(BS3())),\n          Dict(:alg=>MethodOfSteps(Tsit5())),\n          Dict(:alg=>MethodOfSteps(RK4())),\n          Dict(:alg=>MethodOfSteps(DP5())),\n          Dict(:alg=>MethodOfSteps(OwrenZen3())),\n          Dict(:alg=>MethodOfSteps(OwrenZen4())),\n          Dict(:alg=>MethodOfSteps(OwrenZen5()))]\nnames = [\"BS3\", \"Tsit5\", \"RK4\", \"DP5\", \"OwrenZen3\", \"OwrenZen4\", \"OwrenZen5\"]\nwp = WorkPrecisionSet(prob_dde_wheldon,abstols,reltols,setups;names=names,\n                      appxsol=test_sol,maxiters=Int(1e5),error_estimate=:final)\nplot(wp)"
      ],
      "metadata": {},
      "execution_count": null
    },
    {
      "outputs": [],
      "cell_type": "code",
      "source": [
        "abstols = 1.0 ./ 10.0 .^ (8:11)\nreltols = 1.0 ./ 10.0 .^ (5:8)\n\nsetups = [Dict(:alg=>MethodOfSteps(BS3())),\n          Dict(:alg=>MethodOfSteps(Tsit5())),\n          Dict(:alg=>MethodOfSteps(RK4())),\n          Dict(:alg=>MethodOfSteps(DP5())),\n          Dict(:alg=>MethodOfSteps(OwrenZen3())),\n          Dict(:alg=>MethodOfSteps(OwrenZen4())),\n          Dict(:alg=>MethodOfSteps(OwrenZen5()))]\nnames = [\"BS3\", \"Tsit5\", \"RK4\", \"DP5\", \"OwrenZen3\", \"OwrenZen4\", \"OwrenZen5\"]\nwp = WorkPrecisionSet(prob_dde_wheldon,abstols,reltols,setups;names=names,\n                      appxsol=test_sol,maxiters=Int(1e5),error_estimate=:L2)\nplot(wp)"
      ],
      "metadata": {},
      "execution_count": null
    },
    {
      "cell_type": "markdown",
      "source": [
        "Out of the compared methods, `Tsit5`, `DP5`, and `OwrenZen5` seem to be the best methods for this problem at low tolerances, but also `OwrenZen4` performs similarly well. `OwrenZen5` and `OwrenZen4` can even achieve interpolation errors below 1e-9.\n\n## Lazy interpolants\n\n### High tolerances\n\nWe compare the Verner methods, which use lazy interpolants, at high tolerances. As reference we include `OwrenZen4`."
      ],
      "metadata": {}
    },
    {
      "outputs": [],
      "cell_type": "code",
      "source": [
        "abstols = 1.0 ./ 10.0 .^ (4:7)\nreltols = 1.0 ./ 10.0 .^ (1:4)\n\nsetups = [Dict(:alg=>MethodOfSteps(Vern6())),\n          Dict(:alg=>MethodOfSteps(Vern7())),\n          Dict(:alg=>MethodOfSteps(Vern8())),\n          Dict(:alg=>MethodOfSteps(Vern9())),\n          Dict(:alg=>MethodOfSteps(OwrenZen4()))]\nnames = [\"Vern6\", \"Vern7\", \"Vern8\", \"Vern9\", \"OwrenZen4\"]\nwp = WorkPrecisionSet(prob_dde_wheldon,abstols,reltols,setups;names=names,\n                      appxsol=test_sol,maxiters=Int(1e5),error_estimate=:final)\nplot(wp)"
      ],
      "metadata": {},
      "execution_count": null
    },
    {
      "outputs": [],
      "cell_type": "code",
      "source": [
        "abstols = 1.0 ./ 10.0 .^ (4:7)\nreltols = 1.0 ./ 10.0 .^ (1:4)\n\nsetups = [Dict(:alg=>MethodOfSteps(Vern6())),\n          Dict(:alg=>MethodOfSteps(Vern7())),\n          Dict(:alg=>MethodOfSteps(Vern8())),\n          Dict(:alg=>MethodOfSteps(Vern9())),\n          Dict(:alg=>MethodOfSteps(OwrenZen4()))]\nnames = [\"Vern6\", \"Vern7\", \"Vern8\", \"Vern9\", \"OwrenZen4\"]\nwp = WorkPrecisionSet(prob_dde_wheldon,abstols,reltols,setups;names=names,\n                      appxsol=test_sol,maxiters=Int(1e5),error_estimate=:L2)\nplot(wp)"
      ],
      "metadata": {},
      "execution_count": null
    },
    {
      "cell_type": "markdown",
      "source": [
        "### Low tolerances\n\nWe repeat these tests and compare the Verner methods also at low tolerances."
      ],
      "metadata": {}
    },
    {
      "outputs": [],
      "cell_type": "code",
      "source": [
        "abstols = 1.0 ./ 10.0 .^ (8:11)\nreltols = 1.0 ./ 10.0 .^ (5:8)\n\nsetups = [Dict(:alg=>MethodOfSteps(Vern6())),\n          Dict(:alg=>MethodOfSteps(Vern7())),\n          Dict(:alg=>MethodOfSteps(Vern8())),\n          Dict(:alg=>MethodOfSteps(Vern9())),\n          Dict(:alg=>MethodOfSteps(OwrenZen4()))]\nnames = [\"Vern6\", \"Vern7\", \"Vern8\", \"Vern9\", \"OwrenZen4\"]\nwp = WorkPrecisionSet(prob_dde_wheldon,abstols,reltols,setups;names=names,\n                      appxsol=test_sol,maxiters=Int(1e5),error_estimate=:final)\nplot(wp)"
      ],
      "metadata": {},
      "execution_count": null
    },
    {
      "outputs": [],
      "cell_type": "code",
      "source": [
        "abstols = 1.0 ./ 10.0 .^ (8:11)\nreltols = 1.0 ./ 10.0 .^ (5:8)\n\nsetups = [Dict(:alg=>MethodOfSteps(Vern6())),\n          Dict(:alg=>MethodOfSteps(Vern7())),\n          Dict(:alg=>MethodOfSteps(Vern8())),\n          Dict(:alg=>MethodOfSteps(Vern9())),\n          Dict(:alg=>MethodOfSteps(OwrenZen4()))]\nnames = [\"Vern6\", \"Vern7\", \"Vern8\", \"Vern9\", \"OwrenZen4\"]\nwp = WorkPrecisionSet(prob_dde_wheldon,abstols,reltols,setups;names=names,\n                      appxsol=test_sol,maxiters=Int(1e5),error_estimate=:L2)\nplot(wp)"
      ],
      "metadata": {},
      "execution_count": null
    },
    {
      "cell_type": "markdown",
      "source": [
        "It seems `Vern6` and `Vern7` are both well suited for the problem at low tolerances and outperform `OwrenZen4`, whereas at high tolerances `OwrenZen4` is more efficient."
      ],
      "metadata": {}
    },
    {
      "outputs": [],
      "cell_type": "code",
      "source": [
        "using DiffEqBenchmarks\nDiffEqBenchmarks.bench_footer(WEAVE_ARGS[:folder],WEAVE_ARGS[:file])"
      ],
      "metadata": {},
      "execution_count": null
    }
  ],
  "nbformat_minor": 2,
  "metadata": {
    "language_info": {
      "file_extension": ".jl",
      "mimetype": "application/julia",
      "name": "julia",
      "version": "1.4.2"
    },
    "kernelspec": {
      "name": "julia-1.4",
      "display_name": "Julia 1.4.2",
      "language": "julia"
    }
  },
  "nbformat": 4
}
