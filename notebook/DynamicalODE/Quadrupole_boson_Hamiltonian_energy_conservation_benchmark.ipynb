{
  "cells": [
    {
      "cell_type": "markdown",
      "source": [
        "In this notebook we will study the energy conservation properties of several high-order methods for a system with the following Hamiltonian:\n$$\n\\mathcal{H}\\left(q_0,q_2,p_0,p_2\\right) = \\frac{A}{2} \\left(p_0^2 + p_2^2 + q_0^2 + q_2^2\\right) + \\frac{B}{\\sqrt{2}} q_0 \\left(3q_2^2 - q_0^2\\right) + \\frac{D}{4} \\left(q_0^2+q_2^2\\right)^2\n$$\nThis Hamiltonian resembles the Hénon-Heiles one, but it has an additional fourth order term.\nThe aim of this benchmark is to see what happens with the energy error when highly accurate solutions are needed and how the results compare with the Hénon-Heiles case."
      ],
      "metadata": {}
    },
    {
      "outputs": [],
      "cell_type": "code",
      "source": [
        "using OrdinaryDiffEq, Plots, DiffEqCallbacks, LinearAlgebra\nusing TaylorIntegration\n\nT(p) = A / 2 * norm(p)^2\nV(q) = A / 2 * (q[1]^2 + q[2]^2) + B / √2 * q[1] * (3 * q[2]^2 - q[1]^2) + D / 4 * (q[1]^2 + q[2]^2)^2\nH(p, q, params) = T(p) + V(q)\n\nconst A, B, D = 1., 0.55, 0.4\n\nmodule InPlace\n    using ParameterizedFunctions\n\n    function q̇(dq, p, q, params, t)\n        dq[1] = A * p[1]\n        dq[2] = A * p[2]\n    end\n\n    function ṗ(dp, p, q, params, t)\n        dp[1] = -A * q[1] - 3 * B / √2 * (q[2]^2 - q[1]^2) - D * q[1] * (q[1]^2 + q[2]^2)\n        dp[2] = -q[2] * (A + 3 * √2 * B * q[1] + D * (q[1]^2 + q[2]^2))\n    end\n\n    const A, B, D = 1., 0.55, 0.4\n\n    const q0 = [4.919080920016389, 2.836942666663649]\n    const p0 = [0., 0.]\n    const u0 = vcat(p0,q0)\n\n    h_eqs = @ode_def HamiltEqs begin\n      dp₀ = -A * q₀ - 3 * B / √2 * (q₂^2 - q₀^2) - D * q₀ * (q₀^2 + q₂^2)\n      dp₂ = -q₂ * (A + 3 * √2 * B * q₀ + D * (q₀^2 + q₂^2))\n      dq₀ = A * p₀\n      dq₂ = A * p₂\n    end A B D\n\n    p = [1.0,0.55,0.4]\n\nend\n\nmodule OutOfPlace\n    using StaticArrays\n\n    function q̇(p, q, params, t)\n        p\n    end\n\n    function ṗ(p, q, params, t)\n        dp1 = -A * q[1] - 3 * B / √2 * (q[2]^2 - q[1]^2) - D * q[1] * (q[1]^2 + q[2]^2)\n        dp2 = -q[2] * (A + 3 * √2 * B * q[1] + D * (q[1]^2 + q[2]^2))\n        @SVector [dp1, dp2]\n    end\n\n    const A, B, D = 1., 0.55, 0.4\n\n    const q0 = @SVector [4.919080920016389, 2.836942666663649]\n    const p0 = @SVector [0., 0.]\n    const u0 = vcat(p0,q0)\n\n    h_eqs(z, params, t) = SVector(\n        -A * z[3] - 3 * B / √2 * (z[4]^2 - z[3]^2) - D * z[3] * (z[3]^2 + z[4]^2),\n        -z[4] * (A + 3 * √2 * B * z[3] + D * (z[3]^2 + z[4]^2)),\n        z[1],\n        z[2]\n    )\n\n    p = nothing\n\nend\n\nfunction g(resid,u)\n    resid[1] = H([u[1],u[2]],[u[3],u[4]],nothing) - E\n    resid[2:4] .= 0\nend\n\nconst E = H(InPlace.p0, InPlace.q0, InPlace.p)\nconst cb = ManifoldProjection(g, nlopts=Dict(:ftol=>1e-13))"
      ],
      "metadata": {},
      "execution_count": null
    },
    {
      "cell_type": "markdown",
      "source": [
        "For the comparison we will use the following function"
      ],
      "metadata": {}
    },
    {
      "outputs": [],
      "cell_type": "code",
      "source": [
        "energy_err(sol) = map(i->H([sol[1,i], sol[2,i]], [sol[3,i], sol[4,i]],nothing)-E, 1:length(sol.u))\nabs_energy_err(sol) = [abs.(H([sol[1,j], sol[2,j]], [sol[3,j], sol[4,j]],nothing) - E) for j=1:length(sol.u)]\n\nfunction compare(mode=InPlace, all=true, plt=nothing; tmax=1e2)\n    prob1 = DynamicalODEProblem(mode.ṗ,  mode.q̇, mode.p0, mode.q0, (0., tmax))\n    prob2 = ODEProblem(mode.h_eqs, mode.u0, (0., tmax), mode.p)\n\n    GC.gc()\n    (mode == InPlace  && all) && @time sol1 = solve(prob2, Vern9(), callback=cb, abstol=1e-14, reltol=1e-14)\n    GC.gc()\n    @time sol2 = solve(prob1, KahanLi8(), dt=1e-2, maxiters=1e10)\n    GC.gc()\n    @time sol3 = solve(prob1, SofSpa10(), dt=1e-2, maxiters=1e8)\n    GC.gc()\n    @time sol4 = solve(prob2, Vern9(), abstol=1e-14, reltol=1e-14)\n    GC.gc()\n    @time sol5 = solve(prob1, DPRKN12(), abstol=1e-14, reltol=1e-14)\n    GC.gc()\n    (mode == InPlace && all) && @time sol6 = solve(prob2, TaylorMethod(50), abstol=1e-20)\n\n    (mode == InPlace && all) && println(\"Vern9 + ManifoldProjection max energy error:\\t\"*\n        \"$(maximum(abs_energy_err(sol1)))\\tin\\t$(length(sol1.u))\\tsteps.\")\n    println(\"KahanLi8 max energy error:\\t\\t\\t$(maximum(abs_energy_err(sol2)))\\tin\\t$(length(sol2.u))\\tsteps.\")\n    println(\"SofSpa10 max energy error:\\t\\t\\t$(maximum(abs_energy_err(sol3)))\\tin\\t$(length(sol3.u))\\tsteps.\")\n    println(\"Vern9 max energy error:\\t\\t\\t\\t$(maximum(abs_energy_err(sol4)))\\tin\\t$(length(sol4.u))\\tsteps.\")\n    println(\"DPRKN12 max energy error:\\t\\t\\t$(maximum(abs_energy_err(sol5)))\\tin\\t$(length(sol5.u))\\tsteps.\")\n    (mode == InPlace && all) && println(\"TaylorMethod max energy error:\\t\\t\\t$(maximum(abs_energy_err(sol6)))\"*\n        \"\\tin\\t$(length(sol6.u))\\tsteps.\")\n\n    if plt == nothing\n        plt = plot(xlabel=\"t\", ylabel=\"Energy error\")\n    end\n\n    (mode == InPlace && all) && plot!(sol1.t, energy_err(sol1), label=\"Vern9 + ManifoldProjection\")\n    plot!(sol2.t, energy_err(sol2), label=\"KahanLi8\", ls=mode==InPlace ? :solid : :dash)\n    plot!(sol3.t, energy_err(sol3), label=\"SofSpa10\", ls=mode==InPlace ? :solid : :dash)\n    plot!(sol4.t, energy_err(sol4), label=\"Vern9\", ls=mode==InPlace ? :solid : :dash)\n    plot!(sol5.t, energy_err(sol5), label=\"DPRKN12\", ls=mode==InPlace ? :solid : :dash)\n    (mode == InPlace && all) && plot!(sol6.t, energy_err(sol6), label=\"TaylorMethod\")\n\n    return plt\nend"
      ],
      "metadata": {},
      "execution_count": null
    },
    {
      "cell_type": "markdown",
      "source": [
        "The `mode` argument choses between the in place approach\nand the out of place one. The `all` parameter is used to compare only the integrators that support both the in place and the out of place versions (we reffer here only to the 6 high order methods chosen bellow).\nThe `plt` argument can be used to overlay the results over a previous plot and the `tmax` keyword determines the simulation time.\n\nNote:\n1. The `Vern9` method is used with `ODEProblem` because of performance issues with `ArrayPartition` indexing which manifest for `DynamicalODEProblem`.\n2. The `NLsolve` call used by `ManifoldProjection` was modified to use `ftol=1e-13` in order to obtain a very low energy error.\n\nHere are the results of the comparisons between the in place methods:"
      ],
      "metadata": {}
    },
    {
      "outputs": [],
      "cell_type": "code",
      "source": [
        "compare(tmax=1e2)"
      ],
      "metadata": {},
      "execution_count": null
    },
    {
      "outputs": [],
      "cell_type": "code",
      "source": [
        "compare(tmax=1e3)"
      ],
      "metadata": {},
      "execution_count": null
    },
    {
      "outputs": [],
      "cell_type": "code",
      "source": [
        "compare(tmax=1e4)"
      ],
      "metadata": {},
      "execution_count": null
    },
    {
      "outputs": [],
      "cell_type": "code",
      "source": [
        "compare(tmax=2e4)"
      ],
      "metadata": {},
      "execution_count": null
    },
    {
      "cell_type": "markdown",
      "source": [
        "As we can see from the above plots, we can achieve a very low energy error for long time simulation by manifold projection and with very high order Taylor methods. In comparison with the Hénon-Heiles system we see that as the Hamiltonian got more complex, the energy error for the other integration methods increased significantly.\n\nWe will now compare the in place with the out of place versions. In the plots bellow we will use a dashed line for the out of place versions."
      ],
      "metadata": {}
    },
    {
      "outputs": [],
      "cell_type": "code",
      "source": [
        "function in_vs_out(;all=false, tmax=1e2)\n    println(\"In place versions:\")\n    plt = compare(InPlace, all, tmax=tmax)\n    println(\"\\nOut of place versions:\")\n    plt = compare(OutOfPlace, false, plt; tmax=tmax)\nend"
      ],
      "metadata": {},
      "execution_count": null
    },
    {
      "cell_type": "markdown",
      "source": [
        "First, here is a summary of all the available methods for `tmax = 1e3`:"
      ],
      "metadata": {}
    },
    {
      "outputs": [],
      "cell_type": "code",
      "source": [
        "in_vs_out(all=true, tmax=1e3)"
      ],
      "metadata": {},
      "execution_count": null
    },
    {
      "cell_type": "markdown",
      "source": [
        "Now we will compare the in place and the out of place versions, but only for the integrators that are compatible with `StaticArrays`"
      ],
      "metadata": {}
    },
    {
      "outputs": [],
      "cell_type": "code",
      "source": [
        "in_vs_out(tmax=1e2)"
      ],
      "metadata": {},
      "execution_count": null
    },
    {
      "outputs": [],
      "cell_type": "code",
      "source": [
        "in_vs_out(tmax=1e3)"
      ],
      "metadata": {},
      "execution_count": null
    },
    {
      "outputs": [],
      "cell_type": "code",
      "source": [
        "in_vs_out(tmax=1e4)"
      ],
      "metadata": {},
      "execution_count": null
    },
    {
      "outputs": [],
      "cell_type": "code",
      "source": [
        "in_vs_out(tmax=2e4)"
      ],
      "metadata": {},
      "execution_count": null
    },
    {
      "cell_type": "markdown",
      "source": [
        "As we see from the above comparisons, the `StaticArray` versions are significantly faster and use less memory. The speedup provided for the out of place version is more proeminent at larger values for `tmax`.\nWe can see again that if the simulation time is increased, the energy error of the symplectic methods is less noticeable compared to the rest of the methods.\nIn comparison with the Henon-Heiles case, we see that the symplectic methods are more competitive with `DPRKN12`."
      ],
      "metadata": {}
    },
    {
      "outputs": [],
      "cell_type": "code",
      "source": [
        "using DiffEqBenchmarks\nDiffEqBenchmarks.bench_footer(WEAVE_ARGS[:folder],WEAVE_ARGS[:file])"
      ],
      "metadata": {},
      "execution_count": null
    }
  ],
  "nbformat_minor": 2,
  "metadata": {
    "language_info": {
      "file_extension": ".jl",
      "mimetype": "application/julia",
      "name": "julia",
      "version": "1.4.2"
    },
    "kernelspec": {
      "name": "julia-1.4",
      "display_name": "Julia 1.4.2",
      "language": "julia"
    }
  },
  "nbformat": 4
}
