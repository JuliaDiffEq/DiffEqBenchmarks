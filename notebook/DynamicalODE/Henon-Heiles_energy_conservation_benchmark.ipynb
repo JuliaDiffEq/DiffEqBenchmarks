{
  "cells": [
    {
      "cell_type": "markdown",
      "source": [
        "In this notebook we will study the energy conservation properties of several high-order methods\nfor the Hénon–Heiles system.\nWe will se how the energy error behaves at very thight tolerances and how different techniques,\nsuch as using symplectic solvers or manifold projections, benchmark against each other.\nThe Hamiltonian for this system is given by:\n$$\n\\mathcal{H}=\\frac{1}{2}(p_1^2 + p_2^2) + \\frac{1}{2}\\left(q_1^2 + q_2^2 + 2q_1^2 q_2 - \\frac{2}{3}q_2^3\\right)\n$$\n\nWe will also compare the in place apporach with the out of place approach by using `Array`s\n(for the in place version) and `StaticArrays` (for out of place versions).\nIn order to separate these two, we will define the relevant functions and initial conditions\nin the `:inplace` and `OutofPlace` modules. In this way the rest of the code will work for both."
      ],
      "metadata": {}
    },
    {
      "outputs": [],
      "cell_type": "code",
      "source": [
        "using OrdinaryDiffEq, Plots, DiffEqCallbacks\nusing TaylorIntegration, LinearAlgebra\n\nT(p) = 1//2 * norm(p)^2\nV(q) = 1//2 * (q[1]^2 + q[2]^2 + 2q[1]^2 * q[2]- 2//3 * q[2]^3)\nH(p,q, params) = T(p) + V(q)\n\nfunction iip_q̇(dq,p,q,params,t)\n    dq[1] = p[1]\n    dq[2] = p[2]\nend\n\nfunction iip_ṗ(dp,p,q,params,t)\n    dp[1] = -q[1] * (1 + 2q[2])\n    dp[2] = -q[2] - (q[1]^2 - q[2]^2)\nend\n\niip_q0 = [0.1, 0.]\niip_p0 = [0., 0.5]\n\n\nfunction oop_q̇(p, q, params, t)\n    p\nend\n\nfunction oop_ṗ(p, q, params, t)\n    dp1 = -q[1] * (1 + 2q[2])\n    dp2 = -q[2] - (q[1]^2 - q[2]^2)\n    @SVector [dp1, dp2]\nend\n\noop_q0 = @SVector [0.1, 0.]\noop_p0 = @SVector [0., 0.5]\n\n\nfunction g(resid, u)\n    resid[1] = H([u[1],u[2]], [u[3],u[4]], nothing) - E\n    resid[2:4] .= 0\nend\n\nconst cb = ManifoldProjection(g, nlopts=Dict(:ftol=>1e-13))\n\nconst E = H(iip_p0, iip_q0, nothing)"
      ],
      "metadata": {},
      "execution_count": null
    },
    {
      "cell_type": "markdown",
      "source": [
        "For the comparison we will use the following function"
      ],
      "metadata": {}
    },
    {
      "outputs": [],
      "cell_type": "code",
      "source": [
        "energy_err(sol) = map(i->H([sol[1,i], sol[2,i]], [sol[3,i], sol[4,i]], nothing)-E, 1:length(sol.u))\nabs_energy_err(sol) = [abs.(H([sol[1,j], sol[2,j]], [sol[3,j], sol[4,j]], nothing) - E) for j=1:length(sol.u)]\n\nfunction compare(mode=:inplace, all=true, plt=nothing; tmax=1e2)\n    if mode == :inplace\n        prob = DynamicalODEProblem(iip_ṗ, iip_q̇, iip_p0, iip_q0, (0., tmax))\n    else\n        prob = DynamicalODEProblem(oop_ṗ, oop_q̇, oop_p0, oop_q0, (0., tmax))\n    end\n\n    GC.gc()\n    (mode == :inplace && all) && @time sol1 = solve(prob, Vern9(), callback=cb, abstol=1e-14, reltol=1e-14)\n    GC.gc()\n    @time sol2 = solve(prob, KahanLi8(), dt=1e-2, maxiters=1e10)\n    GC.gc()\n    @time sol3 = solve(prob, SofSpa10(), dt=1e-2, maxiters=1e8)\n    GC.gc()\n    @time sol4 = solve(prob, Vern9(), abstol=1e-14, reltol=1e-14)\n    GC.gc()\n    @time sol5 = solve(prob, DPRKN12(), abstol=1e-14, reltol=1e-14)\n    GC.gc()\n    (mode == :inplace && all) && @time sol6 = solve(prob, TaylorMethod(50), abstol=1e-20)\n\n    (mode == :inplace && all) && println(\"Vern9 + ManifoldProjection max energy error:\\t\"*\n        \"$(maximum(abs_energy_err(sol1)))\\tin\\t$(length(sol1.u))\\tsteps.\")\n    println(\"KahanLi8 max energy error:\\t\\t\\t$(maximum(abs_energy_err(sol2)))\\tin\\t$(length(sol2.u))\\tsteps.\")\n    println(\"SofSpa10 max energy error:\\t\\t\\t$(maximum(abs_energy_err(sol3)))\\tin\\t$(length(sol3.u))\\tsteps.\")\n    println(\"Vern9 max energy error:\\t\\t\\t\\t$(maximum(abs_energy_err(sol4)))\\tin\\t$(length(sol4.u))\\tsteps.\")\n    println(\"DPRKN12 max energy error:\\t\\t\\t$(maximum(abs_energy_err(sol5)))\\tin\\t$(length(sol5.u))\\tsteps.\")\n    (mode == :inplace && all) && println(\"TaylorMethod max energy error:\\t\\t\\t$(maximum(abs_energy_err(sol6)))\"*\n        \"\\tin\\t$(length(sol6.u))\\tsteps.\")\n\n    if plt === nothing\n        plt = plot(xlabel=\"t\", ylabel=\"Energy error\")\n    end\n    (mode == :inplace && all) && plot!(sol1.t, energy_err(sol1), label=\"Vern9 + ManifoldProjection\")\n    plot!(sol2.t, energy_err(sol2), label=\"KahanLi8\", ls=mode==:inplace ? :solid : :dash)\n    plot!(sol3.t, energy_err(sol3), label=\"SofSpa10\", ls=mode==:inplace ? :solid : :dash)\n    plot!(sol4.t, energy_err(sol4), label=\"Vern9\", ls=mode==:inplace ? :solid : :dash)\n    plot!(sol5.t, energy_err(sol5), label=\"DPRKN12\", ls=mode==:inplace ? :solid : :dash)\n    (mode == :inplace && all) && plot!(sol6.t, energy_err(sol6), label=\"TaylorMethod\")\n\n    return plt\nend"
      ],
      "metadata": {},
      "execution_count": null
    },
    {
      "cell_type": "markdown",
      "source": [
        "The `mode` argument choses between the in place approach\nand the out of place one. The `all` parameter is used to compare only the integrators that support both\nthe in place and the out of place versions (we reffer here only to the 6 high order methods chosen bellow).\nThe `plt` argument can be used to overlay the results over a previous plot and the `tmax` keyword determines\nthe simulation time.\n\nNote:\n1. The `Vern9` method is used with `ODEProblem` because of performance issues with `ArrayPartition` indexing which manifest for `DynamicalODEProblem`.\n2. The `NLsolve` call used by `ManifoldProjection` was modified to use `ftol=1e-13` in order to obtain a very low energy error.\n\nHere are the results of the comparisons between the in place methods:"
      ],
      "metadata": {}
    },
    {
      "outputs": [],
      "cell_type": "code",
      "source": [
        "compare(tmax=1e2)"
      ],
      "metadata": {},
      "execution_count": null
    },
    {
      "outputs": [],
      "cell_type": "code",
      "source": [
        "compare(tmax=1e3)"
      ],
      "metadata": {},
      "execution_count": null
    },
    {
      "outputs": [],
      "cell_type": "code",
      "source": [
        "compare(tmax=1e4)"
      ],
      "metadata": {},
      "execution_count": null
    },
    {
      "outputs": [],
      "cell_type": "code",
      "source": [
        "compare(tmax=5e4)"
      ],
      "metadata": {},
      "execution_count": null
    },
    {
      "cell_type": "markdown",
      "source": [
        "We can see that as the simulation time increases, the energy error increases. For this particular example\nthe energy error for all the methods is comparable. For relatively short simulation times,\nif a highly accurate solution is required, the symplectic method is not recommended as\nits energy error fluctuations are larger than for other methods.\nAn other thing to notice is the fact that the two versions of `Vern9` behave identically, as expected,\nuntill the energy error set by `ftol` is reached.\n\nWe will now compare the in place with the out of place versions. In the plots bellow we will use\na dashed line for the out of place versions."
      ],
      "metadata": {}
    },
    {
      "outputs": [],
      "cell_type": "code",
      "source": [
        "function in_vs_out(;all=false, tmax=1e2)\n    println(\"In place versions:\")\n    plt = compare(:inplace, all, tmax=tmax)\n    println(\"\\nOut of place versions:\")\n    plt = compare(:oop, false, plt; tmax=tmax)\nend"
      ],
      "metadata": {},
      "execution_count": null
    },
    {
      "cell_type": "markdown",
      "source": [
        "First, here is a summary of all the available methods for `tmax = 1e3`:"
      ],
      "metadata": {}
    },
    {
      "outputs": [],
      "cell_type": "code",
      "source": [
        "in_vs_out(all=true, tmax=1e3)"
      ],
      "metadata": {},
      "execution_count": null
    },
    {
      "cell_type": "markdown",
      "source": [
        "Now we will compare the in place and the out of place versions, but only for the integrators\nthat are compatible with `StaticArrays`"
      ],
      "metadata": {}
    },
    {
      "outputs": [],
      "cell_type": "code",
      "source": [
        "in_vs_out(tmax=1e2)"
      ],
      "metadata": {},
      "execution_count": null
    },
    {
      "outputs": [],
      "cell_type": "code",
      "source": [
        "in_vs_out(tmax=1e3)"
      ],
      "metadata": {},
      "execution_count": null
    },
    {
      "outputs": [],
      "cell_type": "code",
      "source": [
        "in_vs_out(tmax=1e4)"
      ],
      "metadata": {},
      "execution_count": null
    },
    {
      "outputs": [],
      "cell_type": "code",
      "source": [
        "in_vs_out(tmax=5e4)"
      ],
      "metadata": {},
      "execution_count": null
    },
    {
      "cell_type": "markdown",
      "source": [
        "As we see from the above comparisons, the `StaticArray` versions are significantly faster and use less memory.\nThe speedup provided for the out of place version is more proeminent at larger values for `tmax`.\nWe can see again that if the simulation time is increased, the energy error of the symplectic methods\nis less noticeable compared to the rest of the methods.\n\nThe benchmarks were performed on a machine with"
      ],
      "metadata": {}
    },
    {
      "outputs": [],
      "cell_type": "code",
      "source": [
        "using DiffEqBenchmarks\nDiffEqBenchmarks.bench_footer(WEAVE_ARGS[:folder],WEAVE_ARGS[:file])"
      ],
      "metadata": {},
      "execution_count": null
    }
  ],
  "nbformat_minor": 2,
  "metadata": {
    "language_info": {
      "file_extension": ".jl",
      "mimetype": "application/julia",
      "name": "julia",
      "version": "1.4.2"
    },
    "kernelspec": {
      "name": "julia-1.4",
      "display_name": "Julia 1.4.2",
      "language": "julia"
    }
  },
  "nbformat": 4
}
