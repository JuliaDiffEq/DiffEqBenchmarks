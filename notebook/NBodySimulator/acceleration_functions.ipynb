{
  "cells": [
    {
      "cell_type": "markdown",
      "source": [
        "Solving the equations of notions for an N-body problem implies solving a (large)\nsystem of differential equations. In `DifferentialEquations.jl` these are represented\nthrough ODE or SDE problems. To build the problem we need a function that\ndescribe the equations. In the case of N-body problems, this function\ngives the accelerations for the particles in the system.\n\nHere we will test the performance of several acceleration functions used\nin N-body simulations. The systems that will be used are not necesarly realistic\nas we are not solving the problem, we just time how fast is an acceleration\nfunction call."
      ],
      "metadata": {}
    },
    {
      "outputs": [],
      "cell_type": "code",
      "source": [
        "using BenchmarkTools, NBodySimulator\nusing NBodySimulator: gather_bodies_initial_coordinates, gather_accelerations_for_potentials,\n    gather_simultaneous_acceleration, gather_group_accelerations\nusing StaticArrays\n\nconst SUITE = BenchmarkGroup();\n\nfunction acceleration(simulation)\n\n    (u0, v0, n) = gather_bodies_initial_coordinates(simulation)\n\n    acceleration_functions = gather_accelerations_for_potentials(simulation)\n    simultaneous_acceleration = gather_simultaneous_acceleration(simulation)\n\n    function soode_system!(dv, v, u, p, t)\n        @inbounds for i = 1:n\n            a = MVector(0.0, 0.0, 0.0)\n            for acceleration! in acceleration_functions\n                acceleration!(a, u, v, t, i);\n            end\n            dv[:, i] .= a\n        end\n        for acceleration! in simultaneous_acceleration\n            acceleration!(dv, u, v, t);\n        end\n    end\n\n    return soode_system!\nend"
      ],
      "metadata": {},
      "execution_count": null
    },
    {
      "cell_type": "markdown",
      "source": [
        "## Gravitational potential"
      ],
      "metadata": {}
    },
    {
      "outputs": [],
      "cell_type": "code",
      "source": [
        "let SUITE=SUITE\n    G = 6.67e-11 # m^3/kg/s^2\n    N = 200 # number of bodies/particles\n    m = 1.0 # mass of each of them\n    v = 10.0 # mean velocity\n    L = 20.0 # size of the cell side\n\n    bodies = generate_bodies_in_cell_nodes(N, m, v, L)\n    g_parameters = GravitationalParameters(G)\n    system = PotentialNBodySystem(bodies, Dict(:gravitational => g_parameters))\n    tspan = (0.0, 1.0)\n    simulation = NBodySimulation(system, tspan)\n\n    f = acceleration(simulation)\n    u0, v0, n = gather_bodies_initial_coordinates(simulation)\n    dv = zero(v0)\n\n    b = @benchmarkable $f(dv, $v0, $u0, $g_parameters, 0.) setup=(dv=zero($v0)) evals=1\n\n    SUITE[\"gravitational\"] = b\nend"
      ],
      "metadata": {},
      "execution_count": null
    },
    {
      "cell_type": "markdown",
      "source": [
        "## Coulomb potential"
      ],
      "metadata": {}
    },
    {
      "outputs": [],
      "cell_type": "code",
      "source": [
        "let SUITE=SUITE\n    n = 200\n    bodies = ChargedParticle[]\n    L = 20.0\n    m = 1.0\n    q = 1.0\n    count = 1\n    dL = L / (ceil(n^(1 / 3)) + 1)\n    for x = dL / 2:dL:L, y = dL / 2:dL:L, z = dL / 2:dL:L\n        if count > n\n            break\n        end\n        r = SVector(x, y, z)\n        v = SVector(.0, .0, .0)\n        body = ChargedParticle(r, v, m, q)\n        push!(bodies, body)\n        count += 1\n    end\n\n    k = 9e9\n    τ = 0.01 * dL / sqrt(2 * k * q * q / (dL * m))\n    t1 = 0.0\n    t2 = 1000 * τ\n\n    potential = ElectrostaticParameters(k, 0.45 * L)\n    system = PotentialNBodySystem(bodies, Dict(:electrostatic => potential))\n    pbc = CubicPeriodicBoundaryConditions(L)\n    simulation = NBodySimulation(system, (t1, t2), pbc)\n\n    f = acceleration(simulation)\n    u0, v0, n = gather_bodies_initial_coordinates(simulation)\n    dv = zero(v0)\n\n    b = @benchmarkable $f(dv, $v0, $u0, $potential, 0.) setup=(dv=zero($v0)) evals=1\n\n    SUITE[\"coulomb\"] = b\nend"
      ],
      "metadata": {},
      "execution_count": null
    },
    {
      "cell_type": "markdown",
      "source": [
        "## Magnetic dipole potential"
      ],
      "metadata": {}
    },
    {
      "outputs": [],
      "cell_type": "code",
      "source": [
        "let SUITE=SUITE\n    n = 200\n    bodies = MagneticParticle[]\n    L = 20.0\n    m = 1.0\n    count = 1\n    dL = L / (ceil(n^(1 / 3)) + 1)\n    for x = dL / 2:dL:L, y = dL / 2:dL:L, z = dL / 2:dL:L\n        if count > n\n            break\n        end\n        r = SVector(x, y, z)\n        v = SVector(.0, .0, .0)\n        mm = rand(SVector{3})\n        body = MagneticParticle(r, v, m, mm)\n        push!(bodies, body)\n        count += 1\n    end\n\n    μ_4π = 1e-7\n    t1 = 0.0  # s\n    t2 = 1.0 # s\n    τ = (t2 - t1) / 100\n\n    parameters = MagnetostaticParameters(μ_4π)\n    system = PotentialNBodySystem(bodies, Dict(:magnetic => parameters))\n    simulation = NBodySimulation(system, (t1, t2))\n\n    f = acceleration(simulation)\n    u0, v0, n = gather_bodies_initial_coordinates(simulation)\n    dv = zero(v0)\n\n    b = @benchmarkable $f(dv, $v0, $u0, $parameters, 0.) setup=(dv=zero($v0)) evals=1\n\n    SUITE[\"magnetic_dipole\"] = b\nend"
      ],
      "metadata": {},
      "execution_count": null
    },
    {
      "cell_type": "markdown",
      "source": [
        "## Lennard Jones potential"
      ],
      "metadata": {}
    },
    {
      "outputs": [],
      "cell_type": "code",
      "source": [
        "let SUITE=SUITE\n    T = 120.0 # K\n    T0 = 90.0 # K\n    kb = 8.3144598e-3 # kJ/(K*mol)\n    ϵ = T * kb\n    σ = 0.34 # nm\n    ρ = 1374/1.6747# Da/nm^3\n    N = 200\n    m = 39.95# Da = 216 # number of bodies/particles\n    L = (m*N/ρ)^(1/3)#10.229σ\n    R = 0.5*L\n    v_dev = sqrt(kb * T / m)\n    bodies = generate_bodies_in_cell_nodes(N, m, v_dev, L)\n\n    τ = 0.5e-3 # ps or 1e-12 s\n    t1 = 0.0\n    t2 = 2000τ\n\n    lj_parameters = LennardJonesParameters(ϵ, σ, R)\n    lj_system = PotentialNBodySystem(bodies, Dict(:lennard_jones => lj_parameters));\n\n    pbc = CubicPeriodicBoundaryConditions(L)\n    simulation = NBodySimulation(lj_system, (t1, t2), pbc, kb)\n\n    f = acceleration(simulation)\n    u0, v0, n = gather_bodies_initial_coordinates(simulation)\n    dv = zero(v0)\n\n    b = @benchmarkable $f(dv, $v0, $u0, $lj_parameters, 0.) setup=(dv=zero($v0)) evals=1\n\n    SUITE[\"lennard_jones\"] = b\nend"
      ],
      "metadata": {},
      "execution_count": null
    },
    {
      "cell_type": "markdown",
      "source": [
        "## WaterSPCFw model"
      ],
      "metadata": {}
    },
    {
      "outputs": [],
      "cell_type": "code",
      "source": [
        "function acceleration(simulation::NBodySimulation{<:WaterSPCFw})\n\n    (u0, v0, n) = gather_bodies_initial_coordinates(simulation)\n\n    (o_acelerations, h_acelerations) = gather_accelerations_for_potentials(simulation)\n    group_accelerations = gather_group_accelerations(simulation)\n    simultaneous_acceleration = gather_simultaneous_acceleration(simulation)\n\n    function soode_system!(dv, v, u, p, t)\n        @inbounds for i = 1:n\n            a = MVector(0.0, 0.0, 0.0)\n            for acceleration! in o_acelerations\n                acceleration!(a, u, v, t, 3 * (i - 1) + 1);\n            end\n            dv[:, 3 * (i - 1) + 1]  .= a\n        end\n        @inbounds for i in 1:n, j in (2, 3)\n            a = MVector(0.0, 0.0, 0.0)\n            for acceleration! in h_acelerations\n                acceleration!(a, u, v, t, 3 * (i - 1) + j);\n            end\n            dv[:, 3 * (i - 1) + j]   .= a\n        end\n        @inbounds for i = 1:n\n            for acceleration! in group_accelerations\n                acceleration!(dv, u, v, t, i);\n            end\n        end\n        for acceleration! in simultaneous_acceleration\n            acceleration!(dv, u, v, t);\n        end\n    end\n\n    return soode_system!\nend\n\nlet SUITE=SUITE\n    T = 370 # K\n    T0 = 275 # K\n    kb = 8.3144598e-3 # kJ/(K*mol)\n    ϵOO = 0.1554253*4.184 # kJ\n    σOO = 0.3165492 # nm\n    ρ = 997/1.6747# Da/nm^3\n    mO = 15.999 # Da\n    mH = 1.00794 # Da\n    mH2O = mO+2*mH\n    N = 200\n    L = (mH2O*N/ρ)^(1/3)\n    R = 0.9 # ~3*σOO\n    Rel = 0.49*L\n    v_dev = sqrt(kb * T /mH2O)\n    τ = 0.5e-3 # ps\n    t1 = 0τ\n    t2 = 5τ # ps\n    k_bond = 1059.162*4.184*1e2 # kJ/(mol*nm^2)\n    k_angle = 75.90*4.184 # kJ/(mol*rad^2)\n    rOH = 0.1012 # nm\n    ∠HOH = 113.24*pi/180 # rad\n    qH = 0.41\n    qO = -0.82\n    k = 138.935458 #\n    bodies = generate_bodies_in_cell_nodes(N, mH2O, v_dev, L)\n    jl_parameters = LennardJonesParameters(ϵOO, σOO, R)\n    e_parameters = ElectrostaticParameters(k, Rel)\n    spc_parameters = SPCFwParameters(rOH, ∠HOH, k_bond, k_angle)\n    pbc = CubicPeriodicBoundaryConditions(L)\n    water = WaterSPCFw(bodies, mH, mO, qH, qO,  jl_parameters, e_parameters, spc_parameters);\n    simulation = NBodySimulation(water, (t1, t2), pbc, kb);\n\n    f = acceleration(simulation)\n    u0, v0, n = gather_bodies_initial_coordinates(simulation)\n    dv = zero(v0)\n\n    b = @benchmarkable $f(dv, $v0, $u0, $spc_parameters, 0.) setup=(dv=zero($v0)) evals=1\n\n    SUITE[\"water_spcfw\"] = b\nend"
      ],
      "metadata": {},
      "execution_count": null
    },
    {
      "cell_type": "markdown",
      "source": [
        "Here are the results of the benchmarks"
      ],
      "metadata": {}
    },
    {
      "outputs": [],
      "cell_type": "code",
      "source": [
        "r = run(SUITE)\n\nminimum(r)"
      ],
      "metadata": {},
      "execution_count": null
    },
    {
      "cell_type": "markdown",
      "source": [
        "and"
      ],
      "metadata": {}
    },
    {
      "outputs": [],
      "cell_type": "code",
      "source": [
        "memory(r)"
      ],
      "metadata": {},
      "execution_count": null
    }
  ],
  "nbformat_minor": 2,
  "metadata": {
    "language_info": {
      "file_extension": ".jl",
      "mimetype": "application/julia",
      "name": "julia",
      "version": "1.4.2"
    },
    "kernelspec": {
      "name": "julia-1.4",
      "display_name": "Julia 1.4.2",
      "language": "julia"
    }
  },
  "nbformat": 4
}
