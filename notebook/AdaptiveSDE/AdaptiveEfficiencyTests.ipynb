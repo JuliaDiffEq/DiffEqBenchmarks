{
  "cells": [
    {
      "outputs": [],
      "cell_type": "code",
      "source": [
        "using Distributed\naddprocs(2)\n\np1 = Vector{Any}(undef,3)\np2 = Vector{Any}(undef,3)\np3 = Vector{Any}(undef,3)\n\n@everywhere begin\n  using DiffEqMonteCarlo, StochasticDiffEq, DiffEqProblemLibrary, DiffEqNoiseProcess, Plots, ParallelDataTransfer\n  using DiffEqProblemLibrary.SDEProblemLibrary: importsdeproblems; importsdeproblems()\n  import DiffEqProblemLibrary.SDEProblemLibrary: prob_sde_additive,\n              prob_sde_linear, prob_sde_wave\nend\n\nusing DiffEqMonteCarlo, StochasticDiffEq, DiffEqProblemLibrary, DiffEqNoiseProcess, Plots, ParallelDataTransfer\nusing DiffEqProblemLibrary.SDEProblemLibrary: importsdeproblems; importsdeproblems()\nimport DiffEqProblemLibrary.SDEProblemLibrary: prob_sde_additive,\n            prob_sde_linear, prob_sde_wave\n\nprobs = Matrix{SDEProblem}(undef,3,3)\n## Problem 1\nprob = prob_sde_linear\nprobs[1,1] = SDEProblem(prob.f,prob.g,prob.u0,prob.tspan,prob.p,noise=WienerProcess(0.0,0.0,0.0,rswm=RSWM(adaptivealg=:RSwM1)))\nprobs[1,2] = SDEProblem(prob.f,prob.g,prob.u0,prob.tspan,prob.p,noise=WienerProcess(0.0,0.0,0.0,rswm=RSWM(adaptivealg=:RSwM2)))\nprobs[1,3] = SDEProblem(prob.f,prob.g,prob.u0,prob.tspan,prob.p,noise=WienerProcess(0.0,0.0,0.0,rswm=RSWM(adaptivealg=:RSwM3)))\n## Problem 2\nprob = prob_sde_wave\nprobs[2,1] = SDEProblem(prob.f,prob.g,prob.u0,prob.tspan,prob.p,noise=WienerProcess(0.0,0.0,0.0,rswm=RSWM(adaptivealg=:RSwM1)))\nprobs[2,2] = SDEProblem(prob.f,prob.g,prob.u0,prob.tspan,prob.p,noise=WienerProcess(0.0,0.0,0.0,rswm=RSWM(adaptivealg=:RSwM2)))\nprobs[2,3] = SDEProblem(prob.f,prob.g,prob.u0,prob.tspan,prob.p,noise=WienerProcess(0.0,0.0,0.0,rswm=RSWM(adaptivealg=:RSwM3)))\n## Problem 3\nprob = prob_sde_additive\nprobs[3,1] = SDEProblem(prob.f,prob.g,prob.u0,prob.tspan,prob.p,noise=WienerProcess(0.0,0.0,0.0,rswm=RSWM(adaptivealg=:RSwM1)))\nprobs[3,2] = SDEProblem(prob.f,prob.g,prob.u0,prob.tspan,prob.p,noise=WienerProcess(0.0,0.0,0.0,rswm=RSWM(adaptivealg=:RSwM2)))\nprobs[3,3] = SDEProblem(prob.f,prob.g,prob.u0,prob.tspan,prob.p,noise=WienerProcess(0.0,0.0,0.0,rswm=RSWM(adaptivealg=:RSwM3)))\n\nfullMeans = Vector{Array}(undef,3)\nfullMedians = Vector{Array}(undef,3)\nfullElapsed = Vector{Array}(undef,3)\nfullTols = Vector{Array}(undef,3)\noffset = 0\n\nNs = [17,23,\n17]"
      ],
      "metadata": {},
      "execution_count": null
    },
    {
      "cell_type": "markdown",
      "source": [
        "Timings are only valid if no workers die. Workers die if you run out of memory."
      ],
      "metadata": {}
    },
    {
      "outputs": [],
      "cell_type": "code",
      "source": [
        "for k in 1:size(probs,1)\n  global probs, Ns, fullMeans, fullMedians, fullElapsed, fullTols\n  println(\"Problem $k\")\n  ## Setup\n  N = Ns[k]\n\n  msims = Vector{Any}(undef,N)\n  elapsed = Array{Float64}(undef,N,3)\n  medians = Array{Float64}(undef,N,3)\n  means   = Array{Float64}(undef,N,3)\n  tols    = Array{Float64}(undef,N,3)\n\n  #Compile\n  prob = probs[k,1]\n  ParallelDataTransfer.sendto(workers(), prob=prob)\n  monte_prob = MonteCarloProblem(prob)\n  solve(monte_prob,SRIW1(),dt=1/2^(4),adaptive=true,num_monte=1000,abstol=2.0^(-1),reltol=0)\n\n  println(\"RSwM1\")\n  for i=1+offset:N+offset\n    tols[i-offset,1] = 2.0^(-i-1)\n    msims[i-offset] = DiffEqBase.calculate_monte_errors(solve(monte_prob,SRIW1(),\n                                            num_monte=1000,abstol=2.0^(-i-1),\n                                            reltol=0,force_dtmin=true))\n    elapsed[i-offset,1] = msims[i-offset].elapsedTime\n    medians[i-offset,1] = msims[i-offset].error_medians[:final]\n    means[i-offset,1]   = msims[i-offset].error_means[:final]\n  end\n\n  println(\"RSwM2\")\n  prob = probs[k,2]\n\n  ParallelDataTransfer.sendto(workers(), prob=prob)\n  monte_prob = MonteCarloProblem(prob)\n  solve(monte_prob,SRIW1(),dt=1/2^(4),adaptive=true,num_monte=1000,abstol=2.0^(-1),reltol=0)\n\n  for i=1+offset:N+offset\n    tols[i-offset,2] = 2.0^(-i-1)\n    msims[i-offset] = DiffEqBase.calculate_monte_errors(solve(monte_prob,SRIW1(),\n                                            num_monte=1000,abstol=2.0^(-i-1),\n                                            reltol=0,force_dtmin=true))\n    elapsed[i-offset,2] = msims[i-offset].elapsedTime\n    medians[i-offset,2] = msims[i-offset].error_medians[:final]\n    means[i-offset,2]   = msims[i-offset].error_means[:final]\n  end\n\n  println(\"RSwM3\")\n  prob = probs[k,3]\n  ParallelDataTransfer.sendto(workers(), prob=prob)\n  monte_prob = MonteCarloProblem(prob)\n  solve(monte_prob,SRIW1(),dt=1/2^(4),adaptive=true,num_monte=1000,abstol=2.0^(-1),reltol=0)\n\n  for i=1+offset:N+offset\n    tols[i-offset,3] = 2.0^(-i-1)\n        msims[i-offset] = DiffEqBase.calculate_monte_errors(solve(monte_prob,SRIW1(),\n                                    adaptive=true,num_monte=1000,abstol=2.0^(-i-1),\n                                    reltol=0,force_dtmin=true))\n    elapsed[i-offset,3] = msims[i-offset].elapsedTime\n    medians[i-offset,3] = msims[i-offset].error_medians[:final]\n    means[i-offset,3]   = msims[i-offset].error_means[:final]\n  end\n\n  fullMeans[k] = means\n  fullMedians[k] =medians\n  fullElapsed[k] = elapsed\n  fullTols[k] = tols\nend"
      ],
      "metadata": {},
      "execution_count": null
    },
    {
      "outputs": [],
      "cell_type": "code",
      "source": [
        "gr(fmt=:svg)\nlw=3\nleg=String[\"RSwM1\",\"RSwM2\",\"RSwM3\"]\n\ntitleFontSize = 16\nguideFontSize = 14\nlegendFontSize= 14\ntickFontSize  = 12\n\nfor k in 1:size(probs,1)\n  global probs, Ns, fullMeans, fullMedians, fullElapsed, fullTols\n  p1[k] = Plots.plot(fullTols[k],fullMeans[k],xscale=:log10,yscale=:log10,  xguide=\"Absolute Tolerance\",yguide=\"Mean Final Error\",title=\"Example $k\"  ,linewidth=lw,grid=false,lab=leg,titlefont=font(titleFontSize),legendfont=font(legendFontSize),tickfont=font(tickFontSize),guidefont=font(guideFontSize))\n  p2[k] = Plots.plot(fullTols[k],fullMedians[k],xscale=:log10,yscale=:log10,xguide=\"Absolute Tolerance\",yguide=\"Median Final Error\",title=\"Example $k\",linewidth=lw,grid=false,lab=leg,titlefont=font(titleFontSize),legendfont=font(legendFontSize),tickfont=font(tickFontSize),guidefont=font(guideFontSize))\n  p3[k] = Plots.plot(fullTols[k],fullElapsed[k],xscale=:log10,yscale=:log10,xguide=\"Absolute Tolerance\",yguide=\"Elapsed Time\",title=\"Example $k\"      ,linewidth=lw,grid=false,lab=leg,titlefont=font(titleFontSize),legendfont=font(legendFontSize),tickfont=font(tickFontSize),guidefont=font(guideFontSize))\nend\n\nPlots.plot!(p1[1])\nPlots.plot(p1[1],p1[2],p1[3],layout=(3,1),size=(1000,800))"
      ],
      "metadata": {},
      "execution_count": null
    },
    {
      "outputs": [],
      "cell_type": "code",
      "source": [
        "#savefig(\"meanvstol.png\")\n#savefig(\"meanvstol.pdf\")"
      ],
      "metadata": {},
      "execution_count": null
    },
    {
      "outputs": [],
      "cell_type": "code",
      "source": [
        "plot(p3[1],p3[2],p3[3],layout=(3,1),size=(1000,800))\n#savefig(\"timevstol.png\")\n#savefig(\"timevstol.pdf\")"
      ],
      "metadata": {},
      "execution_count": null
    },
    {
      "outputs": [],
      "cell_type": "code",
      "source": [
        "plot(p1[1],p3[1],p1[2],p3[2],p1[3],p3[3],layout=(3,2),size=(1000,800))"
      ],
      "metadata": {},
      "execution_count": null
    },
    {
      "outputs": [],
      "cell_type": "code",
      "source": [
        "using DiffEqBenchmarks\nDiffEqBenchmarks.bench_footer(WEAVE_ARGS[:folder],WEAVE_ARGS[:file])"
      ],
      "metadata": {},
      "execution_count": null
    }
  ],
  "nbformat_minor": 2,
  "metadata": {
    "language_info": {
      "file_extension": ".jl",
      "mimetype": "application/julia",
      "name": "julia",
      "version": "1.4.2"
    },
    "kernelspec": {
      "name": "julia-1.4",
      "display_name": "Julia 1.4.2",
      "language": "julia"
    }
  },
  "nbformat": 4
}
