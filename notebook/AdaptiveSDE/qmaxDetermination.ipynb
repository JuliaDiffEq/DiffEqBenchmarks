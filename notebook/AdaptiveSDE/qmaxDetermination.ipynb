{
  "cells": [
    {
      "outputs": [],
      "cell_type": "code",
      "source": [
        "qs = 1.0 .+ 2.0.^(-5:2)\ntimes = Array{Float64}(undef,length(qs),4)\nmeans = Array{Float64}(undef,length(qs),4)\n\nusing StochasticDiffEq, DiffEqProblemLibrary, Random,\n      Plots, ParallelDataTransfer, DiffEqMonteCarlo, Distributed\nRandom.seed!(99)\n\nusing DiffEqProblemLibrary.SDEProblemLibrary: importsdeproblems; importsdeproblems()\nfull_prob = DiffEqProblemLibrary.SDEProblemLibrary.oval2ModelExample(largeFluctuations=true,useBigs=false)\nimport DiffEqProblemLibrary.SDEProblemLibrary: prob_sde_additivesystem,\n            prob_sde_additive, prob_sde_2Dlinear, prob_sde_linear, prob_sde_wave\nprob = remake(full_prob,tspan=(0.0,1.0))\n\nprintln(\"Solve once to compile.\")\nsol = solve(prob,EM(),dt=1/2^(18))\nInt(sol.u[end][1]!=NaN)\nprintln(\"Compilation complete.\")\nnum_runs = 10000\n\nprobs = Vector{SDEProblem}(undef,3)\np1 = Vector{Any}(undef,3)\np2 = Vector{Any}(undef,3)\np3 = Vector{Any}(undef,3)\n## Problem 1\nprobs[1] = prob_sde_linear\n## Problem 2\nprobs[2] = prob_sde_wave\n## Problem 3\nprobs[3] = prob_sde_additive\n\nprintln(\"Setup Complete\")\n\n## Timing Runs\n\nfunction runAdaptive(i,k)\n  sol = solve(prob,SRIW1(),dt=1/2^(8),abstol=2.0^(-15),reltol=2.0^(-10),\n              verbose=false,maxIters=Int(1e12),qmax=qs[k])\n  Int(any(isnan,sol[end]) || sol.t[end] != 1)\nend\n\n#Compile\nmonte_prob = MonteCarloProblem(probs[1])\ntest_mc = solve(monte_prob,SRIW1(),dt=1/2^(4),adaptive=true,num_monte=1000,abstol=2.0^(-1),reltol=0)\nDiffEqBase.calculate_monte_errors(test_mc);"
      ],
      "metadata": {},
      "execution_count": null
    },
    {
      "cell_type": "markdown",
      "source": [
        "## qmax test on Oval2 Model"
      ],
      "metadata": {}
    },
    {
      "outputs": [],
      "cell_type": "code",
      "source": [
        "for k in eachindex(qs)\n  global times\n  Random.seed!(99)\n  adaptiveTime = @elapsed numFails = sum(map((i)->runAdaptive(i,k),1:num_runs))\n  println(\"k was $k. The number of Adaptive Fails is $numFails. Elapsed time was $adaptiveTime\")\n  times[k,4] = adaptiveTime\nend"
      ],
      "metadata": {},
      "execution_count": null
    },
    {
      "cell_type": "markdown",
      "source": [
        "## qmax test on other problems"
      ],
      "metadata": {}
    },
    {
      "outputs": [],
      "cell_type": "code",
      "source": [
        "for k in eachindex(probs)\n  global probs, times, means, qs\n  println(\"Problem $k\")\n  ## Setup\n  prob = probs[k]\n\n  for i in eachindex(qs)\n    msim = solve(monte_prob,dt=1/2^(4),SRIW1(),adaptive=true,num_monte=num_runs,abstol=2.0^(-13),reltol=0,qmax=qs[i])\n    test_msim = DiffEqBase.calculate_monte_errors(msim)\n    times[i,k] = test_msim.elapsedTime\n    means[i,k] = test_msim.error_means[:final]\n    println(\"for k=$k and i=$i, we get that the error was $(means[i,k]) and it took $(times[i,k]) seconds\")\n  end\nend"
      ],
      "metadata": {},
      "execution_count": null
    },
    {
      "outputs": [],
      "cell_type": "code",
      "source": [
        "using DiffEqBenchmarks\nDiffEqBenchmarks.bench_footer(WEAVE_ARGS[:folder],WEAVE_ARGS[:file])"
      ],
      "metadata": {},
      "execution_count": null
    }
  ],
  "nbformat_minor": 2,
  "metadata": {
    "language_info": {
      "file_extension": ".jl",
      "mimetype": "application/julia",
      "name": "julia",
      "version": "1.4.2"
    },
    "kernelspec": {
      "name": "julia-1.4",
      "display_name": "Julia 1.4.2",
      "language": "julia"
    }
  },
  "nbformat": 4
}
