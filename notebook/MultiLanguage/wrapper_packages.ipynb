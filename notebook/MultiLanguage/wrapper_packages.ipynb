{
  "cells": [
    {
      "cell_type": "markdown",
      "source": [
        "The following benchmarks demonstrate the performance differences due to using\nsimilar algorithms from wrapper packages in the main scripting languages across\na range of stiff and non-stiff ODEs. It takes into account solver time and\nerror in order to ensure correctness of interpretations. These were ran with\nJulia 1.3, MATLAB 2019B, deSolve 1.2.5, and SciPy 1.3.1.\n\nThese benchmarks are generated using the following bindings:\n\n- [MATLABDiffEq.jl](https://github.com/JuliaDiffEq/MATLABDiffEq.jl) (MATLAB)\n- [SciPyDiffEq.jl](https://github.com/JuliaDiffEq/SciPyDiffEq.jl) (SciPy)\n- [deSolveDiffEq.jl](https://github.com/JuliaDiffEq/deSolveDiffEq.jl) (deSolve)\n- [OrdinaryDiffEq.jl](https://github.com/JuliaDiffEq/OrdinaryDiffEq.jl) (OrdinaryDiffEq.jl)\n- [Sundials.jl](https://github.com/JuliaDiffEq/Sundials.jl) (Sundials)\n- [ODEInterfaceDiffEq.jl](https://github.com/JuliaDiffEq/ODEInterfaceDiffEq.jl) (Hairer and Netlib)\n\nThe respective repos verify negligible overhead on interop (MATLAB, ODEInterface,\nand Sundials overhead are negligable, SciPy is accelerated 3x over SciPy+Numba\nsetups due to the Julia JIT on the ODE function, deSolve sees a 3x overhead\nover the pure-R version). Error and timing is compared together to ensure\nthe methods are solving to the same accuracy when compared.\n\nMore wrappers will continue to be added as necessary.\n\n## Setup"
      ],
      "metadata": {}
    },
    {
      "outputs": [],
      "cell_type": "code",
      "source": [
        "using ParameterizedFunctions, MATLABDiffEq, OrdinaryDiffEq, ODEInterface,\n      ODEInterfaceDiffEq, Plots, Sundials, SciPyDiffEq, deSolveDiffEq\nusing DiffEqDevTools\nusing LinearAlgebra"
      ],
      "metadata": {},
      "execution_count": null
    },
    {
      "cell_type": "markdown",
      "source": [
        "#### Non-Stiff Problem 1: Lotka-Volterra"
      ],
      "metadata": {}
    },
    {
      "outputs": [],
      "cell_type": "code",
      "source": [
        "f = @ode_def_bare LotkaVolterra begin\n  dx = a*x - b*x*y\n  dy = -c*y + d*x*y\nend a b c d\np = [1.5,1,3,1]\ntspan = (0.0,10.0)\nu0 = [1.0,1.0]\nprob = ODEProblem(f,u0,tspan,p)\nsol = solve(prob,Vern7(),abstol=1/10^14,reltol=1/10^14)\ntest_sol = TestSolution(sol)\n\nsetups = [Dict(:alg=>DP5())\n          Dict(:alg=>dopri5())\n          Dict(:alg=>Tsit5())\n          Dict(:alg=>Vern7())\n          Dict(:alg=>MATLABDiffEq.ode45())\n          Dict(:alg=>MATLABDiffEq.ode113())\n          Dict(:alg=>SciPyDiffEq.RK45())\n          Dict(:alg=>SciPyDiffEq.LSODA())\n          Dict(:alg=>SciPyDiffEq.odeint())\n          Dict(:alg=>deSolveDiffEq.lsoda())\n          Dict(:alg=>deSolveDiffEq.ode45())\n          Dict(:alg=>CVODE_Adams())\n  ]\n\nnames = [\n  \"Julia: DP5\"\n  \"Hairer: dopri5\"\n  \"Julia: Tsit5\"\n  \"Julia: Vern7\"\n  \"MATLAB: ode45\"\n  \"MATLAB: ode113\"\n  \"SciPy: RK45\"\n  \"SciPy: LSODA\"\n  \"SciPy: odeint\"\n  \"deSolve: lsoda\"\n  \"deSolve: ode45\"\n  \"Sundials: Adams\"\n  ]\n\nabstols = 1.0 ./ 10.0 .^ (6:13)\nreltols = 1.0 ./ 10.0 .^ (3:10)\nwp = WorkPrecisionSet(prob,abstols,reltols,setups;\n                      names = names,\n                      appxsol=test_sol,dense=false,\n                      save_everystep=false,numruns=100,maxiters=10000000,\n                      timeseries_errors=false,verbose=false)\nplot(wp,title=\"Non-stiff 1: Lotka-Volterra\")"
      ],
      "metadata": {},
      "execution_count": null
    },
    {
      "cell_type": "markdown",
      "source": [
        "#### Non-Stiff Problem 2: Rigid Body"
      ],
      "metadata": {}
    },
    {
      "outputs": [],
      "cell_type": "code",
      "source": [
        "f = @ode_def_bare RigidBodyBench begin\n  dy1  = -2*y2*y3\n  dy2  = 1.25*y1*y3\n  dy3  = -0.5*y1*y2 + 0.25*sin(t)^2\nend\nprob = ODEProblem(f,[1.0;0.0;0.9],(0.0,100.0))\nsol = solve(prob,Vern7(),abstol=1/10^14,reltol=1/10^14)\ntest_sol = TestSolution(sol)\n\nsetups = [Dict(:alg=>DP5())\n          Dict(:alg=>dopri5())\n          Dict(:alg=>Tsit5())\n          Dict(:alg=>Vern7())\n          Dict(:alg=>MATLABDiffEq.ode45())\n          Dict(:alg=>MATLABDiffEq.ode113())\n          Dict(:alg=>SciPyDiffEq.RK45())\n          Dict(:alg=>SciPyDiffEq.LSODA())\n          Dict(:alg=>SciPyDiffEq.odeint())\n          Dict(:alg=>deSolveDiffEq.lsoda())\n          Dict(:alg=>deSolveDiffEq.ode45())\n          Dict(:alg=>CVODE_Adams())\n  ]\n\nnames = [\n  \"Julia: DP5\"\n  \"Hairer: dopri5\"\n  \"Julia: Tsit5\"\n  \"Julia: Vern7\"\n  \"MATLAB: ode45\"\n  \"MATLAB: ode113\"\n  \"SciPy: RK45\"\n  \"SciPy: LSODA\"\n  \"SciPy: odeint\"\n  \"deSolve: lsoda\"\n  \"deSolve: ode45\"\n  \"Sundials: Adams\"\n  ]\n\nabstols = 1.0 ./ 10.0 .^ (6:13)\nreltols = 1.0 ./ 10.0 .^ (3:10)\nwp = WorkPrecisionSet(prob,abstols,reltols,setups;\n                      names = names,\n                      appxsol=test_sol,dense=false,\n                      save_everystep=false,numruns=100,maxiters=10000000,\n                      timeseries_errors=false,verbose=false)\nplot(wp,title=\"Non-stiff 2: Rigid-Body\")"
      ],
      "metadata": {},
      "execution_count": null
    },
    {
      "cell_type": "markdown",
      "source": [
        "#### Stiff Problem 1: ROBER"
      ],
      "metadata": {}
    },
    {
      "outputs": [],
      "cell_type": "code",
      "source": [
        "rober = @ode_def begin\n  dy₁ = -k₁*y₁+k₃*y₂*y₃\n  dy₂ =  k₁*y₁-k₂*y₂^2-k₃*y₂*y₃\n  dy₃ =  k₂*y₂^2\nend k₁ k₂ k₃\nprob = ODEProblem(rober,[1.0,0.0,0.0],(0.0,1e5),[0.04,3e7,1e4])\nsol = solve(prob,CVODE_BDF(),abstol=1/10^14,reltol=1/10^14)\ntest_sol = TestSolution(sol)\n\nabstols = 1.0 ./ 10.0 .^ (7:8)\nreltols = 1.0 ./ 10.0 .^ (3:4);\n\nsetups = [Dict(:alg=>Rosenbrock23())\n          Dict(:alg=>TRBDF2())\n          Dict(:alg=>RadauIIA5())\n          Dict(:alg=>rodas())\n          Dict(:alg=>radau())\n          Dict(:alg=>MATLABDiffEq.ode23s())\n          Dict(:alg=>MATLABDiffEq.ode15s())\n          Dict(:alg=>SciPyDiffEq.LSODA())\n          Dict(:alg=>SciPyDiffEq.BDF())\n          Dict(:alg=>SciPyDiffEq.odeint())\n          Dict(:alg=>deSolveDiffEq.lsoda())\n          Dict(:alg=>CVODE_BDF())\n          ]\n\nnames = [\n  \"Julia: Rosenbrock23\"\n  \"Julia: TRBDF2\"\n  \"Julia: radau\"\n  \"Hairer: rodas\"\n  \"Hairer: radau\"\n  \"MATLAB: ode23s\"\n  \"MATLAB: ode15s\"\n  \"SciPy: LSODA\"\n  \"SciPy: BDF\"\n  \"SciPy: odeint\"\n  \"deSolve: lsoda\"\n  \"Sundials: CVODE\"\n  ]\n\nwp = WorkPrecisionSet(prob,abstols,reltols,setups;\n                      names = names,print_names = true,\n                      dense=false,verbose = false,\n                      save_everystep=false,appxsol=test_sol,\n                      maxiters=Int(1e5))\nplot(wp,title=\"Stiff 1: ROBER\", legend=:topleft)"
      ],
      "metadata": {},
      "execution_count": null
    },
    {
      "cell_type": "markdown",
      "source": [
        "#### Stiff Problem 2: HIRES"
      ],
      "metadata": {}
    },
    {
      "outputs": [],
      "cell_type": "code",
      "source": [
        "f = @ode_def Hires begin\n  dy1 = -1.71*y1 + 0.43*y2 + 8.32*y3 + 0.0007\n  dy2 = 1.71*y1 - 8.75*y2\n  dy3 = -10.03*y3 + 0.43*y4 + 0.035*y5\n  dy4 = 8.32*y2 + 1.71*y3 - 1.12*y4\n  dy5 = -1.745*y5 + 0.43*y6 + 0.43*y7\n  dy6 = -280.0*y6*y8 + 0.69*y4 + 1.71*y5 -\n           0.43*y6 + 0.69*y7\n  dy7 = 280.0*y6*y8 - 1.81*y7\n  dy8 = -280.0*y6*y8 + 1.81*y7\nend\n\nu0 = zeros(8)\nu0[1] = 1\nu0[8] = 0.0057\nprob = ODEProblem(f,u0,(0.0,321.8122))\n\nsol = solve(prob,Rodas5(),abstol=1/10^14,reltol=1/10^14)\ntest_sol = TestSolution(sol)\n\nabstols = 1.0 ./ 10.0 .^ (5:8)\nreltols = 1.0 ./ 10.0 .^ (1:4);\n\nsetups = [Dict(:alg=>Rosenbrock23())\n          Dict(:alg=>TRBDF2())\n          Dict(:alg=>RadauIIA5())\n          Dict(:alg=>rodas())\n          Dict(:alg=>radau())\n          Dict(:alg=>MATLABDiffEq.ode23s())\n          Dict(:alg=>MATLABDiffEq.ode15s())\n          Dict(:alg=>SciPyDiffEq.LSODA())\n          Dict(:alg=>SciPyDiffEq.BDF())\n          Dict(:alg=>SciPyDiffEq.odeint())\n          Dict(:alg=>deSolveDiffEq.lsoda())\n          Dict(:alg=>CVODE_BDF())\n          ]\n\nnames = [\n  \"Julia: Rosenbrock23\"\n  \"Julia: TRBDF2\"\n  \"Julia: radau\"\n  \"Hairer: rodas\"\n  \"Hairer: radau\"\n  \"MATLAB: ode23s\"\n  \"MATLAB: ode15s\"\n  \"SciPy: LSODA\"\n  \"SciPy: BDF\"\n  \"SciPy: odeint\"\n  \"deSolve: lsoda\"\n  \"Sundials: CVODE\"\n  ]\n\nwp = WorkPrecisionSet(prob,abstols,reltols,setups;\n                      names = names,print_names = true,\n                      save_everystep=false,appxsol=test_sol,\n                      maxiters=Int(1e5),numruns=100)\nplot(wp,title=\"Stiff 2: Hires\",legend=:topleft)"
      ],
      "metadata": {},
      "execution_count": null
    }
  ],
  "nbformat_minor": 2,
  "metadata": {
    "language_info": {
      "file_extension": ".jl",
      "mimetype": "application/julia",
      "name": "julia",
      "version": "1.4.2"
    },
    "kernelspec": {
      "name": "julia-1.4",
      "display_name": "Julia 1.4.2",
      "language": "julia"
    }
  },
  "nbformat": 4
}
