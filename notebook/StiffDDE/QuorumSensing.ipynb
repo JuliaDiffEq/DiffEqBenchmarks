{
  "cells": [
    {
      "cell_type": "markdown",
      "source": [
        "# Quorum Sensing\n\nHere we test a model of quorum sensing of Pseudomonas putida IsoF in continuous cultures with constant\ndelay which was published by K. Buddrus-Schiemann et al. in \"Analysis of N-Acylhomoserine Lactone Dynamics in Continuous\nCultures of Pseudomonas Putida IsoF By Use of ELISA and UHPLC/qTOF-MS-derived Measurements\nand Mathematical Models\", Analytical and Bioanalytical Chemistry, 2014."
      ],
      "metadata": {}
    },
    {
      "outputs": [],
      "cell_type": "code",
      "source": [
        "using DelayDiffEq, DiffEqDevTools, DiffEqProblemLibrary, Plots\nusing DiffEqProblemLibrary.DDEProblemLibrary: importddeproblems; importddeproblems()\nimport DiffEqProblemLibrary.DDEProblemLibrary: prob_dde_qs\ngr()\n\nsol = solve(prob_dde_qs, MethodOfSteps(Vern9(); fpsolve = NLFunctional(; max_iter = 1000)); reltol=1e-14, abstol=1e-14)\nplot(sol)"
      ],
      "metadata": {},
      "execution_count": null
    },
    {
      "cell_type": "markdown",
      "source": [
        "Particularly, we are interested in the third, low-level component of the system:"
      ],
      "metadata": {}
    },
    {
      "outputs": [],
      "cell_type": "code",
      "source": [
        "sol = solve(prob_dde_qs, MethodOfSteps(Vern9(); fpsolve = NLFunctional(; max_iter = 1000)); reltol=1e-14, abstol=1e-14, save_idxs=3)\ntest_sol = TestSolution(sol)\nplot(sol)"
      ],
      "metadata": {},
      "execution_count": null
    },
    {
      "cell_type": "markdown",
      "source": [
        "## Qualitative comparisons\n\nFirst we compare the quality of the solution's third component for different algorithms, using the default tolerances.\n\n### RK methods"
      ],
      "metadata": {}
    },
    {
      "outputs": [],
      "cell_type": "code",
      "source": [
        "sol = solve(prob_dde_qs, MethodOfSteps(BS3()); reltol=1e-3, abstol=1e-6, save_idxs=3)\np = plot(sol);\nscatter!(p,sol.t, sol.u)\np"
      ],
      "metadata": {},
      "execution_count": null
    },
    {
      "outputs": [],
      "cell_type": "code",
      "source": [
        "sol = solve(prob_dde_qs, MethodOfSteps(Tsit5()); reltol=1e-3, abstol=1e-6, save_idxs=3)\np = plot(sol);\nscatter!(p,sol.t, sol.u)\np"
      ],
      "metadata": {},
      "execution_count": null
    },
    {
      "outputs": [],
      "cell_type": "code",
      "source": [
        "sol = solve(prob_dde_qs, MethodOfSteps(RK4()); reltol=1e-3, abstol=1e-6, save_idxs=3)\np = plot(sol);\nscatter!(p,sol.t, sol.u)\np"
      ],
      "metadata": {},
      "execution_count": null
    },
    {
      "outputs": [],
      "cell_type": "code",
      "source": [
        "sol = solve(prob_dde_qs, MethodOfSteps(DP5()); reltol=1e-3, abstol=1e-6, save_idxs=3)\np = plot(sol);\nscatter!(p,sol.t, sol.u)\np"
      ],
      "metadata": {},
      "execution_count": null
    },
    {
      "outputs": [],
      "cell_type": "code",
      "source": [
        "sol = solve(prob_dde_qs, MethodOfSteps(DP8()); reltol=1e-3, abstol=1e-6, save_idxs=3)\np = plot(sol);\nscatter!(p,sol.t, sol.u)\np"
      ],
      "metadata": {},
      "execution_count": null
    },
    {
      "outputs": [],
      "cell_type": "code",
      "source": [
        "sol = solve(prob_dde_qs, MethodOfSteps(OwrenZen3()); reltol=1e-3, abstol=1e-6, save_idxs=3)\np = plot(sol);\nscatter!(p,sol.t, sol.u)\np"
      ],
      "metadata": {},
      "execution_count": null
    },
    {
      "outputs": [],
      "cell_type": "code",
      "source": [
        "sol = solve(prob_dde_qs, MethodOfSteps(OwrenZen4()); reltol=1e-3, abstol=1e-6, save_idxs=3)\np = plot(sol);\nscatter!(p,sol.t, sol.u)\np"
      ],
      "metadata": {},
      "execution_count": null
    },
    {
      "outputs": [],
      "cell_type": "code",
      "source": [
        "sol = solve(prob_dde_qs, MethodOfSteps(OwrenZen5()); reltol=1e-3, abstol=1e-6, save_idxs=3)\np = plot(sol);\nscatter!(p,sol.t, sol.u)\np"
      ],
      "metadata": {},
      "execution_count": null
    },
    {
      "cell_type": "markdown",
      "source": [
        "### Rosenbrock methods"
      ],
      "metadata": {}
    },
    {
      "outputs": [],
      "cell_type": "code",
      "source": [
        "sol = solve(prob_dde_qs, MethodOfSteps(Rosenbrock23()); reltol=1e-3, abstol=1e-6, save_idxs=3)\np = plot(sol);\nscatter!(p,sol.t, sol.u)\np"
      ],
      "metadata": {},
      "execution_count": null
    },
    {
      "outputs": [],
      "cell_type": "code",
      "source": [
        "sol = solve(prob_dde_qs, MethodOfSteps(Rosenbrock32()); reltol=1e-3, abstol=1e-6, save_idxs=3)\np = plot(sol);\nscatter!(p,sol.t, sol.u)\np"
      ],
      "metadata": {},
      "execution_count": null
    },
    {
      "outputs": [],
      "cell_type": "code",
      "source": [
        "sol = solve(prob_dde_qs, MethodOfSteps(Rodas4()); reltol=1e-3, abstol=1e-6, save_idxs=3)\np = plot(sol);\nscatter!(p,sol.t, sol.u)\np"
      ],
      "metadata": {},
      "execution_count": null
    },
    {
      "outputs": [],
      "cell_type": "code",
      "source": [
        "sol = solve(prob_dde_qs, MethodOfSteps(Rodas5()); reltol=1e-4, abstol=1e-6, save_idxs=3)\np = plot(sol);\nscatter!(p,sol.t, sol.u)\np"
      ],
      "metadata": {},
      "execution_count": null
    },
    {
      "cell_type": "markdown",
      "source": [
        "### Lazy interpolants"
      ],
      "metadata": {}
    },
    {
      "outputs": [],
      "cell_type": "code",
      "source": [
        "sol = solve(prob_dde_qs, MethodOfSteps(Vern7()); reltol=1e-3, abstol=1e-6, save_idxs=3)\np = plot(sol);\nscatter!(p,sol.t, sol.u)\np"
      ],
      "metadata": {},
      "execution_count": null
    },
    {
      "outputs": [],
      "cell_type": "code",
      "source": [
        "sol = solve(prob_dde_qs, MethodOfSteps(Vern9()); reltol=1e-3, abstol=1e-6, save_idxs=3)\np = plot(sol);\nscatter!(p,sol.t, sol.u)\np"
      ],
      "metadata": {},
      "execution_count": null
    },
    {
      "cell_type": "markdown",
      "source": [
        "## Qualitative comparisons\n\nNow we compare these methods quantitatively.\n\n### High tolerances\n\n#### RK methods\n\nWe start with RK methods at high tolerances."
      ],
      "metadata": {}
    },
    {
      "outputs": [],
      "cell_type": "code",
      "source": [
        "abstols = 1.0 ./ 10.0 .^ (4:7)\nreltols = 1.0 ./ 10.0 .^ (1:4)\n\nsetups = [Dict(:alg=>MethodOfSteps(BS3())),\n          Dict(:alg=>MethodOfSteps(Tsit5())),\n          Dict(:alg=>MethodOfSteps(RK4())),\n          Dict(:alg=>MethodOfSteps(DP5())),\n          Dict(:alg=>MethodOfSteps(OwrenZen3())),\n          Dict(:alg=>MethodOfSteps(OwrenZen4())),\n          Dict(:alg=>MethodOfSteps(OwrenZen5()))]\nnames = [\"BS3\", \"Tsit5\", \"RK4\", \"DP5\", \"OwrenZen3\", \"OwrenZen4\", \"OwrenZen5\"]\nwp = WorkPrecisionSet(prob_dde_qs,abstols,reltols,setups;names=names,\n                      save_idxs=3,appxsol=test_sol,maxiters=Int(1e5),error_estimate=:final)\nplot(wp)"
      ],
      "metadata": {},
      "execution_count": null
    },
    {
      "cell_type": "markdown",
      "source": [
        "We also compare interpolation errors:"
      ],
      "metadata": {}
    },
    {
      "outputs": [],
      "cell_type": "code",
      "source": [
        "abstols = 1.0 ./ 10.0 .^ (4:7)\nreltols = 1.0 ./ 10.0 .^ (1:4)\n\nsetups = [Dict(:alg=>MethodOfSteps(BS3())),\n          Dict(:alg=>MethodOfSteps(Tsit5())),\n          Dict(:alg=>MethodOfSteps(RK4())),\n          Dict(:alg=>MethodOfSteps(DP5())),\n          Dict(:alg=>MethodOfSteps(OwrenZen3())),\n          Dict(:alg=>MethodOfSteps(OwrenZen4())),\n          Dict(:alg=>MethodOfSteps(OwrenZen5()))]\nnames = [\"BS3\", \"Tsit5\", \"RK4\", \"DP5\", \"OwrenZen3\", \"OwrenZen4\", \"OwrenZen5\"]\nwp = WorkPrecisionSet(prob_dde_qs,abstols,reltols,setups;names=names,\n                      save_idxs=3,appxsol=test_sol,maxiters=Int(1e5),error_estimate=:L2)\nplot(wp)"
      ],
      "metadata": {},
      "execution_count": null
    },
    {
      "cell_type": "markdown",
      "source": [
        "And the maximal interpolation error:"
      ],
      "metadata": {}
    },
    {
      "outputs": [],
      "cell_type": "code",
      "source": [
        "abstols = 1.0 ./ 10.0 .^ (4:7)\nreltols = 1.0 ./ 10.0 .^ (1:4)\n\nsetups = [Dict(:alg=>MethodOfSteps(BS3())),\n          Dict(:alg=>MethodOfSteps(Tsit5())),\n          Dict(:alg=>MethodOfSteps(RK4())),\n          Dict(:alg=>MethodOfSteps(DP5())),\n          Dict(:alg=>MethodOfSteps(OwrenZen3())),\n          Dict(:alg=>MethodOfSteps(OwrenZen4())),\n          Dict(:alg=>MethodOfSteps(OwrenZen5()))]\nnames = [\"BS3\", \"Tsit5\", \"RK4\", \"DP5\", \"OwrenZen3\", \"OwrenZen4\", \"OwrenZen5\"]\nwp = WorkPrecisionSet(prob_dde_qs,abstols,reltols,setups;names=names,\n                      save_idxs=3,appxsol=test_sol,maxiters=Int(1e5),error_estimate=:L∞)\nplot(wp)"
      ],
      "metadata": {},
      "execution_count": null
    },
    {
      "cell_type": "markdown",
      "source": [
        "Since the correct solution is in the range of 1e-7, we see that most solutions, even at the lower end of tested tolerances, always lead to relative maximal interpolation errors of at least 1e-1 (and usually worse). `RK4` performs slightly better with relative maximal errors of at least 1e-2. This matches our qualitative analysis above.\n\n#### Rosenbrock methods\n\nWe repeat these tests with Rosenbrock methods, and include `RK4` as reference."
      ],
      "metadata": {}
    },
    {
      "outputs": [],
      "cell_type": "code",
      "source": [
        "abstols = 1.0 ./ 10.0 .^ (4:7)\nreltols = 1.0 ./ 10.0 .^ (1:4)\n\nsetups = [Dict(:alg=>MethodOfSteps(Rosenbrock23())),\n          Dict(:alg=>MethodOfSteps(Rosenbrock32())),\n          Dict(:alg=>MethodOfSteps(Rodas4())),\n          Dict(:alg=>MethodOfSteps(RK4()))]\nnames = [\"Rosenbrock23\", \"Rosenbrock32\", \"Rodas4\", \"RK4\"]\nwp = WorkPrecisionSet(prob_dde_qs,abstols,reltols,setups;names=names,\n                      save_idxs=3,appxsol=test_sol,maxiters=Int(1e5),error_estimate=:final)\nplot(wp)"
      ],
      "metadata": {},
      "execution_count": null
    },
    {
      "outputs": [],
      "cell_type": "code",
      "source": [
        "abstols = 1.0 ./ 10.0 .^ (4:7)\nreltols = 1.0 ./ 10.0 .^ (1:4)\n\nsetups = [Dict(:alg=>MethodOfSteps(Rosenbrock23())),\n          Dict(:alg=>MethodOfSteps(Rosenbrock32())),\n          Dict(:alg=>MethodOfSteps(Rodas4())),\n          Dict(:alg=>MethodOfSteps(RK4()))]\nnames = [\"Rosenbrock23\", \"Rosenbrock32\", \"Rodas4\", \"RK4\"]\nwp = WorkPrecisionSet(prob_dde_qs,abstols,reltols,setups;names=names,\n                      save_idxs=3,appxsol=test_sol,maxiters=Int(1e5),error_estimate=:L2)\nplot(wp)"
      ],
      "metadata": {},
      "execution_count": null
    },
    {
      "outputs": [],
      "cell_type": "code",
      "source": [
        "abstols = 1.0 ./ 10.0 .^ (4:7)\nreltols = 1.0 ./ 10.0 .^ (1:4)\n\nsetups = [Dict(:alg=>MethodOfSteps(Rosenbrock23())),\n          Dict(:alg=>MethodOfSteps(Rosenbrock32())),\n          Dict(:alg=>MethodOfSteps(Rodas4())),\n          Dict(:alg=>MethodOfSteps(RK4()))]\nnames = [\"Rosenbrock23\", \"Rosenbrock32\", \"Rodas4\", \"RK4\"]\nwp = WorkPrecisionSet(prob_dde_qs,abstols,reltols,setups;names=names,\n                      save_idxs=3,appxsol=test_sol,maxiters=Int(1e5),error_estimate=:L∞)\nplot(wp)"
      ],
      "metadata": {},
      "execution_count": null
    },
    {
      "cell_type": "markdown",
      "source": [
        "Out of the tested Rosenbrock methods `Rodas4` and `Rosenbrock23` perform best at high tolerances.\n\n#### Lazy interpolants\n\nFinally we test the Verner methods with lazy interpolants, and include `Rosenbrock23` as reference."
      ],
      "metadata": {}
    },
    {
      "outputs": [],
      "cell_type": "code",
      "source": [
        "abstols = 1.0 ./ 10.0 .^ (4:7)\nreltols = 1.0 ./ 10.0 .^ (1:4)\n\nsetups = [Dict(:alg=>MethodOfSteps(Vern6())),\n          Dict(:alg=>MethodOfSteps(Vern7())),\n          Dict(:alg=>MethodOfSteps(Vern8())),\n          Dict(:alg=>MethodOfSteps(Vern9())),\n          Dict(:alg=>MethodOfSteps(Rosenbrock23()))]\nnames = [\"Vern6\", \"Vern7\", \"Vern8\", \"Vern9\", \"Rosenbrock23\"]\nwp = WorkPrecisionSet(prob_dde_qs,abstols,reltols,setups;names=names,\n                      save_idxs=3,appxsol=test_sol,maxiters=Int(1e5),error_estimate=:final)\nplot(wp)"
      ],
      "metadata": {},
      "execution_count": null
    },
    {
      "outputs": [],
      "cell_type": "code",
      "source": [
        "abstols = 1.0 ./ 10.0 .^ (4:7)\nreltols = 1.0 ./ 10.0 .^ (1:4)\n\nsetups = [Dict(:alg=>MethodOfSteps(Vern6())),\n          Dict(:alg=>MethodOfSteps(Vern7())),\n          Dict(:alg=>MethodOfSteps(Vern8())),\n          Dict(:alg=>MethodOfSteps(Vern9())),\n          Dict(:alg=>MethodOfSteps(Rosenbrock23()))]\nnames = [\"Vern6\", \"Vern7\", \"Vern8\", \"Vern9\", \"Rosenbrock23\"]\nwp = WorkPrecisionSet(prob_dde_qs,abstols,reltols,setups;names=names,\n                      save_idxs=3,appxsol=test_sol,maxiters=Int(1e5),error_estimate=:L2)\nplot(wp)"
      ],
      "metadata": {},
      "execution_count": null
    },
    {
      "outputs": [],
      "cell_type": "code",
      "source": [
        "abstols = 1.0 ./ 10.0 .^ (4:7)\nreltols = 1.0 ./ 10.0 .^ (1:4)\n\nsetups = [Dict(:alg=>MethodOfSteps(Vern6())),\n          Dict(:alg=>MethodOfSteps(Vern7())),\n          Dict(:alg=>MethodOfSteps(Vern8())),\n          Dict(:alg=>MethodOfSteps(Vern9())),\n          Dict(:alg=>MethodOfSteps(Rosenbrock23()))]\nnames = [\"Vern6\", \"Vern7\", \"Vern8\", \"Vern9\", \"Rosenbrock23\"]\nwp = WorkPrecisionSet(prob_dde_qs,abstols,reltols,setups;names=names,\n                      save_idxs=3,appxsol=test_sol,maxiters=Int(1e5),error_estimate=:L∞)\nplot(wp)"
      ],
      "metadata": {},
      "execution_count": null
    },
    {
      "cell_type": "markdown",
      "source": [
        "All in all, at high tolerances `Rodas5` and `Rosenbrock23` are the best methods for solving this stiff DDE.\n\n### Low tolerances\n\n#### Rosenbrock methods\n\nWe repeat our tests of Rosenbrock methods `Rosenbrock23` and `Rodas5` at low tolerances:"
      ],
      "metadata": {}
    },
    {
      "outputs": [],
      "cell_type": "code",
      "source": [
        "abstols = 1.0 ./ 10.0 .^ (8:11)\nreltols = 1.0 ./ 10.0 .^ (5:8)\n\nsetups = [Dict(:alg=>MethodOfSteps(Rosenbrock23())),\n          Dict(:alg=>MethodOfSteps(Rodas4())),\n          Dict(:alg=>MethodOfSteps(Rodas5()))]\nnames = [\"Rosenbrock23\", \"Rodas4\", \"Rodas5\"]\nwp = WorkPrecisionSet(prob_dde_qs,abstols,reltols,setups;names=names,\n                      save_idxs=3,appxsol=test_sol,maxiters=Int(1e5),error_estimate=:final)\nplot(wp)"
      ],
      "metadata": {},
      "execution_count": null
    },
    {
      "outputs": [],
      "cell_type": "code",
      "source": [
        "abstols = 1.0 ./ 10.0 .^ (8:11)\nreltols = 1.0 ./ 10.0 .^ (5:8)\n\nsetups = [Dict(:alg=>MethodOfSteps(Rosenbrock23())),\n          Dict(:alg=>MethodOfSteps(Rodas4())),\n          Dict(:alg=>MethodOfSteps(Rodas5()))]\nnames = [\"Rosenbrock23\", \"Rodas4\", \"Rodas5\"]\nwp = WorkPrecisionSet(prob_dde_qs,abstols,reltols,setups;names=names,\n                      save_idxs=3,appxsol=test_sol,maxiters=Int(1e5),error_estimate=:L2)\nplot(wp)"
      ],
      "metadata": {},
      "execution_count": null
    },
    {
      "outputs": [],
      "cell_type": "code",
      "source": [
        "abstols = 1.0 ./ 10.0 .^ (8:11)\nreltols = 1.0 ./ 10.0 .^ (5:8)\n\nsetups = [Dict(:alg=>MethodOfSteps(Rosenbrock23())),\n          Dict(:alg=>MethodOfSteps(Rodas4())),\n          Dict(:alg=>MethodOfSteps(Rodas5()))]\nnames = [\"Rosenbrock23\", \"Rodas4\", \"Rodas5\"]\nwp = WorkPrecisionSet(prob_dde_qs,abstols,reltols,setups;names=names,\n                      save_idxs=3,appxsol=test_sol,maxiters=Int(1e5),error_estimate=:L∞)\nplot(wp)"
      ],
      "metadata": {},
      "execution_count": null
    },
    {
      "cell_type": "markdown",
      "source": [
        "Thus at low tolerances `Rodas5` outperforms `Rosenbrock23`."
      ],
      "metadata": {}
    },
    {
      "outputs": [],
      "cell_type": "code",
      "source": [
        "using DiffEqBenchmarks\nDiffEqBenchmarks.bench_footer(WEAVE_ARGS[:folder],WEAVE_ARGS[:file])"
      ],
      "metadata": {},
      "execution_count": null
    }
  ],
  "nbformat_minor": 2,
  "metadata": {
    "language_info": {
      "file_extension": ".jl",
      "mimetype": "application/julia",
      "name": "julia",
      "version": "1.4.2"
    },
    "kernelspec": {
      "name": "julia-1.4",
      "display_name": "Julia 1.4.2",
      "language": "julia"
    }
  },
  "nbformat": 4
}
