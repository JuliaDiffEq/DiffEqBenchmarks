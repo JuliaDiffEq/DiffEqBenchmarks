{
  "cells": [
    {
      "outputs": [],
      "cell_type": "code",
      "source": [
        "using OrdinaryDiffEq, DiffEqDevTools, Sundials, ParameterizedFunctions, Plots, ODE, ODEInterfaceDiffEq, LSODA\ngr()\nusing LinearAlgebra\nLinearAlgebra.BLAS.set_num_threads(1)\n\nrober = @ode_def begin\n  dy₁ = -k₁*y₁+k₃*y₂*y₃\n  dy₂ =  k₁*y₁-k₂*y₂^2-k₃*y₂*y₃\n  dy₃ =  k₂*y₂^2\nend k₁ k₂ k₃\nprob = ODEProblem(rober,[1.0,0.0,0.0],(0.0,1e5),(0.04,3e7,1e4))\nsol = solve(prob,CVODE_BDF(),abstol=1/10^14,reltol=1/10^14)\ntest_sol = TestSolution(sol)\nabstols = 1.0 ./ 10.0 .^ (4:11)\nreltols = 1.0 ./ 10.0 .^ (1:8);"
      ],
      "metadata": {},
      "execution_count": null
    },
    {
      "outputs": [],
      "cell_type": "code",
      "source": [
        "plot(sol,labels=[\"y1\",\"y2\",\"y3\"])"
      ],
      "metadata": {},
      "execution_count": null
    },
    {
      "cell_type": "markdown",
      "source": [
        "## Omissions And Tweaking\n\nThe following were omitted from the tests due to convergence failures. ODE.jl's\nadaptivity is not able to stabilize its algorithms, while\nGeometricIntegratorsDiffEq has not upgraded to Julia 1.0.\nGeometricIntegrators.jl's methods used to be either fail to converge at\ncomparable dts (or on some computers errors due to type conversions)."
      ],
      "metadata": {}
    },
    {
      "outputs": [],
      "cell_type": "code",
      "source": [
        "#sol = solve(prob,ode23s()); println(\"Total ODE.jl steps: $(length(sol))\")\n#using GeometricIntegratorsDiffEq\n#try\n#    sol = solve(prob,GIRadIIA3(),dt=1/10)\n#catch e\n#    println(e)\n#end"
      ],
      "metadata": {},
      "execution_count": null
    },
    {
      "cell_type": "markdown",
      "source": [
        "`ARKODE` needs a lower `nonlinear_convergence_coefficient` in order to not diverge."
      ],
      "metadata": {}
    },
    {
      "outputs": [],
      "cell_type": "code",
      "source": [
        "#sol = solve(prob,ARKODE(nonlinear_convergence_coefficient = 1e-6),abstol=1e-5,reltol=1e-1); # Noisy, output omitted"
      ],
      "metadata": {},
      "execution_count": null
    },
    {
      "outputs": [],
      "cell_type": "code",
      "source": [
        "sol = solve(prob,ARKODE(nonlinear_convergence_coefficient = 1e-7),abstol=1e-5,reltol=1e-1);"
      ],
      "metadata": {},
      "execution_count": null
    },
    {
      "cell_type": "markdown",
      "source": [
        "Note that `1e-7` matches the value from the Sundials manual which was required for their example to converge on this problem. The default is `1e-1`."
      ],
      "metadata": {}
    },
    {
      "outputs": [],
      "cell_type": "code",
      "source": [
        "#sol = solve(prob,ARKODE(order=3),abstol=1e-4,reltol=1e-1); # Fails to diverge but doesn't finish"
      ],
      "metadata": {},
      "execution_count": null
    },
    {
      "outputs": [],
      "cell_type": "code",
      "source": [
        "#sol = solve(prob,ARKODE(order=5),abstol=1e-4,reltol=1e-1); # Noisy, output omitted"
      ],
      "metadata": {},
      "execution_count": null
    },
    {
      "outputs": [],
      "cell_type": "code",
      "source": [
        "#sol = solve(prob,ARKODE(order=5,nonlinear_convergence_coefficient = 1e-9),abstol=1e-5,reltol=1e-1); # Noisy, output omitted"
      ],
      "metadata": {},
      "execution_count": null
    },
    {
      "cell_type": "markdown",
      "source": [
        "Additionally, the ROCK methods do not perform well on this benchmark."
      ],
      "metadata": {}
    },
    {
      "outputs": [],
      "cell_type": "code",
      "source": [
        "setups = [\n          #Dict(:alg=>ROCK2())    #Unstable\n          #Dict(:alg=>ROCK4())    #needs more iterations\n          ]"
      ],
      "metadata": {},
      "execution_count": null
    },
    {
      "cell_type": "markdown",
      "source": [
        "Some of the bad Rosenbrocks fail:"
      ],
      "metadata": {}
    },
    {
      "outputs": [],
      "cell_type": "code",
      "source": [
        "setups = [\n  #Dict(:alg=>Hairer4()),\n  #Dict(:alg=>Hairer42()),\n  #Dict(:alg=>Cash4()),\n]"
      ],
      "metadata": {},
      "execution_count": null
    },
    {
      "cell_type": "markdown",
      "source": [
        "The EPIRK and exponential methods also fail:"
      ],
      "metadata": {}
    },
    {
      "outputs": [],
      "cell_type": "code",
      "source": [
        "sol = solve(prob,EXPRB53s3(),dt=2.0^(-8));\nsol = solve(prob,EPIRK4s3B(),dt=2.0^(-8));\nsol = solve(prob,EPIRK5P2(),dt=2.0^(-8));"
      ],
      "metadata": {},
      "execution_count": null
    },
    {
      "cell_type": "markdown",
      "source": [
        "PDIRK44 also fails"
      ],
      "metadata": {}
    },
    {
      "outputs": [],
      "cell_type": "code",
      "source": [
        "sol = solve(prob,PDIRK44(),dt=2.0^(-8));"
      ],
      "metadata": {},
      "execution_count": null
    },
    {
      "cell_type": "markdown",
      "source": [
        "In fact, all non-adaptive methods fail on this problem.\n\n## High Tolerances\n\nThis is the speed when you just want the answer. `ode23s` from ODE.jl was removed since it fails. Note that at high tolerances Sundials' `CVODE_BDF` fails as well so it's excluded from this test."
      ],
      "metadata": {}
    },
    {
      "outputs": [],
      "cell_type": "code",
      "source": [
        "abstols = 1.0 ./ 10.0 .^ (5:8)\nreltols = 1.0 ./ 10.0 .^ (1:4);\nsetups = [Dict(:alg=>Rosenbrock23()),\n          Dict(:alg=>Rodas3()),\n          Dict(:alg=>TRBDF2()),\n          Dict(:alg=>rodas()),\n          Dict(:alg=>lsoda()),\n          Dict(:alg=>radau()),\n          Dict(:alg=>RadauIIA5()),\n          Dict(:alg=>ROS34PW1a()),\n          ]\ngr()\nwp = WorkPrecisionSet(prob,abstols,reltols,setups;\n                      save_everystep=false,appxsol=test_sol,maxiters=Int(1e5),numruns=10)\nplot(wp)"
      ],
      "metadata": {},
      "execution_count": null
    },
    {
      "outputs": [],
      "cell_type": "code",
      "source": [
        "setups = [Dict(:alg=>Rosenbrock23()),\n          Dict(:alg=>Kvaerno3()),\n          Dict(:alg=>KenCarp4()),\n          Dict(:alg=>TRBDF2()),\n          Dict(:alg=>KenCarp3()),\n          # Dict(:alg=>SDIRK2()), # Removed because it's bad\n          Dict(:alg=>radau())]\nnames = [\"Rosenbrock23\" \"Kvaerno3\" \"KenCarp4\" \"TRBDF2\" \"KenCarp3\" \"radau\"]\nwp = WorkPrecisionSet(prob,abstols,reltols,setups;names=names,\n                      save_everystep=false,appxsol=test_sol,maxiters=Int(1e5),numruns=10)\nplot(wp)"
      ],
      "metadata": {},
      "execution_count": null
    },
    {
      "outputs": [],
      "cell_type": "code",
      "source": [
        "setups = [Dict(:alg=>Rosenbrock23()),\n          Dict(:alg=>KenCarp5()),\n          Dict(:alg=>KenCarp4()),\n          Dict(:alg=>KenCarp3()),\n          Dict(:alg=>ARKODE(nonlinear_convergence_coefficient = 1e-9,order=5)),\n          Dict(:alg=>ARKODE(nonlinear_convergence_coefficient = 1e-8)),\n          Dict(:alg=>ARKODE(nonlinear_convergence_coefficient = 1e-7,order=3))\n]\nnames = [\"Rosenbrock23\" \"KenCarp5\" \"KenCarp4\" \"KenCarp3\" \"ARKODE5\" \"ARKODE4\" \"ARKODE3\"]\nwp = WorkPrecisionSet(prob,abstols,reltols,setups;\n                      names=names,\n                      save_everystep=false,appxsol=test_sol,maxiters=Int(1e5),numruns=10)\nplot(wp)"
      ],
      "metadata": {},
      "execution_count": null
    },
    {
      "outputs": [],
      "cell_type": "code",
      "source": [
        "setups = [Dict(:alg=>Rosenbrock23()),\n          Dict(:alg=>TRBDF2()),\n          Dict(:alg=>ImplicitEulerExtrapolation()),\n          #Dict(:alg=>ImplicitDeuflhardExtrapolation()), # Diverges\n          #Dict(:alg=>ImplicitHairerWannerExtrapolation()), # Diverges\n          #Dict(:alg=>ABDF2()), # Maxiters\n          Dict(:alg=>QNDF()),\n          Dict(:alg=>Exprb43()),\n          Dict(:alg=>Exprb32()),\n]\nwp = WorkPrecisionSet(prob,abstols,reltols,setups;\n                      save_everystep=false,appxsol=test_sol,maxiters=Int(1e5),numruns=10)\nplot(wp)"
      ],
      "metadata": {},
      "execution_count": null
    },
    {
      "cell_type": "markdown",
      "source": [
        "### Timeseries Errors"
      ],
      "metadata": {}
    },
    {
      "outputs": [],
      "cell_type": "code",
      "source": [
        "abstols = 1.0 ./ 10.0 .^ (5:8)\nreltols = 1.0 ./ 10.0 .^ (1:4);\nsetups = [Dict(:alg=>Rosenbrock23()),\n          Dict(:alg=>Rodas3()),\n          Dict(:alg=>TRBDF2()),\n          Dict(:alg=>rodas()),\n          Dict(:alg=>lsoda()),\n          Dict(:alg=>radau()),\n          Dict(:alg=>RadauIIA5()),\n          Dict(:alg=>ROS34PW1a()),\n          ]\ngr()\nwp = WorkPrecisionSet(prob,abstols,reltols,setups;error_estimate=:l2,\n                      save_everystep=false,appxsol=test_sol,maxiters=Int(1e5),numruns=10)\nplot(wp)"
      ],
      "metadata": {},
      "execution_count": null
    },
    {
      "outputs": [],
      "cell_type": "code",
      "source": [
        "setups = [Dict(:alg=>Rosenbrock23()),\n          Dict(:alg=>Kvaerno3()),\n          Dict(:alg=>KenCarp4()),\n          Dict(:alg=>TRBDF2()),\n          Dict(:alg=>KenCarp3()),\n    # Dict(:alg=>SDIRK2()), # Removed because it's bad\n          Dict(:alg=>radau())]\nnames = [\"Rosenbrock23\" \"Kvaerno3\" \"KenCarp4\" \"TRBDF2\" \"KenCarp3\" \"radau\"]\nwp = WorkPrecisionSet(prob,abstols,reltols,setups;names=names,\n                      appxsol=test_sol,maxiters=Int(1e5),error_estimate=:l2,numruns=10)\nplot(wp)"
      ],
      "metadata": {},
      "execution_count": null
    },
    {
      "outputs": [],
      "cell_type": "code",
      "source": [
        "setups = [Dict(:alg=>Rosenbrock23()),\n          Dict(:alg=>TRBDF2()),\n          Dict(:alg=>ImplicitEulerExtrapolation()),\n          #Dict(:alg=>ImplicitDeuflhardExtrapolation()), # Diverges\n          #Dict(:alg=>ImplicitHairerWannerExtrapolation()), # Diverges\n          #Dict(:alg=>ABDF2()), # Maxiters\n          Dict(:alg=>QNDF()),\n          Dict(:alg=>Exprb43()),\n          Dict(:alg=>Exprb32()),\n]\nwp = WorkPrecisionSet(prob,abstols,reltols,setups;verbose=false,error_estimate=:l2,\n                      save_everystep=false,appxsol=test_sol,maxiters=Int(1e5),numruns=10)\nplot(wp)"
      ],
      "metadata": {},
      "execution_count": null
    },
    {
      "cell_type": "markdown",
      "source": [
        "### Low Tolerances\n\nThis is the speed at lower tolerances, measuring what's good when accuracy is needed."
      ],
      "metadata": {}
    },
    {
      "outputs": [],
      "cell_type": "code",
      "source": [
        "abstols = 1.0 ./ 10.0 .^ (7:12)\nreltols = 1.0 ./ 10.0 .^ (4:9)\n\nsetups = [Dict(:alg=>Rodas5()),\n          Dict(:alg=>Rodas4P()),\n          Dict(:alg=>CVODE_BDF()),\n          Dict(:alg=>ddebdf()),\n          Dict(:alg=>Rodas4()),\n          Dict(:alg=>rodas()),\n          Dict(:alg=>lsoda()),\n          Dict(:alg=>radau()),\n          Dict(:alg=>RadauIIA5()),\n]\nwp = WorkPrecisionSet(prob,abstols,reltols,setups;\n                      save_everystep=false,appxsol=test_sol,maxiters=Int(1e5),numruns=10)\nplot(wp)"
      ],
      "metadata": {},
      "execution_count": null
    },
    {
      "outputs": [],
      "cell_type": "code",
      "source": [
        "setups = [Dict(:alg=>Rodas4P()),\n          Dict(:alg=>Kvaerno4()),\n          Dict(:alg=>Kvaerno5()),\n          Dict(:alg=>CVODE_BDF()),\n          Dict(:alg=>KenCarp4()),\n          Dict(:alg=>KenCarp5()),\n          Dict(:alg=>Rodas4()),\n          Dict(:alg=>Rodas5()),\n          Dict(:alg=>radau())]\nwp = WorkPrecisionSet(prob,abstols,reltols,setups;\n                      save_everystep=false,appxsol=test_sol,maxiters=Int(1e5),numruns=10)\nplot(wp)"
      ],
      "metadata": {},
      "execution_count": null
    },
    {
      "outputs": [],
      "cell_type": "code",
      "source": [
        "abstols = 1.0 ./ 10.0 .^ (10:12)\nreltols = 1.0 ./ 10.0 .^ (7:9)\n\nsetups = [Dict(:alg=>Rodas4())\n          Dict(:alg=>Rodas5())]\nnames = [\"Rodas4\" \"Rodas5\"]\nwp = WorkPrecisionSet(prob,abstols,reltols,setups;names=names,\n                      save_everystep=false,appxsol=test_sol,maxiters=Int(1e5),numruns=10)\nplot(wp)"
      ],
      "metadata": {},
      "execution_count": null
    },
    {
      "cell_type": "markdown",
      "source": [
        "### Conclusion\n\nAt high tolerances, `Rosenbrock23` and `lsoda` hit the the error estimates and are fast. At lower tolerances and normal user tolerances, `Rodas4` and `Rodas5` are extremely fast. `lsoda` does quite well across both ends. When you get down to `reltol=1e-9` `radau` begins to become as efficient as `Rodas4`, and it continues to do well below that."
      ],
      "metadata": {}
    },
    {
      "outputs": [],
      "cell_type": "code",
      "source": [
        "using SciMLBenchmarks\nSciMLBenchmarks.bench_footer(WEAVE_ARGS[:folder],WEAVE_ARGS[:file])"
      ],
      "metadata": {},
      "execution_count": null
    }
  ],
  "nbformat_minor": 2,
  "metadata": {
    "language_info": {
      "file_extension": ".jl",
      "mimetype": "application/julia",
      "name": "julia",
      "version": "1.4.2"
    },
    "kernelspec": {
      "name": "julia-1.4",
      "display_name": "Julia 1.4.2",
      "language": "julia"
    }
  },
  "nbformat": 4
}
