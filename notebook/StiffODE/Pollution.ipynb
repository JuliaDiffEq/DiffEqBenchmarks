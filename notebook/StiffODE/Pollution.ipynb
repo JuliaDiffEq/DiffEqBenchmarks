{
  "cells": [
    {
      "outputs": [],
      "cell_type": "code",
      "source": [
        "using OrdinaryDiffEq, DiffEqDevTools, Sundials, ParameterizedFunctions, Plots, ODE, ODEInterfaceDiffEq, LSODA\ngr() # gr(fmt=:png)\nusing LinearAlgebra\nLinearAlgebra.BLAS.set_num_threads(1)\n\nconst k1=.35e0\nconst k2=.266e2\nconst k3=.123e5\nconst k4=.86e-3\nconst k5=.82e-3\nconst k6=.15e5\nconst k7=.13e-3\nconst k8=.24e5\nconst k9=.165e5\nconst k10=.9e4\nconst k11=.22e-1\nconst k12=.12e5\nconst k13=.188e1\nconst k14=.163e5\nconst k15=.48e7\nconst k16=.35e-3\nconst k17=.175e-1\nconst k18=.1e9\nconst k19=.444e12\nconst k20=.124e4\nconst k21=.21e1\nconst k22=.578e1\nconst k23=.474e-1\nconst k24=.178e4\nconst k25=.312e1\n\nfunction f(dy,y,p,t)\n r1  = k1 *y[1]\n r2  = k2 *y[2]*y[4]\n r3  = k3 *y[5]*y[2]\n r4  = k4 *y[7]\n r5  = k5 *y[7]\n r6  = k6 *y[7]*y[6]\n r7  = k7 *y[9]\n r8  = k8 *y[9]*y[6]\n r9  = k9 *y[11]*y[2]\n r10 = k10*y[11]*y[1]\n r11 = k11*y[13]\n r12 = k12*y[10]*y[2]\n r13 = k13*y[14]\n r14 = k14*y[1]*y[6]\n r15 = k15*y[3]\n r16 = k16*y[4]\n r17 = k17*y[4]\n r18 = k18*y[16]\n r19 = k19*y[16]\n r20 = k20*y[17]*y[6]\n r21 = k21*y[19]\n r22 = k22*y[19]\n r23 = k23*y[1]*y[4]\n r24 = k24*y[19]*y[1]\n r25 = k25*y[20]\n\n dy[1]  = -r1-r10-r14-r23-r24+\n          r2+r3+r9+r11+r12+r22+r25\n dy[2]  = -r2-r3-r9-r12+r1+r21\n dy[3]  = -r15+r1+r17+r19+r22\n dy[4]  = -r2-r16-r17-r23+r15\n dy[5]  = -r3+r4+r4+r6+r7+r13+r20\n dy[6]  = -r6-r8-r14-r20+r3+r18+r18\n dy[7]  = -r4-r5-r6+r13\n dy[8]  = r4+r5+r6+r7\n dy[9]  = -r7-r8\n dy[10] = -r12+r7+r9\n dy[11] = -r9-r10+r8+r11\n dy[12] = r9\n dy[13] = -r11+r10\n dy[14] = -r13+r12\n dy[15] = r14\n dy[16] = -r18-r19+r16\n dy[17] = -r20\n dy[18] = r20\n dy[19] = -r21-r22-r24+r23+r25\n dy[20] = -r25+r24\nend\n\nfunction fjac(J,y,p,t)\n      J .= 0.0\n      J[1,1]   = -k1-k10*y[11]-k14*y[6]-k23*y[4]-k24*y[19]\n      J[1,11]  = -k10*y[1]+k9*y[2]\n      J[1,6]   = -k14*y[1]\n      J[1,4]   = -k23*y[1]+k2*y[2]\n      J[1,19]  = -k24*y[1]+k22\n      J[1,2]   = k2*y[4]+k9*y[11]+k3*y[5]+k12*y[10]\n      J[1,13]  = k11\n      J[1,20]  = k25\n      J[1,5]   = k3*y[2]\n      J[1,10]  = k12*y[2]\n\n      J[2,4]   = -k2*y[2]\n      J[2,5]   = -k3*y[2]\n      J[2,11]  = -k9*y[2]\n      J[2,10]  = -k12*y[2]\n      J[2,19]  = k21\n      J[2,1]   = k1\n      J[2,2]   = -k2*y[4]-k3*y[5]-k9*y[11]-k12*y[10]\n\n      J[3,1]   = k1\n      J[3,4]   = k17\n      J[3,16]  = k19\n      J[3,19]  = k22\n      J[3,3]   = -k15\n\n      J[4,4]   = -k2*y[2]-k16-k17-k23*y[1]\n      J[4,2]   = -k2*y[4]\n      J[4,1]   = -k23*y[4]\n      J[4,3]   = k15\n\n      J[5,5]   = -k3*y[2]\n      J[5,2]   = -k3*y[5]\n      J[5,7]   = 2k4+k6*y[6]\n      J[5,6]   = k6*y[7]+k20*y[17]\n      J[5,9]   = k7\n      J[5,14]  = k13\n      J[5,17]  = k20*y[6]\n\n      J[6,6]   = -k6*y[7]-k8*y[9]-k14*y[1]-k20*y[17]\n      J[6,7]   = -k6*y[6]\n      J[6,9]   = -k8*y[6]\n      J[6,1]   = -k14*y[6]\n      J[6,17]  = -k20*y[6]\n      J[6,2]   = k3*y[5]\n      J[6,5]   = k3*y[2]\n      J[6,16]  = 2k18\n\n      J[7,7]   = -k4-k5-k6*y[6]\n      J[7,6]   = -k6*y[7]\n      J[7,14]  = k13\n\n      J[8,7]   = k4+k5+k6*y[6]\n      J[8,6]   = k6*y[7]\n      J[8,9]   = k7\n\n      J[9,9]   = -k7-k8*y[6]\n      J[9,6]   = -k8*y[9]\n\n      J[10,10] = -k12*y[2]\n      J[10,2]  = -k12*y[10]+k9*y[11]\n      J[10,9]  = k7\n      J[10,11] = k9*y[2]\n\n      J[11,11] = -k9*y[2]-k10*y[1]\n      J[11,2]  = -k9*y[11]\n      J[11,1]  = -k10*y[11]\n      J[11,9]  = k8*y[6]\n      J[11,6]  = k8*y[9]\n      J[11,13] = k11\n\n      J[12,11] = k9*y[2]\n      J[12,2]  = k9*y[11]\n\n      J[13,13] = -k11\n      J[13,11] = k10*y[1]\n      J[13,1]  = k10*y[11]\n\n      J[14,14] = -k13\n      J[14,10] = k12*y[2]\n      J[14,2]  = k12*y[10]\n\n      J[15,1]  = k14*y[6]\n      J[15,6]  = k14*y[1]\n\n      J[16,16] = -k18-k19\n      J[16,4]  = k16\n\n      J[17,17] = -k20*y[6]\n      J[17,6]  = -k20*y[17]\n\n      J[18,17] = k20*y[6]\n      J[18,6]  = k20*y[17]\n\n      J[19,19] = -k21-k22-k24*y[1]\n      J[19,1]  = -k24*y[19]+k23*y[4]\n      J[19,4]  = k23*y[1]\n      J[19,20] = k25\n\n      J[20,20] = -k25\n      J[20,1]  = k24*y[19]\n      J[20,19] = k24*y[1]\n\n      return\nend\n\nu0 = zeros(20)\nu0[2]  = 0.2\nu0[4]  = 0.04\nu0[7]  = 0.1\nu0[8]  = 0.3\nu0[9]  = 0.01\nu0[17] = 0.007\nprob = ODEProblem(ODEFunction(f, jac=fjac),u0,(0.0,60.0))\n\nsol = solve(prob,Rodas5(),abstol=1/10^14,reltol=1/10^14)\ntest_sol = TestSolution(sol)\nabstols = 1.0 ./ 10.0 .^ (4:11)\nreltols = 1.0 ./ 10.0 .^ (1:8);"
      ],
      "metadata": {},
      "execution_count": null
    },
    {
      "outputs": [],
      "cell_type": "code",
      "source": [
        "plot(sol)"
      ],
      "metadata": {},
      "execution_count": null
    },
    {
      "outputs": [],
      "cell_type": "code",
      "source": [
        "plot(sol,tspan=(0.0,5.0))"
      ],
      "metadata": {},
      "execution_count": null
    },
    {
      "cell_type": "markdown",
      "source": [
        "## Omissions\n\nThe following were omitted from the tests due to convergence failures. ODE.jl's\nadaptivity is not able to stabilize its algorithms, while\nGeometricIntegratorsDiffEq has not upgraded to Julia 1.0.\nGeometricIntegrators.jl's methods used to be either fail to converge at\ncomparable dts (or on some computers errors due to type conversions)."
      ],
      "metadata": {}
    },
    {
      "outputs": [],
      "cell_type": "code",
      "source": [
        "#sol = solve(prob,ode23s()); println(\"Total ODE.jl steps: $(length(sol))\")\n#using GeometricIntegratorsDiffEq\n#try\n#    sol = solve(prob,GIRadIIA3(),dt=1/10)\n#catch e\n#    println(e)\n#end"
      ],
      "metadata": {},
      "execution_count": null
    },
    {
      "cell_type": "markdown",
      "source": [
        "The stabilized explicit methods fail."
      ],
      "metadata": {}
    },
    {
      "outputs": [],
      "cell_type": "code",
      "source": [
        "setups = [\n#Dict(:alg=>ROCK2()),\n#Dict(:alg=>ROCK4())\n#Dict(:alg=>ESERK5())\n]"
      ],
      "metadata": {},
      "execution_count": null
    },
    {
      "cell_type": "markdown",
      "source": [
        "The EPIRK and exponential methods also fail:"
      ],
      "metadata": {}
    },
    {
      "outputs": [],
      "cell_type": "code",
      "source": [
        "sol = solve(prob,EXPRB53s3(),dt=2.0^(-8));\nsol = solve(prob,EPIRK4s3B(),dt=2.0^(-8));\nsol = solve(prob,EPIRK5P2(),dt=2.0^(-8));"
      ],
      "metadata": {},
      "execution_count": null
    },
    {
      "cell_type": "markdown",
      "source": [
        "## High Tolerances\n\nThis is the speed when you just want the answer."
      ],
      "metadata": {}
    },
    {
      "outputs": [],
      "cell_type": "code",
      "source": [
        "abstols = 1.0 ./ 10.0 .^ (5:8)\nreltols = 1.0 ./ 10.0 .^ (1:4);\nsetups = [Dict(:alg=>Rosenbrock23()),\n          Dict(:alg=>Rodas3()),\n          Dict(:alg=>TRBDF2()),\n          Dict(:alg=>CVODE_BDF()),\n          Dict(:alg=>rodas()),\n          Dict(:alg=>radau()),\n          Dict(:alg=>lsoda()),\n          Dict(:alg=>RadauIIA5()),\n          ]\nwp = WorkPrecisionSet(prob,abstols,reltols,setups;verbose=false,\n                      save_everystep=false,appxsol=test_sol,maxiters=Int(1e5),numruns=10)\nplot(wp)"
      ],
      "metadata": {},
      "execution_count": null
    },
    {
      "outputs": [],
      "cell_type": "code",
      "source": [
        "wp = WorkPrecisionSet(prob,abstols,reltols,setups;dense = false,verbose = false,\n                      appxsol=test_sol,maxiters=Int(1e5),error_estimate=:l2,numruns=10)\nplot(wp)"
      ],
      "metadata": {},
      "execution_count": null
    },
    {
      "outputs": [],
      "cell_type": "code",
      "source": [
        "wp = WorkPrecisionSet(prob,abstols,reltols,setups;verbose=false,\n                      appxsol=test_sol,maxiters=Int(1e5),error_estimate=:L2,numruns=10)\nplot(wp)"
      ],
      "metadata": {},
      "execution_count": null
    },
    {
      "outputs": [],
      "cell_type": "code",
      "source": [
        "setups = [Dict(:alg=>Rosenbrock23()),\n          Dict(:alg=>Kvaerno3()),\n          Dict(:alg=>CVODE_BDF()),\n          Dict(:alg=>KenCarp4()),\n          Dict(:alg=>TRBDF2()),\n          Dict(:alg=>KenCarp3()),\n          Dict(:alg=>Rodas4()),\n          Dict(:alg=>radau())]\nwp = WorkPrecisionSet(prob,abstols,reltols,setups;\n                      save_everystep=false,appxsol=test_sol,maxiters=Int(1e5),numruns=10)\nplot(wp)"
      ],
      "metadata": {},
      "execution_count": null
    },
    {
      "outputs": [],
      "cell_type": "code",
      "source": [
        "wp = WorkPrecisionSet(prob,abstols,reltols,setups;dense = false,verbose = false,\n                      appxsol=test_sol,maxiters=Int(1e5),error_estimate=:l2,numruns=10)\nplot(wp)"
      ],
      "metadata": {},
      "execution_count": null
    },
    {
      "outputs": [],
      "cell_type": "code",
      "source": [
        "wp = WorkPrecisionSet(prob,abstols,reltols,setups;\n                      appxsol=test_sol,maxiters=Int(1e5),error_estimate=:L2,numruns=10)\nplot(wp)"
      ],
      "metadata": {},
      "execution_count": null
    },
    {
      "outputs": [],
      "cell_type": "code",
      "source": [
        "setups = [Dict(:alg=>Rosenbrock23()),\n          Dict(:alg=>KenCarp5()),\n          Dict(:alg=>KenCarp4()),\n          Dict(:alg=>KenCarp3()),\n          Dict(:alg=>ARKODE(order=5)),\n          Dict(:alg=>ARKODE()),\n          Dict(:alg=>ARKODE(order=3))]\nnames = [\"Rosenbrock23\" \"KenCarp5\" \"KenCarp4\" \"KenCarp3\" \"ARKODE5\" \"ARKODE4\" \"ARKODE3\"]\nwp = WorkPrecisionSet(prob,abstols,reltols,setups;\n                      names=names,save_everystep=false,appxsol=test_sol,maxiters=Int(1e5),numruns=10)\nplot(wp)"
      ],
      "metadata": {},
      "execution_count": null
    },
    {
      "outputs": [],
      "cell_type": "code",
      "source": [
        "setups = [Dict(:alg=>Rosenbrock23()),\n          Dict(:alg=>TRBDF2()),\n          Dict(:alg=>ImplicitEulerExtrapolation()),\n          #Dict(:alg=>ImplicitDeuflhardExtrapolation()), # Diverges\n          #Dict(:alg=>ImplicitHairerWannerExtrapolation()), # Diverges\n          Dict(:alg=>ABDF2()),\n          #Dict(:alg=>QNDF()),\n          Dict(:alg=>Exprb43()),\n          Dict(:alg=>Exprb32()),\n]\nwp = WorkPrecisionSet(prob,abstols,reltols,setups;\n                      save_everystep=false,appxsol=test_sol,maxiters=Int(1e5))\nplot(wp)"
      ],
      "metadata": {},
      "execution_count": null
    },
    {
      "cell_type": "markdown",
      "source": [
        "### Low Tolerances\n\nThis is the speed at lower tolerances, measuring what's good when accuracy is needed."
      ],
      "metadata": {}
    },
    {
      "outputs": [],
      "cell_type": "code",
      "source": [
        "abstols = 1.0 ./ 10.0 .^ (7:13)\nreltols = 1.0 ./ 10.0 .^ (4:10)\n\nsetups = [Dict(:alg=>GRK4A()),\n          Dict(:alg=>Rodas4P()),\n          Dict(:alg=>CVODE_BDF()),\n          Dict(:alg=>ddebdf()),\n          Dict(:alg=>Rodas4()),\n          Dict(:alg=>rodas()),\n          Dict(:alg=>radau()),\n          Dict(:alg=>lsoda())\n          ]\nwp = WorkPrecisionSet(prob,abstols,reltols,setups;verbose=false,\n                      save_everystep=false,appxsol=test_sol,maxiters=Int(1e5),numruns=10)\nplot(wp)"
      ],
      "metadata": {},
      "execution_count": null
    },
    {
      "outputs": [],
      "cell_type": "code",
      "source": [
        "wp = WorkPrecisionSet(prob,abstols,reltols,setups;verbose=false,\n                      dense=false,appxsol=test_sol,maxiters=Int(1e5),error_estimate=:l2,numruns=10)\nplot(wp)"
      ],
      "metadata": {},
      "execution_count": null
    },
    {
      "outputs": [],
      "cell_type": "code",
      "source": [
        "wp = WorkPrecisionSet(prob,abstols,reltols,setups;verbose=false,\n                      appxsol=test_sol,maxiters=Int(1e5),error_estimate=:L2,numruns=10)\nplot(wp)"
      ],
      "metadata": {},
      "execution_count": null
    },
    {
      "outputs": [],
      "cell_type": "code",
      "source": [
        "setups = [\n          Dict(:alg=>Rodas5()),\n          Dict(:alg=>Kvaerno4()),\n          Dict(:alg=>Kvaerno5()),\n          Dict(:alg=>CVODE_BDF()),\n          Dict(:alg=>KenCarp4()),\n          Dict(:alg=>KenCarp5()),\n          Dict(:alg=>Rodas4()),\n          Dict(:alg=>radau())]\nwp = WorkPrecisionSet(prob,abstols,reltols,setups;\n                      save_everystep=false,appxsol=test_sol,maxiters=Int(1e5),numruns=10)\nplot(wp)"
      ],
      "metadata": {},
      "execution_count": null
    },
    {
      "outputs": [],
      "cell_type": "code",
      "source": [
        "wp = WorkPrecisionSet(prob,abstols,reltols,setups;verbose=false,\n                      dense=false,appxsol=test_sol,maxiters=Int(1e5),error_estimate=:l2,numruns=10)\nplot(wp)"
      ],
      "metadata": {},
      "execution_count": null
    },
    {
      "outputs": [],
      "cell_type": "code",
      "source": [
        "wp = WorkPrecisionSet(prob,abstols,reltols,setups;\n                      appxsol=test_sol,maxiters=Int(1e5),error_estimate=:L2,numruns=10)\nplot(wp)"
      ],
      "metadata": {},
      "execution_count": null
    },
    {
      "cell_type": "markdown",
      "source": [
        "The following algorithms were removed since they failed."
      ],
      "metadata": {}
    },
    {
      "outputs": [],
      "cell_type": "code",
      "source": [
        "#setups = [#Dict(:alg=>Hairer4()),\n          #Dict(:alg=>Hairer42()),\n          #Dict(:alg=>Rodas3()),\n          #Dict(:alg=>Cash4())\n#]\n#wp = WorkPrecisionSet(prob,abstols,reltols,setups;\n#                      save_everystep=false,appxsol=test_sol,maxiters=Int(1e5),numruns=10)\n#plot(wp)"
      ],
      "metadata": {},
      "execution_count": null
    },
    {
      "cell_type": "markdown",
      "source": [
        "### Conclusion\n\nSundials `CVODE_BDF` the best here. `lsoda` does well at high tolerances but then grows fast when tolerances get too low. `KenCarp4` or `Rodas5` is a decent substitute when necessary."
      ],
      "metadata": {}
    },
    {
      "outputs": [],
      "cell_type": "code",
      "source": [
        "using SciMLBenchmarks\nSciMLBenchmarks.bench_footer(WEAVE_ARGS[:folder],WEAVE_ARGS[:file])"
      ],
      "metadata": {},
      "execution_count": null
    }
  ],
  "nbformat_minor": 2,
  "metadata": {
    "language_info": {
      "file_extension": ".jl",
      "mimetype": "application/julia",
      "name": "julia",
      "version": "1.4.2"
    },
    "kernelspec": {
      "name": "julia-1.4",
      "display_name": "Julia 1.4.2",
      "language": "julia"
    }
  },
  "nbformat": 4
}
