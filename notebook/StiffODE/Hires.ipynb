{
  "cells": [
    {
      "outputs": [],
      "cell_type": "code",
      "source": [
        "using OrdinaryDiffEq, ParameterizedFunctions, Plots, ODE, ODEInterfaceDiffEq, LSODA, DiffEqDevTools, Sundials\nusing LinearAlgebra\nLinearAlgebra.BLAS.set_num_threads(1)\n\ngr() #gr(fmt=:png)\n\nf = @ode_def Hires begin\n  dy1 = -1.71*y1 + 0.43*y2 + 8.32*y3 + 0.0007\n  dy2 = 1.71*y1 - 8.75*y2\n  dy3 = -10.03*y3 + 0.43*y4 + 0.035*y5\n  dy4 = 8.32*y2 + 1.71*y3 - 1.12*y4\n  dy5 = -1.745*y5 + 0.43*y6 + 0.43*y7\n  dy6 = -280.0*y6*y8 + 0.69*y4 + 1.71*y5 -\n           0.43*y6 + 0.69*y7\n  dy7 = 280.0*y6*y8 - 1.81*y7\n  dy8 = -280.0*y6*y8 + 1.81*y7\nend\n\nu0 = zeros(8)\nu0[1] = 1\nu0[8] = 0.0057\nprob = ODEProblem(f,u0,(0.0,321.8122))\n\nsol = solve(prob,Rodas5(),abstol=1/10^14,reltol=1/10^14)\ntest_sol = TestSolution(sol)\nabstols = 1.0 ./ 10.0 .^ (4:11)\nreltols = 1.0 ./ 10.0 .^ (1:8);"
      ],
      "metadata": {},
      "execution_count": null
    },
    {
      "outputs": [],
      "cell_type": "code",
      "source": [
        "plot(sol)"
      ],
      "metadata": {},
      "execution_count": null
    },
    {
      "outputs": [],
      "cell_type": "code",
      "source": [
        "plot(sol,tspan=(0.0,5.0))"
      ],
      "metadata": {},
      "execution_count": null
    },
    {
      "cell_type": "markdown",
      "source": [
        "## Omissions\n\nThe following were omitted from the tests due to convergence failures. ODE.jl's\nadaptivity is not able to stabilize its algorithms, while\nGeometricIntegratorsDiffEq has not upgraded to Julia 1.0.\nGeometricIntegrators.jl's methods used to be either fail to converge at\ncomparable dts (or on some computers errors due to type conversions)."
      ],
      "metadata": {}
    },
    {
      "outputs": [],
      "cell_type": "code",
      "source": [
        "#sol = solve(prob,ode23s()); println(\"Total ODE.jl steps: $(length(sol))\")\n#using GeometricIntegratorsDiffEq\n#try\n#    sol = solve(prob,GIRadIIA3(),dt=1/10)\n#catch e\n#    println(e)\n#end"
      ],
      "metadata": {},
      "execution_count": null
    },
    {
      "cell_type": "markdown",
      "source": [
        "The stabilized explicit methods are not stable enough to handle this problem\nwell. While they don't diverge, they are really slow."
      ],
      "metadata": {}
    },
    {
      "outputs": [],
      "cell_type": "code",
      "source": [
        "setups = [\n#Dict(:alg=>ROCK2()),\n#Dict(:alg=>ROCK4())\n#Dict(:alg=>ESERK5())\n]"
      ],
      "metadata": {},
      "execution_count": null
    },
    {
      "cell_type": "markdown",
      "source": [
        "## High Tolerances\n\nThis is the speed when you just want the answer."
      ],
      "metadata": {}
    },
    {
      "outputs": [],
      "cell_type": "code",
      "source": [
        "abstols = 1.0 ./ 10.0 .^ (5:8)\nreltols = 1.0 ./ 10.0 .^ (1:4);\nsetups = [Dict(:alg=>Rosenbrock23()),\n          Dict(:alg=>Rodas3()),\n          Dict(:alg=>TRBDF2()),\n          Dict(:alg=>CVODE_BDF()),\n          Dict(:alg=>rodas()),\n          Dict(:alg=>radau()),\n          Dict(:alg=>RadauIIA5()),\n          Dict(:alg=>ROS34PW1a()),\n          Dict(:alg=>lsoda()),\n          ]\nwp = WorkPrecisionSet(prob,abstols,reltols,setups;\n                      save_everystep=false,appxsol=test_sol,maxiters=Int(1e5),numruns=10)\nplot(wp)"
      ],
      "metadata": {},
      "execution_count": null
    },
    {
      "outputs": [],
      "cell_type": "code",
      "source": [
        "wp = WorkPrecisionSet(prob,abstols,reltols,setups;dense = false,verbose=false,\n                      appxsol=test_sol,maxiters=Int(1e5),error_estimate=:l2)\nplot(wp)"
      ],
      "metadata": {},
      "execution_count": null
    },
    {
      "outputs": [],
      "cell_type": "code",
      "source": [
        "wp = WorkPrecisionSet(prob,abstols,reltols,setups;\n                      appxsol=test_sol,maxiters=Int(1e5),error_estimate=:L2)\nplot(wp)"
      ],
      "metadata": {},
      "execution_count": null
    },
    {
      "outputs": [],
      "cell_type": "code",
      "source": [
        "setups = [Dict(:alg=>Rosenbrock23()),\n          Dict(:alg=>Kvaerno3()),\n          Dict(:alg=>CVODE_BDF()),\n          Dict(:alg=>KenCarp4()),\n          Dict(:alg=>TRBDF2()),\n          Dict(:alg=>KenCarp3()),\n    # Dict(:alg=>SDIRK2()), # Removed because it's bad\n          Dict(:alg=>radau())]\nwp = WorkPrecisionSet(prob,abstols,reltols,setups;\n                      save_everystep=false,appxsol=test_sol,maxiters=Int(1e5))\nplot(wp)"
      ],
      "metadata": {},
      "execution_count": null
    },
    {
      "outputs": [],
      "cell_type": "code",
      "source": [
        "wp = WorkPrecisionSet(prob,abstols,reltols,setups;dense = false,verbose=false,\n                      appxsol=test_sol,maxiters=Int(1e5),error_estimate=:l2)\nplot(wp)"
      ],
      "metadata": {},
      "execution_count": null
    },
    {
      "outputs": [],
      "cell_type": "code",
      "source": [
        "wp = WorkPrecisionSet(prob,abstols,reltols,setups;\n                      appxsol=test_sol,maxiters=Int(1e5),error_estimate=:L2)\nplot(wp)"
      ],
      "metadata": {},
      "execution_count": null
    },
    {
      "outputs": [],
      "cell_type": "code",
      "source": [
        "setups = [Dict(:alg=>Rosenbrock23()),\n          Dict(:alg=>KenCarp5()),\n          Dict(:alg=>KenCarp4()),\n          Dict(:alg=>KenCarp3()),\n          Dict(:alg=>ARKODE(order=5)),\n          Dict(:alg=>ARKODE()),\n          Dict(:alg=>ARKODE(order=3))]\nnames = [\"Rosenbrock23\" \"KenCarp5\" \"KenCarp4\" \"KenCarp3\" \"ARKODE5\" \"ARKODE4\" \"ARKODE3\"]\nwp = WorkPrecisionSet(prob,abstols,reltols,setups;\n                      names=names,save_everystep=false,appxsol=test_sol,maxiters=Int(1e5))\nplot(wp)"
      ],
      "metadata": {},
      "execution_count": null
    },
    {
      "outputs": [],
      "cell_type": "code",
      "source": [
        "wp = WorkPrecisionSet(prob,abstols,reltols,setups;dense = false,verbose=false,\n                      appxsol=test_sol,maxiters=Int(1e5),error_estimate=:l2)\nplot(wp)"
      ],
      "metadata": {},
      "execution_count": null
    },
    {
      "outputs": [],
      "cell_type": "code",
      "source": [
        "setups = [Dict(:alg=>Rosenbrock23()),\n          Dict(:alg=>TRBDF2()),\n          Dict(:alg=>ImplicitEulerExtrapolation()),\n          #Dict(:alg=>ImplicitDeuflhardExtrapolation()), # Diverges\n          #Dict(:alg=>ImplicitHairerWannerExtrapolation()), # Diverges\n          Dict(:alg=>ABDF2()),\n          Dict(:alg=>QNDF()),\n          Dict(:alg=>Exprb43()),\n          Dict(:alg=>Exprb32()),\n]\nwp = WorkPrecisionSet(prob,abstols,reltols,setups;\n                      save_everystep=false,appxsol=test_sol,maxiters=Int(1e5))\nplot(wp)"
      ],
      "metadata": {},
      "execution_count": null
    },
    {
      "cell_type": "markdown",
      "source": [
        "### Low Tolerances\n\nThis is the speed at lower tolerances, measuring what's good when accuracy is needed."
      ],
      "metadata": {}
    },
    {
      "outputs": [],
      "cell_type": "code",
      "source": [
        "abstols = 1.0 ./ 10.0 .^ (7:13)\nreltols = 1.0 ./ 10.0 .^ (4:10)\n\nsetups = [Dict(:alg=>GRK4A()),\n          Dict(:alg=>Rodas4P()),\n          Dict(:alg=>CVODE_BDF()),\n          Dict(:alg=>ddebdf()),\n          Dict(:alg=>Rodas5()),\n          Dict(:alg=>rodas()),\n          Dict(:alg=>radau()),\n          Dict(:alg=>lsoda()),\n          Dict(:alg=>RadauIIA5()),\n]\nwp = WorkPrecisionSet(prob,abstols,reltols,setups;\n                      save_everystep=false,appxsol=test_sol,maxiters=Int(1e5))\nplot(wp)"
      ],
      "metadata": {},
      "execution_count": null
    },
    {
      "outputs": [],
      "cell_type": "code",
      "source": [
        "wp = WorkPrecisionSet(prob,abstols,reltols,setups;verbose=false,\n                      dense=false,appxsol=test_sol,maxiters=Int(1e5),error_estimate=:l2)\nplot(wp)"
      ],
      "metadata": {},
      "execution_count": null
    },
    {
      "outputs": [],
      "cell_type": "code",
      "source": [
        "wp = WorkPrecisionSet(prob,abstols,reltols,setups;\n                      appxsol=test_sol,maxiters=Int(1e5),error_estimate=:L2)\nplot(wp)"
      ],
      "metadata": {},
      "execution_count": null
    },
    {
      "outputs": [],
      "cell_type": "code",
      "source": [
        "setups = [\n          Dict(:alg=>Rodas5()),\n          Dict(:alg=>Kvaerno5()),\n          Dict(:alg=>CVODE_BDF()),\n          Dict(:alg=>KenCarp4()),\n          Dict(:alg=>Rodas4()),\n          Dict(:alg=>radau())]\nwp = WorkPrecisionSet(prob,abstols,reltols,setups;\n                      save_everystep=false,appxsol=test_sol,maxiters=Int(1e5))\nplot(wp)"
      ],
      "metadata": {},
      "execution_count": null
    },
    {
      "outputs": [],
      "cell_type": "code",
      "source": [
        "wp = WorkPrecisionSet(prob,abstols,reltols,setups;verbose=false,\n                      dense=false,appxsol=test_sol,maxiters=Int(1e5),error_estimate=:l2)\nplot(wp)"
      ],
      "metadata": {},
      "execution_count": null
    },
    {
      "outputs": [],
      "cell_type": "code",
      "source": [
        "wp = WorkPrecisionSet(prob,abstols,reltols,setups;\n                      appxsol=test_sol,maxiters=Int(1e5),error_estimate=:L2)\nplot(wp)"
      ],
      "metadata": {},
      "execution_count": null
    },
    {
      "outputs": [],
      "cell_type": "code",
      "source": [
        "setups = [Dict(:alg=>Rosenbrock23()),\n          Dict(:alg=>KenCarp5()),\n          Dict(:alg=>KenCarp4()),\n          Dict(:alg=>KenCarp3()),\n          Dict(:alg=>ARKODE(order=5)),\n          Dict(:alg=>ARKODE()),\n          Dict(:alg=>ARKODE(order=3))]\nnames = [\"Rosenbrock23\" \"KenCarp5\" \"KenCarp4\" \"KenCarp3\" \"ARKODE5\" \"ARKODE4\" \"ARKODE3\"]\nwp = WorkPrecisionSet(prob,abstols,reltols,setups;\n                      names=names,save_everystep=false,appxsol=test_sol,maxiters=Int(1e5))\nplot(wp)"
      ],
      "metadata": {},
      "execution_count": null
    },
    {
      "outputs": [],
      "cell_type": "code",
      "source": [
        "wp = WorkPrecisionSet(prob,abstols,reltols,setups;verbose=false,\n                      dense=false,appxsol=test_sol,maxiters=Int(1e5),error_estimate=:l2)\nplot(wp)"
      ],
      "metadata": {},
      "execution_count": null
    },
    {
      "cell_type": "markdown",
      "source": [
        "The following algorithms were removed since they failed."
      ],
      "metadata": {}
    },
    {
      "outputs": [],
      "cell_type": "code",
      "source": [
        "#setups = [#Dict(:alg=>Hairer4()),\n          #Dict(:alg=>Hairer42()),\n          #Dict(:alg=>Rodas3()),\n          #Dict(:alg=>Kvaerno4()),\n          #Dict(:alg=>KenCarp5()),\n          #Dict(:alg=>Cash4())\n#]\n#wp = WorkPrecisionSet(prob,abstols,reltols,setups;\n#                      save_everystep=false,appxsol=test_sol,maxiters=Int(1e5))\n#plot(wp)"
      ],
      "metadata": {},
      "execution_count": null
    },
    {
      "cell_type": "markdown",
      "source": [
        "### Conclusion\n\nAt high tolerances, `Rosenbrock23` and `lsoda` hits the the error estimates and are fast. At lower tolerances and normal user tolerances, `Rodas5` is extremely fast. When you get down to `reltol=1e-10` `radau` begins to become as efficient as `Rodas4`, and it continues to do well below that."
      ],
      "metadata": {}
    },
    {
      "outputs": [],
      "cell_type": "code",
      "source": [
        "using SciMLBenchmarks\nSciMLBenchmarks.bench_footer(WEAVE_ARGS[:folder],WEAVE_ARGS[:file])"
      ],
      "metadata": {},
      "execution_count": null
    }
  ],
  "nbformat_minor": 2,
  "metadata": {
    "language_info": {
      "file_extension": ".jl",
      "mimetype": "application/julia",
      "name": "julia",
      "version": "1.4.2"
    },
    "kernelspec": {
      "name": "julia-1.4",
      "display_name": "Julia 1.4.2",
      "language": "julia"
    }
  },
  "nbformat": 4
}
