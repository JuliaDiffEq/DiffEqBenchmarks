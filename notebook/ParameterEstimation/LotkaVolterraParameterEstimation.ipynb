{
  "cells": [
    {
      "cell_type": "markdown",
      "source": [
        "# Parameter estimation of Lotka Volterra model using optimisation methods"
      ],
      "metadata": {}
    },
    {
      "outputs": [],
      "cell_type": "code",
      "source": [
        "using ParameterizedFunctions, OrdinaryDiffEq, DiffEqParamEstim\nusing BlackBoxOptim, NLopt, Plots, RecursiveArrayTools, QuadDIRECT\ngr(fmt=:png)"
      ],
      "metadata": {},
      "execution_count": null
    },
    {
      "outputs": [],
      "cell_type": "code",
      "source": [
        "loc_bounds = Tuple{Float64, Float64}[(0, 5), (0, 5), (0, 5), (0, 5)]\nglo_bounds = Tuple{Float64, Float64}[(0, 10), (0, 10), (0, 10), (0, 10)]\nloc_init = [1,0.5,3.5,1.5]\nglo_init = [5,5,5,5]"
      ],
      "metadata": {},
      "execution_count": null
    },
    {
      "outputs": [],
      "cell_type": "code",
      "source": [
        "f = @ode_def LotkaVolterraTest begin\n    dx = a*x - b*x*y\n    dy = -c*y + d*x*y\nend a b c d"
      ],
      "metadata": {},
      "execution_count": null
    },
    {
      "outputs": [],
      "cell_type": "code",
      "source": [
        "u0 = [1.0,1.0]                          #initial values\ntspan = (0.0,10.0)\np = [1.5,1.0,3.0,1,0]                   #parameters used, these need to be estimated from the data\ntspan = (0.0, 30.0)                     # sample of 3000 observations over the (0,30) timespan\nprob = ODEProblem(f, u0, tspan,p)\ntspan2 = (0.0, 3.0)                     # sample of 3000 observations over the (0,30) timespan\nprob_short = ODEProblem(f, u0, tspan2,p)"
      ],
      "metadata": {},
      "execution_count": null
    },
    {
      "outputs": [],
      "cell_type": "code",
      "source": [
        "dt = 30.0/3000\ntf = 30.0\ntinterval = 0:dt:tf\nt  = collect(tinterval)"
      ],
      "metadata": {},
      "execution_count": null
    },
    {
      "outputs": [],
      "cell_type": "code",
      "source": [
        "h = 0.01\nM = 300\ntstart = 0.0\ntstop = tstart + M * h\ntinterval_short = 0:h:tstop\nt_short = collect(tinterval_short)"
      ],
      "metadata": {},
      "execution_count": null
    },
    {
      "outputs": [],
      "cell_type": "code",
      "source": [
        "#Generate Data\ndata_sol_short = solve(prob_short,Tsit5(),saveat=t_short,reltol=1e-9,abstol=1e-9)\ndata_short = convert(Array, data_sol_short)\ndata_sol = solve(prob,Tsit5(),saveat=t,reltol=1e-9,abstol=1e-9)\ndata = convert(Array, data_sol)"
      ],
      "metadata": {},
      "execution_count": null
    },
    {
      "cell_type": "markdown",
      "source": [
        "#### Plot of the solution\n\n##### Short Solution"
      ],
      "metadata": {}
    },
    {
      "outputs": [],
      "cell_type": "code",
      "source": [
        "p1 = plot(data_sol_short)"
      ],
      "metadata": {},
      "execution_count": null
    },
    {
      "cell_type": "markdown",
      "source": [
        "##### Longer Solution"
      ],
      "metadata": {}
    },
    {
      "outputs": [],
      "cell_type": "code",
      "source": [
        "p2 = plot(data_sol)"
      ],
      "metadata": {},
      "execution_count": null
    },
    {
      "cell_type": "markdown",
      "source": [
        "### Local Solution from the short data set"
      ],
      "metadata": {}
    },
    {
      "outputs": [],
      "cell_type": "code",
      "source": [
        "obj_short = build_loss_objective(prob_short,Tsit5(),L2Loss(t_short,data_short),tstops=t_short)\nres1 = bboptimize(obj_short;SearchRange = glo_bounds, MaxSteps = 7e3)\n# Lower tolerance could lead to smaller fitness (more accuracy)"
      ],
      "metadata": {},
      "execution_count": null
    },
    {
      "outputs": [],
      "cell_type": "code",
      "source": [
        "obj_short = build_loss_objective(prob_short,Tsit5(),L2Loss(t_short,data_short),tstops=t_short,reltol=1e-9)\nres1 = bboptimize(obj_short;SearchRange = glo_bounds, MaxSteps = 7e3)\n# Change in tolerance makes it worse"
      ],
      "metadata": {},
      "execution_count": null
    },
    {
      "outputs": [],
      "cell_type": "code",
      "source": [
        "obj_short = build_loss_objective(prob_short,Vern9(),L2Loss(t_short,data_short),tstops=t_short,reltol=1e-9,abstol=1e-9)\nres1 = bboptimize(obj_short;SearchRange = glo_bounds, MaxSteps = 7e3)\n# using the moe accurate Vern9() reduces the fitness marginally and leads to some increase in time taken"
      ],
      "metadata": {},
      "execution_count": null
    },
    {
      "cell_type": "markdown",
      "source": [
        "# Using NLopt\n\n#### Global Optimisation first"
      ],
      "metadata": {}
    },
    {
      "outputs": [],
      "cell_type": "code",
      "source": [
        "obj_short = build_loss_objective(prob_short,Vern9(),L2Loss(t_short,data_short),tstops=t_short,reltol=1e-9,abstol=1e-9)"
      ],
      "metadata": {},
      "execution_count": null
    },
    {
      "outputs": [],
      "cell_type": "code",
      "source": [
        "opt = Opt(:GN_ORIG_DIRECT_L, 4)\nlower_bounds!(opt,[0.0,0.0,0.0,0.0])\nupper_bounds!(opt,[10.0,10.0,10.0,10.0])\nmin_objective!(opt, obj_short.cost_function2)\nxtol_rel!(opt,1e-12)\nmaxeval!(opt, 10000)\n@time (minf,minx,ret) = NLopt.optimize(opt,glo_init)"
      ],
      "metadata": {},
      "execution_count": null
    },
    {
      "outputs": [],
      "cell_type": "code",
      "source": [
        "opt = Opt(:GN_CRS2_LM, 4)\nlower_bounds!(opt,[0.0,0.0,0.0,0.0])\nupper_bounds!(opt,[10.0,10.0,10.0,10.0])\nmin_objective!(opt, obj_short.cost_function2)\nxtol_rel!(opt,1e-12)\nmaxeval!(opt, 10000)\n@time (minf,minx,ret) = NLopt.optimize(opt,glo_init)"
      ],
      "metadata": {},
      "execution_count": null
    },
    {
      "outputs": [],
      "cell_type": "code",
      "source": [
        "opt = Opt(:GN_ISRES, 4)\nlower_bounds!(opt,[0.0,0.0,0.0,0.0])\nupper_bounds!(opt,[10.0,10.0,10.0,10.0])\nmin_objective!(opt, obj_short.cost_function2)\nxtol_rel!(opt,1e-12)\nmaxeval!(opt, 10000)\n@time (minf,minx,ret) = NLopt.optimize(opt,glo_init)"
      ],
      "metadata": {},
      "execution_count": null
    },
    {
      "outputs": [],
      "cell_type": "code",
      "source": [
        "opt = Opt(:GN_ESCH, 4)\nlower_bounds!(opt,[0.0,0.0,0.0,0.0])\nupper_bounds!(opt,[10.0,10.0,10.0,10.0])\nmin_objective!(opt, obj_short.cost_function2)\nxtol_rel!(opt,1e-12)\nmaxeval!(opt, 10000)\n@time (minf,minx,ret) = NLopt.optimize(opt,glo_init)"
      ],
      "metadata": {},
      "execution_count": null
    },
    {
      "cell_type": "markdown",
      "source": [
        "Now local optimization algorithms are used to check the global ones, these use the local constraints, different intial values and time step"
      ],
      "metadata": {}
    },
    {
      "outputs": [],
      "cell_type": "code",
      "source": [
        "opt = Opt(:LN_BOBYQA, 4)\nlower_bounds!(opt,[0.0,0.0,0.0,0.0])\nupper_bounds!(opt,[5.0,5.0,5.0,5.0])\nmin_objective!(opt, obj_short.cost_function2)\nxtol_rel!(opt,1e-12)\nmaxeval!(opt, 10000)\n@time (minf,minx,ret) = NLopt.optimize(opt,loc_init)"
      ],
      "metadata": {},
      "execution_count": null
    },
    {
      "outputs": [],
      "cell_type": "code",
      "source": [
        "opt = Opt(:LN_NELDERMEAD, 4)\nlower_bounds!(opt,[0.0,0.0,0.0,0.0])\nupper_bounds!(opt,[5.0,5.0,5.0,5.0])\nmin_objective!(opt, obj_short.cost_function2)\nxtol_rel!(opt,1e-12)\nmaxeval!(opt, 10000)\n@time (minf,minx,ret) = NLopt.optimize(opt,loc_init)"
      ],
      "metadata": {},
      "execution_count": null
    },
    {
      "outputs": [],
      "cell_type": "code",
      "source": [
        "opt = Opt(:LD_SLSQP, 4)\nlower_bounds!(opt,[0.0,0.0,0.0,0.0])\nupper_bounds!(opt,[5.0,5.0,5.0,5.0])\nmin_objective!(opt, obj_short.cost_function2)\nxtol_rel!(opt,1e-12)\nmaxeval!(opt, 10000)\n@time (minf,minx,ret) = NLopt.optimize(opt,loc_init)"
      ],
      "metadata": {},
      "execution_count": null
    },
    {
      "outputs": [],
      "cell_type": "code",
      "source": [
        "opt = Opt(:LN_COBYLA, 4)\nlower_bounds!(opt,[0.0,0.0,0.0,0.0])\nupper_bounds!(opt,[5.0,5.0,5.0,5.0])\nmin_objective!(opt, obj_short.cost_function2)\nxtol_rel!(opt,1e-12)\nmaxeval!(opt, 10000)\n@time (minf,minx,ret) = NLopt.optimize(opt,loc_init)"
      ],
      "metadata": {},
      "execution_count": null
    },
    {
      "outputs": [],
      "cell_type": "code",
      "source": [
        "opt = Opt(:LN_NEWUOA_BOUND, 4)\nlower_bounds!(opt,[0.0,0.0,0.0,0.0])\nupper_bounds!(opt,[5.0,5.0,5.0,5.0])\nmin_objective!(opt, obj_short.cost_function2)\nxtol_rel!(opt,1e-12)\nmaxeval!(opt, 10000)\n@time (minf,minx,ret) = NLopt.optimize(opt,loc_init)"
      ],
      "metadata": {},
      "execution_count": null
    },
    {
      "outputs": [],
      "cell_type": "code",
      "source": [
        "opt = Opt(:LN_PRAXIS, 4)\nlower_bounds!(opt,[0.0,0.0,0.0,0.0])\nupper_bounds!(opt,[5.0,5.0,5.0,5.0])\nmin_objective!(opt, obj_short.cost_function2)\nxtol_rel!(opt,1e-12)\nmaxeval!(opt, 10000)\n@time (minf,minx,ret) = NLopt.optimize(opt,loc_init)"
      ],
      "metadata": {},
      "execution_count": null
    },
    {
      "outputs": [],
      "cell_type": "code",
      "source": [
        "opt = Opt(:LN_SBPLX, 4)\nlower_bounds!(opt,[0.0,0.0,0.0,0.0])\nupper_bounds!(opt,[5.0,5.0,5.0,5.0])\nmin_objective!(opt, obj_short.cost_function2)\nxtol_rel!(opt,1e-12)\nmaxeval!(opt, 10000)\n@time (minf,minx,ret) = NLopt.optimize(opt,loc_init)"
      ],
      "metadata": {},
      "execution_count": null
    },
    {
      "outputs": [],
      "cell_type": "code",
      "source": [
        "opt = Opt(:LD_MMA, 4)\nlower_bounds!(opt,[0.0,0.0,0.0,0.0])\nupper_bounds!(opt,[5.0,5.0,5.0,5.0])\nmin_objective!(opt, obj_short.cost_function2)\nxtol_rel!(opt,1e-12)\nmaxeval!(opt, 10000)\n@time (minf,minx,ret) = NLopt.optimize(opt,loc_init)"
      ],
      "metadata": {},
      "execution_count": null
    },
    {
      "outputs": [],
      "cell_type": "code",
      "source": [
        "opt = Opt(:LD_TNEWTON_PRECOND_RESTART, 4)\nlower_bounds!(opt,[0.0,0.0,0.0,0.0])\nupper_bounds!(opt,[5.0,5.0,5.0,5.0])\nmin_objective!(opt, obj_short.cost_function2)\nxtol_rel!(opt,1e-12)\nmaxeval!(opt, 10000)\n@time (minf,minx,ret) = NLopt.optimize(opt,loc_init)"
      ],
      "metadata": {},
      "execution_count": null
    },
    {
      "cell_type": "markdown",
      "source": [
        "## Now the longer problem is solved for a global solution\n\nVern9 solver with reltol=1e-9 and abstol=1e-9 is used and the dataset is increased to 3000 observations per variable with the same integration time step of 0.01."
      ],
      "metadata": {}
    },
    {
      "outputs": [],
      "cell_type": "code",
      "source": [
        "obj = build_loss_objective(prob,Vern9(),L2Loss(t,data),tstops=t,reltol=1e-9,abstol=1e-9)\nres1 = bboptimize(obj;SearchRange = glo_bounds, MaxSteps = 4e3)"
      ],
      "metadata": {},
      "execution_count": null
    },
    {
      "outputs": [],
      "cell_type": "code",
      "source": [
        "opt = Opt(:GN_ORIG_DIRECT_L, 4)\nlower_bounds!(opt,[0.0,0.0,0.0,0.0])\nupper_bounds!(opt,[10.0,10.0,10.0,10.0])\nmin_objective!(opt, obj.cost_function2)\nxtol_rel!(opt,1e-12)\nmaxeval!(opt, 10000)\n@time (minf,minx,ret) = NLopt.optimize(opt,glo_init)"
      ],
      "metadata": {},
      "execution_count": null
    },
    {
      "outputs": [],
      "cell_type": "code",
      "source": [
        "opt = Opt(:GN_CRS2_LM, 4)\nlower_bounds!(opt,[0.0,0.0,0.0,0.0])\nupper_bounds!(opt,[10.0,10.0,10.0,10.0])\nmin_objective!(opt, obj.cost_function2)\nxtol_rel!(opt,1e-12)\nmaxeval!(opt, 20000)\n@time (minf,minx,ret) = NLopt.optimize(opt,glo_init)"
      ],
      "metadata": {},
      "execution_count": null
    },
    {
      "outputs": [],
      "cell_type": "code",
      "source": [
        "opt = Opt(:GN_ISRES, 4)\nlower_bounds!(opt,[0.0,0.0,0.0,0.0])\nupper_bounds!(opt,[10.0,10.0,10.0,10.0])\nmin_objective!(opt, obj.cost_function2)\nxtol_rel!(opt,1e-12)\nmaxeval!(opt, 50000)\n@time (minf,minx,ret) = NLopt.optimize(opt,glo_init)"
      ],
      "metadata": {},
      "execution_count": null
    },
    {
      "outputs": [],
      "cell_type": "code",
      "source": [
        "opt = Opt(:GN_ESCH, 4)\nlower_bounds!(opt,[0.0,0.0,0.0,0.0])\nupper_bounds!(opt,[10.0,10.0,10.0,10.0])\nmin_objective!(opt, obj.cost_function2)\nxtol_rel!(opt,1e-12)\nmaxeval!(opt, 20000)\n@time (minf,minx,ret) = NLopt.optimize(opt,glo_init)"
      ],
      "metadata": {},
      "execution_count": null
    },
    {
      "outputs": [],
      "cell_type": "code",
      "source": [
        "opt = Opt(:LN_BOBYQA, 4)\nlower_bounds!(opt,[0.0,0.0,0.0,0.0])\nupper_bounds!(opt,[5.0,5.0,5.0,5.0])\nmin_objective!(opt, obj.cost_function2)\nxtol_rel!(opt,1e-12)\nmaxeval!(opt, 10000)\n@time (minf,minx,ret) = NLopt.optimize(opt,loc_init)"
      ],
      "metadata": {},
      "execution_count": null
    },
    {
      "outputs": [],
      "cell_type": "code",
      "source": [
        "opt = Opt(:LN_NELDERMEAD, 4)\nlower_bounds!(opt,[0.0,0.0,0.0,0.0])\nupper_bounds!(opt,[5.0,5.0,5.0,5.0])\nmin_objective!(opt, obj.cost_function2)\nxtol_rel!(opt,1e-9)\nmaxeval!(opt, 10000)\n@time (minf,minx,ret) = NLopt.optimize(opt,loc_init)"
      ],
      "metadata": {},
      "execution_count": null
    },
    {
      "outputs": [],
      "cell_type": "code",
      "source": [
        "opt = Opt(:LD_SLSQP, 4)\nlower_bounds!(opt,[0.0,0.0,0.0,0.0])\nupper_bounds!(opt,[5.0,5.0,5.0,5.0])\nmin_objective!(opt, obj.cost_function2)\nxtol_rel!(opt,1e-12)\nmaxeval!(opt, 10000)\n@time (minf,minx,ret) = NLopt.optimize(opt,loc_init)"
      ],
      "metadata": {},
      "execution_count": null
    },
    {
      "cell_type": "markdown",
      "source": [
        "#### Using QuadDIRECT"
      ],
      "metadata": {}
    },
    {
      "outputs": [],
      "cell_type": "code",
      "source": [
        "obj_short = build_loss_objective(prob_short,Tsit5(),L2Loss(t_short,data_short),tstops=t_short)\nlower = [0.0,0.0,0.0,0.0]\nupper = [5.0,5.0,5.0,5.0]\nsplits = ([0.0,1.0,3.0],[0.0,1.0,3.0],[0.0,1.0,3.0],[0.0,1.0,3.0])\nroot, x0 = analyze(obj_short,splits,lower,upper)"
      ],
      "metadata": {},
      "execution_count": null
    },
    {
      "outputs": [],
      "cell_type": "code",
      "source": [
        "minimum(root)"
      ],
      "metadata": {},
      "execution_count": null
    },
    {
      "outputs": [],
      "cell_type": "code",
      "source": [
        "obj = build_loss_objective(prob,Vern9(),L2Loss(t,data),tstops=t,reltol=1e-9,abstol=1e-9)\nlower = [0.0,0.0,0.0,0.0]\nupper = [10.0,10.0,10.0,10.0]\nsplits = ([0.0,3.0,6.0],[0.0,3.0,6.0],[0.0,3.0,6.0],[0.0,3.0,6.0])\nroot, x0 = analyze(obj,splits,lower,upper)"
      ],
      "metadata": {},
      "execution_count": null
    },
    {
      "outputs": [],
      "cell_type": "code",
      "source": [
        "minimum(root)"
      ],
      "metadata": {},
      "execution_count": null
    },
    {
      "cell_type": "markdown",
      "source": [
        "#### Parameter estimation on the longer sample proves to be extremely challenging for some of the global optimizers. A few give the accurate values, BlacBoxOptim also performs quite well while others seem to struggle with accuracy a lot.\n\n# Conclusion\n\nIn general we observe that lower tolerance lead to higher accuracy but too low tolerance could affect the convergance time drastically. Also fitting a shorter timespan seems to be easier in comparision (quite intutively). NLOpt methods seem to give great accuracy in the shorter problem with a lot of the algorithms giving 0 fitness, BBO performs very well on it with marginal change with `tol` values. In case of global optimization of the longer problem  there is some difference in the perfomance amongst the algorithms with `LD_SLSQP` `GN_ESCH` `GN_ISRES` `GN_ORIG_DIRECT_L` performing among the worse, BBO also gives a bit high fitness in comparison. QuadDIRECT gives accurate results in the case of the shorter problem but doesn't perform very well in the longer problem case."
      ],
      "metadata": {}
    },
    {
      "outputs": [],
      "cell_type": "code",
      "source": [
        "using DiffEqBenchmarks\nDiffEqBenchmarks.bench_footer(WEAVE_ARGS[:folder],WEAVE_ARGS[:file])"
      ],
      "metadata": {},
      "execution_count": null
    }
  ],
  "nbformat_minor": 2,
  "metadata": {
    "language_info": {
      "file_extension": ".jl",
      "mimetype": "application/julia",
      "name": "julia",
      "version": "1.4.2"
    },
    "kernelspec": {
      "name": "julia-1.4",
      "display_name": "Julia 1.4.2",
      "language": "julia"
    }
  },
  "nbformat": 4
}
