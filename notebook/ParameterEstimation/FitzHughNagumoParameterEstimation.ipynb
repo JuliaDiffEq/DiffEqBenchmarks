{
  "cells": [
    {
      "cell_type": "markdown",
      "source": [
        "# Parameter estimation of FitzHugh-Nagumo model using optimisation methods"
      ],
      "metadata": {}
    },
    {
      "outputs": [],
      "cell_type": "code",
      "source": [
        "using ParameterizedFunctions, OrdinaryDiffEq, DiffEqParamEstim\nusing BlackBoxOptim, NLopt, Plots,QuadDIRECT\ngr(fmt=:png)"
      ],
      "metadata": {},
      "execution_count": null
    },
    {
      "outputs": [],
      "cell_type": "code",
      "source": [
        "loc_bounds = Tuple{Float64,Float64}[(0, 1), (0, 1), (0, 1), (0, 1)]\nglo_bounds = Tuple{Float64,Float64}[(0, 5), (0, 5), (0, 5), (0, 5)]\nloc_init = [0.5,0.5,0.5,0.5]\nglo_init = [2.5,2.5,2.5,2.5]"
      ],
      "metadata": {},
      "execution_count": null
    },
    {
      "outputs": [],
      "cell_type": "code",
      "source": [
        "fitz = @ode_def FitzhughNagumo begin\n  dv = v - v^3/3 -w + l\n  dw = τinv*(v +  a - b*w)\nend a b τinv l"
      ],
      "metadata": {},
      "execution_count": null
    },
    {
      "outputs": [],
      "cell_type": "code",
      "source": [
        "p = [0.7,0.8,0.08,0.5]              # Parameters used to construct the dataset\nr0 = [1.0; 1.0]                     # initial value\ntspan = (0.0, 30.0)                 # sample of 3000 observations over the (0,30) timespan\nprob = ODEProblem(fitz, r0, tspan,p)\ntspan2 = (0.0, 3.0)                 # sample of 300 observations with a timestep of 0.01\nprob_short = ODEProblem(fitz, r0, tspan2,p)"
      ],
      "metadata": {},
      "execution_count": null
    },
    {
      "outputs": [],
      "cell_type": "code",
      "source": [
        "dt = 30.0/3000\ntf = 30.0\ntinterval = 0:dt:tf\nt  = collect(tinterval)"
      ],
      "metadata": {},
      "execution_count": null
    },
    {
      "outputs": [],
      "cell_type": "code",
      "source": [
        "h = 0.01\nM = 300\ntstart = 0.0\ntstop = tstart + M * h\ntinterval_short = 0:h:tstop\nt_short = collect(tinterval_short)"
      ],
      "metadata": {},
      "execution_count": null
    },
    {
      "outputs": [],
      "cell_type": "code",
      "source": [
        "#Generate Data\ndata_sol_short = solve(prob_short,Vern9(),saveat=t_short,reltol=1e-9,abstol=1e-9)\ndata_short = convert(Array, data_sol_short) # This operation produces column major dataset obs as columns, equations as rows\ndata_sol = solve(prob,Vern9(),saveat=t,reltol=1e-9,abstol=1e-9)\ndata = convert(Array, data_sol)"
      ],
      "metadata": {},
      "execution_count": null
    },
    {
      "cell_type": "markdown",
      "source": [
        "#### Plot of the solution\n\n##### Short Solution"
      ],
      "metadata": {}
    },
    {
      "outputs": [],
      "cell_type": "code",
      "source": [
        "plot(data_sol_short)"
      ],
      "metadata": {},
      "execution_count": null
    },
    {
      "cell_type": "markdown",
      "source": [
        "##### Longer Solution"
      ],
      "metadata": {}
    },
    {
      "outputs": [],
      "cell_type": "code",
      "source": [
        "plot(data_sol)"
      ],
      "metadata": {},
      "execution_count": null
    },
    {
      "cell_type": "markdown",
      "source": [
        "## Local Solution from the short data set"
      ],
      "metadata": {}
    },
    {
      "outputs": [],
      "cell_type": "code",
      "source": [
        "obj_short = build_loss_objective(prob_short,Tsit5(),L2Loss(t_short,data_short),tstops=t_short)\nres1 = bboptimize(obj_short;SearchRange = glo_bounds, MaxSteps = 7e3)\n# Lower tolerance could lead to smaller fitness (more accuracy)"
      ],
      "metadata": {},
      "execution_count": null
    },
    {
      "outputs": [],
      "cell_type": "code",
      "source": [
        "obj_short = build_loss_objective(prob_short,Tsit5(),L2Loss(t_short,data_short),tstops=t_short,reltol=1e-9)\nres1 = bboptimize(obj_short;SearchRange = glo_bounds, MaxSteps = 7e3)\n# Change in tolerance makes it worse"
      ],
      "metadata": {},
      "execution_count": null
    },
    {
      "outputs": [],
      "cell_type": "code",
      "source": [
        "obj_short = build_loss_objective(prob_short,Vern9(),L2Loss(t_short,data_short),tstops=t_short,reltol=1e-9,abstol=1e-9)\nres1 = bboptimize(obj_short;SearchRange = glo_bounds, MaxSteps = 7e3)\n# using the moe accurate Vern9() reduces the fitness marginally and leads to some increase in time taken"
      ],
      "metadata": {},
      "execution_count": null
    },
    {
      "cell_type": "markdown",
      "source": [
        "## Using NLopt\n\n#### Global Optimisation"
      ],
      "metadata": {}
    },
    {
      "outputs": [],
      "cell_type": "code",
      "source": [
        "obj_short = build_loss_objective(prob_short,Vern9(),L2Loss(t_short,data_short),tstops=t_short,reltol=1e-9,abstol=1e-9)"
      ],
      "metadata": {},
      "execution_count": null
    },
    {
      "outputs": [],
      "cell_type": "code",
      "source": [
        "opt = Opt(:GN_ORIG_DIRECT_L, 4)\nlower_bounds!(opt,[0.0,0.0,0.0,0.0])\nupper_bounds!(opt,[5.0,5.0,5.0,5.0])\nmin_objective!(opt, obj_short.cost_function2)\nxtol_rel!(opt,1e-12)\nmaxeval!(opt, 10000)\n@time (minf,minx,ret) = NLopt.optimize(opt,glo_init)"
      ],
      "metadata": {},
      "execution_count": null
    },
    {
      "outputs": [],
      "cell_type": "code",
      "source": [
        "opt = Opt(:GN_CRS2_LM, 4)\nlower_bounds!(opt,[0.0,0.0,0.0,0.0])\nupper_bounds!(opt,[5.0,5.0,5.0,5.0])\nmin_objective!(opt, obj_short.cost_function2)\nxtol_rel!(opt,1e-12)\nmaxeval!(opt, 10000)\n@time (minf,minx,ret) = NLopt.optimize(opt,glo_init)"
      ],
      "metadata": {},
      "execution_count": null
    },
    {
      "outputs": [],
      "cell_type": "code",
      "source": [
        "opt = Opt(:GN_ISRES, 4)\nlower_bounds!(opt,[0.0,0.0,0.0,0.0])\nupper_bounds!(opt,[5.0,5.0,5.0,5.0])\nmin_objective!(opt, obj_short.cost_function2)\nxtol_rel!(opt,1e-12)\nmaxeval!(opt, 10000)\n@time (minf,minx,ret) = NLopt.optimize(opt,glo_init)"
      ],
      "metadata": {},
      "execution_count": null
    },
    {
      "outputs": [],
      "cell_type": "code",
      "source": [
        "opt = Opt(:GN_ESCH, 4)\nlower_bounds!(opt,[0.0,0.0,0.0,0.0])\nupper_bounds!(opt,[5.0,5.0,5.0,5.0])\nmin_objective!(opt, obj_short.cost_function2)\nxtol_rel!(opt,1e-12)\nmaxeval!(opt, 10000)\n@time (minf,minx,ret) = NLopt.optimize(opt,glo_init)"
      ],
      "metadata": {},
      "execution_count": null
    },
    {
      "cell_type": "markdown",
      "source": [
        "Now local optimization algorithms are used to check the global ones, these use the local constraints, different intial values and time step"
      ],
      "metadata": {}
    },
    {
      "outputs": [],
      "cell_type": "code",
      "source": [
        "opt = Opt(:LN_BOBYQA, 4)\nlower_bounds!(opt,[0.0,0.0,0.0,0.0])\nupper_bounds!(opt,[1.0,1.0,1.0,1.0])\nmin_objective!(opt, obj_short.cost_function2)\nxtol_rel!(opt,1e-12)\nmaxeval!(opt, 10000)\n@time (minf,minx,ret) = NLopt.optimize(opt,loc_init)"
      ],
      "metadata": {},
      "execution_count": null
    },
    {
      "outputs": [],
      "cell_type": "code",
      "source": [
        "opt = Opt(:LN_NELDERMEAD, 4)\nlower_bounds!(opt,[0.0,0.0,0.0,0.0])\nupper_bounds!(opt,[1.0,1.0,1.0,1.0])\nmin_objective!(opt, obj_short.cost_function2)\nxtol_rel!(opt,1e-12)\nmaxeval!(opt, 10000)\n@time (minf,minx,ret) = NLopt.optimize(opt,loc_init)"
      ],
      "metadata": {},
      "execution_count": null
    },
    {
      "outputs": [],
      "cell_type": "code",
      "source": [
        "opt = Opt(:LD_SLSQP, 4)\nlower_bounds!(opt,[0.0,0.0,0.0,0.0])\nupper_bounds!(opt,[1.0,1.0,1.0,1.0])\nmin_objective!(opt, obj_short.cost_function2)\nxtol_rel!(opt,1e-12)\nmaxeval!(opt, 10000)\n@time (minf,minx,ret) = NLopt.optimize(opt,loc_init)"
      ],
      "metadata": {},
      "execution_count": null
    },
    {
      "outputs": [],
      "cell_type": "code",
      "source": [
        "opt = Opt(:LN_COBYLA, 4)\nlower_bounds!(opt,[0.0,0.0,0.0,0.0])\nupper_bounds!(opt,[1.0,1.0,1.0,1.0])\nmin_objective!(opt, obj_short.cost_function2)\nxtol_rel!(opt,1e-12)\nmaxeval!(opt, 10000)\n@time (minf,minx,ret) = NLopt.optimize(opt,loc_init)"
      ],
      "metadata": {},
      "execution_count": null
    },
    {
      "outputs": [],
      "cell_type": "code",
      "source": [
        "opt = Opt(:LN_NEWUOA_BOUND, 4)\nlower_bounds!(opt,[0.0,0.0,0.0,0.0])\nupper_bounds!(opt,[1.0,1.0,1.0,1.0])\nmin_objective!(opt, obj_short.cost_function2)\nxtol_rel!(opt,1e-12)\nmaxeval!(opt, 10000)\n@time (minf,minx,ret) = NLopt.optimize(opt,loc_init)"
      ],
      "metadata": {},
      "execution_count": null
    },
    {
      "outputs": [],
      "cell_type": "code",
      "source": [
        "opt = Opt(:LN_PRAXIS, 4)\nlower_bounds!(opt,[0.0,0.0,0.0,0.0])\nupper_bounds!(opt,[1.0,1.0,1.0,1.0])\nmin_objective!(opt, obj_short.cost_function2)\nxtol_rel!(opt,1e-12)\nmaxeval!(opt, 10000)\n@time (minf,minx,ret) = NLopt.optimize(opt,loc_init)"
      ],
      "metadata": {},
      "execution_count": null
    },
    {
      "outputs": [],
      "cell_type": "code",
      "source": [
        "opt = Opt(:LN_SBPLX, 4)\nlower_bounds!(opt,[0.0,0.0,0.0,0.0])\nupper_bounds!(opt,[1.0,1.0,1.0,1.0])\nmin_objective!(opt, obj_short.cost_function2)\nxtol_rel!(opt,1e-12)\nmaxeval!(opt, 10000)\n@time (minf,minx,ret) = NLopt.optimize(opt,loc_init)"
      ],
      "metadata": {},
      "execution_count": null
    },
    {
      "outputs": [],
      "cell_type": "code",
      "source": [
        "opt = Opt(:LD_MMA, 4)\nlower_bounds!(opt,[0.0,0.0,0.0,0.0])\nupper_bounds!(opt,[1.0,1.0,1.0,1.0])\nmin_objective!(opt, obj_short.cost_function2)\nxtol_rel!(opt,1e-12)\nmaxeval!(opt, 10000)\n@time (minf,minx,ret) = NLopt.optimize(opt,loc_init)"
      ],
      "metadata": {},
      "execution_count": null
    },
    {
      "cell_type": "markdown",
      "source": [
        "### Now the longer problem is solved for a global solution\n\nVern9 solver with reltol=1e-9 and abstol=1e-9 is used and the dataset is increased to 3000 observations per variable with the same integration time step of 0.01."
      ],
      "metadata": {}
    },
    {
      "outputs": [],
      "cell_type": "code",
      "source": [
        "obj = build_loss_objective(prob,Vern9(),L2Loss(t,data),tstops=t,reltol=1e-9,abstol=1e-9)\nres1 = bboptimize(obj;SearchRange = glo_bounds, MaxSteps = 4e3)"
      ],
      "metadata": {},
      "execution_count": null
    },
    {
      "outputs": [],
      "cell_type": "code",
      "source": [
        "opt = Opt(:GN_ORIG_DIRECT_L, 4)\nlower_bounds!(opt,[0.0,0.0,0.0,0.0])\nupper_bounds!(opt,[5.0,5.0,5.0,5.0])\nmin_objective!(opt, obj.cost_function2)\nxtol_rel!(opt,1e-12)\nmaxeval!(opt, 10000)\n@time (minf,minx,ret) = NLopt.optimize(opt,glo_init)"
      ],
      "metadata": {},
      "execution_count": null
    },
    {
      "outputs": [],
      "cell_type": "code",
      "source": [
        "opt = Opt(:GN_CRS2_LM, 4)\nlower_bounds!(opt,[0.0,0.0,0.0,0.0])\nupper_bounds!(opt,[5.0,5.0,5.0,5.0])\nmin_objective!(opt, obj.cost_function2)\nxtol_rel!(opt,1e-12)\nmaxeval!(opt, 20000)\n@time (minf,minx,ret) = NLopt.optimize(opt,glo_init)"
      ],
      "metadata": {},
      "execution_count": null
    },
    {
      "outputs": [],
      "cell_type": "code",
      "source": [
        "opt = Opt(:GN_ISRES, 4)\nlower_bounds!(opt,[0.0,0.0,0.0,0.0])\nupper_bounds!(opt,[5.0,5.0,5.0,5.0])\nmin_objective!(opt, obj.cost_function2)\nxtol_rel!(opt,1e-12)\nmaxeval!(opt, 50000)\n@time (minf,minx,ret) = NLopt.optimize(opt,glo_init)"
      ],
      "metadata": {},
      "execution_count": null
    },
    {
      "outputs": [],
      "cell_type": "code",
      "source": [
        "opt = Opt(:GN_ESCH, 4)\nlower_bounds!(opt,[0.0,0.0,0.0,0.0])\nupper_bounds!(opt,[5.0,5.0,5.0,5.0])\nmin_objective!(opt, obj.cost_function2)\nxtol_rel!(opt,1e-12)\nmaxeval!(opt, 20000)\n@time (minf,minx,ret) = NLopt.optimize(opt,glo_init)"
      ],
      "metadata": {},
      "execution_count": null
    },
    {
      "outputs": [],
      "cell_type": "code",
      "source": [
        "opt = Opt(:LN_BOBYQA, 4)\nlower_bounds!(opt,[0.0,0.0,0.0,0.0])\nupper_bounds!(opt,[1.0,1.0,1.0,1.0])\nmin_objective!(opt, obj.cost_function2)\nxtol_rel!(opt,1e-12)\nmaxeval!(opt, 10000)\n@time (minf,minx,ret) = NLopt.optimize(opt,loc_init)"
      ],
      "metadata": {},
      "execution_count": null
    },
    {
      "outputs": [],
      "cell_type": "code",
      "source": [
        "opt = Opt(:LN_NELDERMEAD, 4)\nlower_bounds!(opt,[0.0,0.0,0.0,0.0])\nupper_bounds!(opt,[1.0,1.0,1.0,1.0])\nmin_objective!(opt, obj.cost_function2)\nxtol_rel!(opt,1e-9)\nmaxeval!(opt, 10000)\n@time (minf,minx,ret) = NLopt.optimize(opt,loc_init)"
      ],
      "metadata": {},
      "execution_count": null
    },
    {
      "outputs": [],
      "cell_type": "code",
      "source": [
        "opt = Opt(:LD_SLSQP, 4)\nlower_bounds!(opt,[0.0,0.0,0.0,0.0])\nupper_bounds!(opt,[1.0,1.0,1.0,1.0])\nmin_objective!(opt, obj.cost_function2)\nxtol_rel!(opt,1e-12)\nmaxeval!(opt, 10000)\n@time (minf,minx,ret) = NLopt.optimize(opt,loc_init)"
      ],
      "metadata": {},
      "execution_count": null
    },
    {
      "cell_type": "markdown",
      "source": [
        "As expected from other problems the longer sample proves to be extremely challenging for some of the global optimizers. A few give the accurate values, while others seem to struggle with accuracy a lot.\n\n\n#### Using QuadDIRECT"
      ],
      "metadata": {}
    },
    {
      "outputs": [],
      "cell_type": "code",
      "source": [
        "obj_short = build_loss_objective(prob_short,Tsit5(),L2Loss(t_short,data_short),tstops=t_short)\nlower = [0,0,0,0]\nupper = [1,1,1,1]\nsplits = ([0,0.3,0.7],[0,0.3,0.7],[0,0.3,0.7],[0,0.3,0.7])\n@time root, x0 = analyze(obj_short,splits,lower,upper)"
      ],
      "metadata": {},
      "execution_count": null
    },
    {
      "outputs": [],
      "cell_type": "code",
      "source": [
        "minimum(root)"
      ],
      "metadata": {},
      "execution_count": null
    },
    {
      "outputs": [],
      "cell_type": "code",
      "source": [
        "obj = build_loss_objective(prob,Vern9(),L2Loss(t,data),tstops=t,reltol=1e-9,abstol=1e-9)\nlower = [0,0,0,0]\nupper = [5,5,5,5]\nsplits = ([0,0.5,1],[0,0.5,1],[0,0.5,1],[0,0.5,1])\n@time root, x0 = analyze(obj_short,splits,lower,upper)"
      ],
      "metadata": {},
      "execution_count": null
    },
    {
      "outputs": [],
      "cell_type": "code",
      "source": [
        "minimum(root)"
      ],
      "metadata": {},
      "execution_count": null
    },
    {
      "cell_type": "markdown",
      "source": [
        "# Conclusion\n\nIt is observed that lower tolerance lead to higher accuracy but too low tolerance could affect the convergance time drastically. Also fitting a shorter timespan seems to be easier in comparision (quite intutively). NLOpt methods seem to give great accuracy in the shorter problem with a lot of the algorithms giving 0 fitness, BBO performs very well on it with marginal change with tol values. In case of global optimization of the longer problem there is some difference in the perfomance amongst the algorithms with :LN_BOBYQA giving accurate results for the local optimization and :GN_ISRES :GN_CRS2_LM in case of the global give the highest accuracy. BBO also fails to perform too well in the case of the longer problem. QuadDIRECT performs well in case of the shorter problem but fails to give good results in the longer version."
      ],
      "metadata": {}
    },
    {
      "outputs": [],
      "cell_type": "code",
      "source": [
        "using DiffEqBenchmarks\nDiffEqBenchmarks.bench_footer(WEAVE_ARGS[:folder],WEAVE_ARGS[:file])"
      ],
      "metadata": {},
      "execution_count": null
    }
  ],
  "nbformat_minor": 2,
  "metadata": {
    "language_info": {
      "file_extension": ".jl",
      "mimetype": "application/julia",
      "name": "julia",
      "version": "1.4.2"
    },
    "kernelspec": {
      "name": "julia-1.4",
      "display_name": "Julia 1.4.2",
      "language": "julia"
    }
  },
  "nbformat": 4
}
